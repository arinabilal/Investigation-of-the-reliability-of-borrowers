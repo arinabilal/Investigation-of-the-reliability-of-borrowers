{
 "cells": [
  {
   "cell_type": "markdown",
   "id": "c81daeeb",
   "metadata": {
    "deletable": false,
    "id": "c81daeeb"
   },
   "source": [
    "# Исследование надежности заемщиков\n"
   ]
  },
  {
   "cell_type": "markdown",
   "id": "744d7639",
   "metadata": {
    "deletable": false,
    "id": "744d7639"
   },
   "source": [
    "## Откройте таблицу и изучите общую информацию о данных"
   ]
  },
  {
   "cell_type": "markdown",
   "id": "e7a14c31",
   "metadata": {
    "deletable": false,
    "id": "e7a14c31"
   },
   "source": [
    "**Импортируем библиотеку pandas и считаем данные**\n",
    "\n",
    "`/datasets/data.csv`"
   ]
  },
  {
   "cell_type": "code",
   "execution_count": 914,
   "id": "7bcf75c9",
   "metadata": {
    "deletable": false,
    "id": "7bcf75c9"
   },
   "outputs": [],
   "source": [
    "import pandas as pd\n",
    "\n",
    "try:\n",
    "    data = pd.read_csv('/datasets/data.csv')\n",
    "except:\n",
    "    data = pd.read_csv('https://code.s3.yandex.net/datasets/data.csv')"
   ]
  },
  {
   "cell_type": "markdown",
   "id": "b8038fe3",
   "metadata": {
    "deletable": false,
    "id": "b8038fe3"
   },
   "source": [
    "**Задание 2. Выведите первые 20 строчек датафрейма `data` на экран.**"
   ]
  },
  {
   "cell_type": "code",
   "execution_count": 915,
   "id": "2a7cab99",
   "metadata": {
    "deletable": false,
    "id": "2a7cab99",
    "outputId": "1a8f3ef2-d323-4ec2-ddf7-89670b5944c4"
   },
   "outputs": [
    {
     "data": {
      "text/html": [
       "<div>\n",
       "<style scoped>\n",
       "    .dataframe tbody tr th:only-of-type {\n",
       "        vertical-align: middle;\n",
       "    }\n",
       "\n",
       "    .dataframe tbody tr th {\n",
       "        vertical-align: top;\n",
       "    }\n",
       "\n",
       "    .dataframe thead th {\n",
       "        text-align: right;\n",
       "    }\n",
       "</style>\n",
       "<table border=\"1\" class=\"dataframe\">\n",
       "  <thead>\n",
       "    <tr style=\"text-align: right;\">\n",
       "      <th></th>\n",
       "      <th>children</th>\n",
       "      <th>days_employed</th>\n",
       "      <th>dob_years</th>\n",
       "      <th>education</th>\n",
       "      <th>education_id</th>\n",
       "      <th>family_status</th>\n",
       "      <th>family_status_id</th>\n",
       "      <th>gender</th>\n",
       "      <th>income_type</th>\n",
       "      <th>debt</th>\n",
       "      <th>total_income</th>\n",
       "      <th>purpose</th>\n",
       "    </tr>\n",
       "  </thead>\n",
       "  <tbody>\n",
       "    <tr>\n",
       "      <th>0</th>\n",
       "      <td>1</td>\n",
       "      <td>-8437.673028</td>\n",
       "      <td>42</td>\n",
       "      <td>высшее</td>\n",
       "      <td>0</td>\n",
       "      <td>женат / замужем</td>\n",
       "      <td>0</td>\n",
       "      <td>F</td>\n",
       "      <td>сотрудник</td>\n",
       "      <td>0</td>\n",
       "      <td>253875.639453</td>\n",
       "      <td>покупка жилья</td>\n",
       "    </tr>\n",
       "    <tr>\n",
       "      <th>1</th>\n",
       "      <td>1</td>\n",
       "      <td>-4024.803754</td>\n",
       "      <td>36</td>\n",
       "      <td>среднее</td>\n",
       "      <td>1</td>\n",
       "      <td>женат / замужем</td>\n",
       "      <td>0</td>\n",
       "      <td>F</td>\n",
       "      <td>сотрудник</td>\n",
       "      <td>0</td>\n",
       "      <td>112080.014102</td>\n",
       "      <td>приобретение автомобиля</td>\n",
       "    </tr>\n",
       "    <tr>\n",
       "      <th>2</th>\n",
       "      <td>0</td>\n",
       "      <td>-5623.422610</td>\n",
       "      <td>33</td>\n",
       "      <td>Среднее</td>\n",
       "      <td>1</td>\n",
       "      <td>женат / замужем</td>\n",
       "      <td>0</td>\n",
       "      <td>M</td>\n",
       "      <td>сотрудник</td>\n",
       "      <td>0</td>\n",
       "      <td>145885.952297</td>\n",
       "      <td>покупка жилья</td>\n",
       "    </tr>\n",
       "    <tr>\n",
       "      <th>3</th>\n",
       "      <td>3</td>\n",
       "      <td>-4124.747207</td>\n",
       "      <td>32</td>\n",
       "      <td>среднее</td>\n",
       "      <td>1</td>\n",
       "      <td>женат / замужем</td>\n",
       "      <td>0</td>\n",
       "      <td>M</td>\n",
       "      <td>сотрудник</td>\n",
       "      <td>0</td>\n",
       "      <td>267628.550329</td>\n",
       "      <td>дополнительное образование</td>\n",
       "    </tr>\n",
       "    <tr>\n",
       "      <th>4</th>\n",
       "      <td>0</td>\n",
       "      <td>340266.072047</td>\n",
       "      <td>53</td>\n",
       "      <td>среднее</td>\n",
       "      <td>1</td>\n",
       "      <td>гражданский брак</td>\n",
       "      <td>1</td>\n",
       "      <td>F</td>\n",
       "      <td>пенсионер</td>\n",
       "      <td>0</td>\n",
       "      <td>158616.077870</td>\n",
       "      <td>сыграть свадьбу</td>\n",
       "    </tr>\n",
       "    <tr>\n",
       "      <th>5</th>\n",
       "      <td>0</td>\n",
       "      <td>-926.185831</td>\n",
       "      <td>27</td>\n",
       "      <td>высшее</td>\n",
       "      <td>0</td>\n",
       "      <td>гражданский брак</td>\n",
       "      <td>1</td>\n",
       "      <td>M</td>\n",
       "      <td>компаньон</td>\n",
       "      <td>0</td>\n",
       "      <td>255763.565419</td>\n",
       "      <td>покупка жилья</td>\n",
       "    </tr>\n",
       "    <tr>\n",
       "      <th>6</th>\n",
       "      <td>0</td>\n",
       "      <td>-2879.202052</td>\n",
       "      <td>43</td>\n",
       "      <td>высшее</td>\n",
       "      <td>0</td>\n",
       "      <td>женат / замужем</td>\n",
       "      <td>0</td>\n",
       "      <td>F</td>\n",
       "      <td>компаньон</td>\n",
       "      <td>0</td>\n",
       "      <td>240525.971920</td>\n",
       "      <td>операции с жильем</td>\n",
       "    </tr>\n",
       "    <tr>\n",
       "      <th>7</th>\n",
       "      <td>0</td>\n",
       "      <td>-152.779569</td>\n",
       "      <td>50</td>\n",
       "      <td>СРЕДНЕЕ</td>\n",
       "      <td>1</td>\n",
       "      <td>женат / замужем</td>\n",
       "      <td>0</td>\n",
       "      <td>M</td>\n",
       "      <td>сотрудник</td>\n",
       "      <td>0</td>\n",
       "      <td>135823.934197</td>\n",
       "      <td>образование</td>\n",
       "    </tr>\n",
       "    <tr>\n",
       "      <th>8</th>\n",
       "      <td>2</td>\n",
       "      <td>-6929.865299</td>\n",
       "      <td>35</td>\n",
       "      <td>ВЫСШЕЕ</td>\n",
       "      <td>0</td>\n",
       "      <td>гражданский брак</td>\n",
       "      <td>1</td>\n",
       "      <td>F</td>\n",
       "      <td>сотрудник</td>\n",
       "      <td>0</td>\n",
       "      <td>95856.832424</td>\n",
       "      <td>на проведение свадьбы</td>\n",
       "    </tr>\n",
       "    <tr>\n",
       "      <th>9</th>\n",
       "      <td>0</td>\n",
       "      <td>-2188.756445</td>\n",
       "      <td>41</td>\n",
       "      <td>среднее</td>\n",
       "      <td>1</td>\n",
       "      <td>женат / замужем</td>\n",
       "      <td>0</td>\n",
       "      <td>M</td>\n",
       "      <td>сотрудник</td>\n",
       "      <td>0</td>\n",
       "      <td>144425.938277</td>\n",
       "      <td>покупка жилья для семьи</td>\n",
       "    </tr>\n",
       "    <tr>\n",
       "      <th>10</th>\n",
       "      <td>2</td>\n",
       "      <td>-4171.483647</td>\n",
       "      <td>36</td>\n",
       "      <td>высшее</td>\n",
       "      <td>0</td>\n",
       "      <td>женат / замужем</td>\n",
       "      <td>0</td>\n",
       "      <td>M</td>\n",
       "      <td>компаньон</td>\n",
       "      <td>0</td>\n",
       "      <td>113943.491460</td>\n",
       "      <td>покупка недвижимости</td>\n",
       "    </tr>\n",
       "    <tr>\n",
       "      <th>11</th>\n",
       "      <td>0</td>\n",
       "      <td>-792.701887</td>\n",
       "      <td>40</td>\n",
       "      <td>среднее</td>\n",
       "      <td>1</td>\n",
       "      <td>женат / замужем</td>\n",
       "      <td>0</td>\n",
       "      <td>F</td>\n",
       "      <td>сотрудник</td>\n",
       "      <td>0</td>\n",
       "      <td>77069.234271</td>\n",
       "      <td>покупка коммерческой недвижимости</td>\n",
       "    </tr>\n",
       "    <tr>\n",
       "      <th>12</th>\n",
       "      <td>0</td>\n",
       "      <td>NaN</td>\n",
       "      <td>65</td>\n",
       "      <td>среднее</td>\n",
       "      <td>1</td>\n",
       "      <td>гражданский брак</td>\n",
       "      <td>1</td>\n",
       "      <td>M</td>\n",
       "      <td>пенсионер</td>\n",
       "      <td>0</td>\n",
       "      <td>NaN</td>\n",
       "      <td>сыграть свадьбу</td>\n",
       "    </tr>\n",
       "    <tr>\n",
       "      <th>13</th>\n",
       "      <td>0</td>\n",
       "      <td>-1846.641941</td>\n",
       "      <td>54</td>\n",
       "      <td>неоконченное высшее</td>\n",
       "      <td>2</td>\n",
       "      <td>женат / замужем</td>\n",
       "      <td>0</td>\n",
       "      <td>F</td>\n",
       "      <td>сотрудник</td>\n",
       "      <td>0</td>\n",
       "      <td>130458.228857</td>\n",
       "      <td>приобретение автомобиля</td>\n",
       "    </tr>\n",
       "    <tr>\n",
       "      <th>14</th>\n",
       "      <td>0</td>\n",
       "      <td>-1844.956182</td>\n",
       "      <td>56</td>\n",
       "      <td>высшее</td>\n",
       "      <td>0</td>\n",
       "      <td>гражданский брак</td>\n",
       "      <td>1</td>\n",
       "      <td>F</td>\n",
       "      <td>компаньон</td>\n",
       "      <td>1</td>\n",
       "      <td>165127.911772</td>\n",
       "      <td>покупка жилой недвижимости</td>\n",
       "    </tr>\n",
       "    <tr>\n",
       "      <th>15</th>\n",
       "      <td>1</td>\n",
       "      <td>-972.364419</td>\n",
       "      <td>26</td>\n",
       "      <td>среднее</td>\n",
       "      <td>1</td>\n",
       "      <td>женат / замужем</td>\n",
       "      <td>0</td>\n",
       "      <td>F</td>\n",
       "      <td>сотрудник</td>\n",
       "      <td>0</td>\n",
       "      <td>116820.904450</td>\n",
       "      <td>строительство собственной недвижимости</td>\n",
       "    </tr>\n",
       "    <tr>\n",
       "      <th>16</th>\n",
       "      <td>0</td>\n",
       "      <td>-1719.934226</td>\n",
       "      <td>35</td>\n",
       "      <td>среднее</td>\n",
       "      <td>1</td>\n",
       "      <td>женат / замужем</td>\n",
       "      <td>0</td>\n",
       "      <td>F</td>\n",
       "      <td>сотрудник</td>\n",
       "      <td>0</td>\n",
       "      <td>289202.704229</td>\n",
       "      <td>недвижимость</td>\n",
       "    </tr>\n",
       "    <tr>\n",
       "      <th>17</th>\n",
       "      <td>0</td>\n",
       "      <td>-2369.999720</td>\n",
       "      <td>33</td>\n",
       "      <td>высшее</td>\n",
       "      <td>0</td>\n",
       "      <td>гражданский брак</td>\n",
       "      <td>1</td>\n",
       "      <td>M</td>\n",
       "      <td>сотрудник</td>\n",
       "      <td>0</td>\n",
       "      <td>90410.586745</td>\n",
       "      <td>строительство недвижимости</td>\n",
       "    </tr>\n",
       "    <tr>\n",
       "      <th>18</th>\n",
       "      <td>0</td>\n",
       "      <td>400281.136913</td>\n",
       "      <td>53</td>\n",
       "      <td>среднее</td>\n",
       "      <td>1</td>\n",
       "      <td>вдовец / вдова</td>\n",
       "      <td>2</td>\n",
       "      <td>F</td>\n",
       "      <td>пенсионер</td>\n",
       "      <td>0</td>\n",
       "      <td>56823.777243</td>\n",
       "      <td>на покупку подержанного автомобиля</td>\n",
       "    </tr>\n",
       "    <tr>\n",
       "      <th>19</th>\n",
       "      <td>0</td>\n",
       "      <td>-10038.818549</td>\n",
       "      <td>48</td>\n",
       "      <td>СРЕДНЕЕ</td>\n",
       "      <td>1</td>\n",
       "      <td>в разводе</td>\n",
       "      <td>3</td>\n",
       "      <td>F</td>\n",
       "      <td>сотрудник</td>\n",
       "      <td>0</td>\n",
       "      <td>242831.107982</td>\n",
       "      <td>на покупку своего автомобиля</td>\n",
       "    </tr>\n",
       "  </tbody>\n",
       "</table>\n",
       "</div>"
      ],
      "text/plain": [
       "    children  days_employed  dob_years            education  education_id  \\\n",
       "0          1   -8437.673028         42               высшее             0   \n",
       "1          1   -4024.803754         36              среднее             1   \n",
       "2          0   -5623.422610         33              Среднее             1   \n",
       "3          3   -4124.747207         32              среднее             1   \n",
       "4          0  340266.072047         53              среднее             1   \n",
       "5          0    -926.185831         27               высшее             0   \n",
       "6          0   -2879.202052         43               высшее             0   \n",
       "7          0    -152.779569         50              СРЕДНЕЕ             1   \n",
       "8          2   -6929.865299         35               ВЫСШЕЕ             0   \n",
       "9          0   -2188.756445         41              среднее             1   \n",
       "10         2   -4171.483647         36               высшее             0   \n",
       "11         0    -792.701887         40              среднее             1   \n",
       "12         0            NaN         65              среднее             1   \n",
       "13         0   -1846.641941         54  неоконченное высшее             2   \n",
       "14         0   -1844.956182         56               высшее             0   \n",
       "15         1    -972.364419         26              среднее             1   \n",
       "16         0   -1719.934226         35              среднее             1   \n",
       "17         0   -2369.999720         33               высшее             0   \n",
       "18         0  400281.136913         53              среднее             1   \n",
       "19         0  -10038.818549         48              СРЕДНЕЕ             1   \n",
       "\n",
       "       family_status  family_status_id gender income_type  debt  \\\n",
       "0    женат / замужем                 0      F   сотрудник     0   \n",
       "1    женат / замужем                 0      F   сотрудник     0   \n",
       "2    женат / замужем                 0      M   сотрудник     0   \n",
       "3    женат / замужем                 0      M   сотрудник     0   \n",
       "4   гражданский брак                 1      F   пенсионер     0   \n",
       "5   гражданский брак                 1      M   компаньон     0   \n",
       "6    женат / замужем                 0      F   компаньон     0   \n",
       "7    женат / замужем                 0      M   сотрудник     0   \n",
       "8   гражданский брак                 1      F   сотрудник     0   \n",
       "9    женат / замужем                 0      M   сотрудник     0   \n",
       "10   женат / замужем                 0      M   компаньон     0   \n",
       "11   женат / замужем                 0      F   сотрудник     0   \n",
       "12  гражданский брак                 1      M   пенсионер     0   \n",
       "13   женат / замужем                 0      F   сотрудник     0   \n",
       "14  гражданский брак                 1      F   компаньон     1   \n",
       "15   женат / замужем                 0      F   сотрудник     0   \n",
       "16   женат / замужем                 0      F   сотрудник     0   \n",
       "17  гражданский брак                 1      M   сотрудник     0   \n",
       "18    вдовец / вдова                 2      F   пенсионер     0   \n",
       "19         в разводе                 3      F   сотрудник     0   \n",
       "\n",
       "     total_income                                 purpose  \n",
       "0   253875.639453                           покупка жилья  \n",
       "1   112080.014102                 приобретение автомобиля  \n",
       "2   145885.952297                           покупка жилья  \n",
       "3   267628.550329              дополнительное образование  \n",
       "4   158616.077870                         сыграть свадьбу  \n",
       "5   255763.565419                           покупка жилья  \n",
       "6   240525.971920                       операции с жильем  \n",
       "7   135823.934197                             образование  \n",
       "8    95856.832424                   на проведение свадьбы  \n",
       "9   144425.938277                 покупка жилья для семьи  \n",
       "10  113943.491460                    покупка недвижимости  \n",
       "11   77069.234271       покупка коммерческой недвижимости  \n",
       "12            NaN                         сыграть свадьбу  \n",
       "13  130458.228857                 приобретение автомобиля  \n",
       "14  165127.911772              покупка жилой недвижимости  \n",
       "15  116820.904450  строительство собственной недвижимости  \n",
       "16  289202.704229                            недвижимость  \n",
       "17   90410.586745              строительство недвижимости  \n",
       "18   56823.777243      на покупку подержанного автомобиля  \n",
       "19  242831.107982            на покупку своего автомобиля  "
      ]
     },
     "execution_count": 915,
     "metadata": {},
     "output_type": "execute_result"
    }
   ],
   "source": [
    "data.head(20)"
   ]
  },
  {
   "cell_type": "markdown",
   "id": "1c12e233",
   "metadata": {
    "deletable": false,
    "id": "1c12e233"
   },
   "source": [
    "**Задание 3. Выведите основную информацию о датафрейме с помощью метода `info()`.**"
   ]
  },
  {
   "cell_type": "code",
   "execution_count": 916,
   "id": "2b757bca",
   "metadata": {
    "deletable": false,
    "id": "2b757bca",
    "outputId": "15376089-8dad-46c9-b520-c05248d43158"
   },
   "outputs": [
    {
     "name": "stdout",
     "output_type": "stream",
     "text": [
      "<class 'pandas.core.frame.DataFrame'>\n",
      "RangeIndex: 21525 entries, 0 to 21524\n",
      "Data columns (total 12 columns):\n",
      " #   Column            Non-Null Count  Dtype  \n",
      "---  ------            --------------  -----  \n",
      " 0   children          21525 non-null  int64  \n",
      " 1   days_employed     19351 non-null  float64\n",
      " 2   dob_years         21525 non-null  int64  \n",
      " 3   education         21525 non-null  object \n",
      " 4   education_id      21525 non-null  int64  \n",
      " 5   family_status     21525 non-null  object \n",
      " 6   family_status_id  21525 non-null  int64  \n",
      " 7   gender            21525 non-null  object \n",
      " 8   income_type       21525 non-null  object \n",
      " 9   debt              21525 non-null  int64  \n",
      " 10  total_income      19351 non-null  float64\n",
      " 11  purpose           21525 non-null  object \n",
      "dtypes: float64(2), int64(5), object(5)\n",
      "memory usage: 2.0+ MB\n"
     ]
    }
   ],
   "source": [
    "data.info()"
   ]
  },
  {
   "cell_type": "markdown",
   "id": "333ec665",
   "metadata": {
    "deletable": false,
    "id": "333ec665"
   },
   "source": [
    "## Предобработка данных"
   ]
  },
  {
   "cell_type": "markdown",
   "id": "02d92d53",
   "metadata": {
    "deletable": false,
    "id": "02d92d53"
   },
   "source": [
    "### Удаление пропусков"
   ]
  },
  {
   "cell_type": "markdown",
   "id": "cd84967c",
   "metadata": {
    "deletable": false,
    "id": "cd84967c"
   },
   "source": [
    "**Задание 4. Выведите количество пропущенных значений для каждого столбца. Используйте комбинацию двух методов.**"
   ]
  },
  {
   "cell_type": "code",
   "execution_count": 917,
   "id": "7f9b2309",
   "metadata": {
    "deletable": false,
    "id": "7f9b2309",
    "outputId": "81f4d817-781c-465c-ed15-91ce4446810d"
   },
   "outputs": [
    {
     "data": {
      "text/plain": [
       "children               0\n",
       "days_employed       2174\n",
       "dob_years              0\n",
       "education              0\n",
       "education_id           0\n",
       "family_status          0\n",
       "family_status_id       0\n",
       "gender                 0\n",
       "income_type            0\n",
       "debt                   0\n",
       "total_income        2174\n",
       "purpose                0\n",
       "dtype: int64"
      ]
     },
     "execution_count": 917,
     "metadata": {},
     "output_type": "execute_result"
    }
   ],
   "source": [
    "data.isna().sum()"
   ]
  },
  {
   "cell_type": "markdown",
   "id": "db86e27b",
   "metadata": {
    "deletable": false,
    "id": "db86e27b"
   },
   "source": [
    "**Задание 5. В двух столбцах есть пропущенные значения. Один из них — `days_employed`. Пропуски в этом столбце вы обработаете на следующем этапе. Другой столбец с пропущенными значениями — `total_income` — хранит данные о доходах. На сумму дохода сильнее всего влияет тип занятости, поэтому заполнить пропуски в этом столбце нужно медианным значением по каждому типу из столбца `income_type`. Например, у человека с типом занятости `сотрудник` пропуск в столбце `total_income` должен быть заполнен медианным доходом среди всех записей с тем же типом.**"
   ]
  },
  {
   "cell_type": "code",
   "execution_count": 918,
   "id": "42006a93",
   "metadata": {
    "deletable": false,
    "id": "42006a93"
   },
   "outputs": [],
   "source": [
    "for t in data['income_type'].unique():\n",
    "    data.loc[(data['income_type'] == t) & (data['total_income'].isna()), 'total_income'] = \\\n",
    "    data.loc[(data['income_type'] == t), 'total_income'].median()"
   ]
  },
  {
   "cell_type": "markdown",
   "id": "89da5ece",
   "metadata": {
    "deletable": false,
    "id": "89da5ece"
   },
   "source": [
    "### Обработка аномальных значений"
   ]
  },
  {
   "cell_type": "markdown",
   "id": "57964554",
   "metadata": {
    "deletable": false,
    "id": "57964554"
   },
   "source": [
    "**Задание 6. В данных могут встречаться артефакты (аномалии) — значения, которые не отражают действительность и появились по какой-то ошибке. таким артефактом будет отрицательное количество дней трудового стажа в столбце `days_employed`. Для реальных данных это нормально. Обработайте значения в этом столбце: замените все отрицательные значения положительными с помощью метода `abs()`.**"
   ]
  },
  {
   "cell_type": "code",
   "execution_count": 919,
   "id": "f6f055bf",
   "metadata": {
    "deletable": false,
    "id": "f6f055bf"
   },
   "outputs": [],
   "source": [
    "data['days_employed'] = data['days_employed'].abs()"
   ]
  },
  {
   "cell_type": "markdown",
   "id": "6107dd2f",
   "metadata": {
    "deletable": false,
    "id": "6107dd2f"
   },
   "source": [
    "**Задание 7. Для каждого типа занятости выведите медианное значение трудового стажа `days_employed` в днях.**"
   ]
  },
  {
   "cell_type": "code",
   "execution_count": 920,
   "id": "85a5faf6",
   "metadata": {
    "deletable": false,
    "id": "85a5faf6",
    "outputId": "801ef80e-522b-4668-f34e-565af7432bcf"
   },
   "outputs": [
    {
     "data": {
      "text/plain": [
       "income_type\n",
       "безработный        366413.652744\n",
       "в декрете            3296.759962\n",
       "госслужащий          2689.368353\n",
       "компаньон            1547.382223\n",
       "пенсионер          365213.306266\n",
       "предприниматель       520.848083\n",
       "сотрудник            1574.202821\n",
       "студент               578.751554\n",
       "Name: days_employed, dtype: float64"
      ]
     },
     "execution_count": 920,
     "metadata": {},
     "output_type": "execute_result"
    }
   ],
   "source": [
    "data.groupby('income_type')['days_employed'].agg('median')"
   ]
  },
  {
   "cell_type": "markdown",
   "id": "38d1a030",
   "metadata": {
    "deletable": false,
    "id": "38d1a030"
   },
   "source": [
    "У двух типов (безработные и пенсионеры) получатся аномально большие значения. Исправить такие значения сложно, поэтому оставьте их как есть. Тем более этот столбец не понадобится вам для исследования."
   ]
  },
  {
   "cell_type": "markdown",
   "id": "d8a9f147",
   "metadata": {
    "deletable": false,
    "id": "d8a9f147"
   },
   "source": [
    "**Задание 8. Выведите перечень уникальных значений столбца `children`.**"
   ]
  },
  {
   "cell_type": "code",
   "execution_count": 921,
   "id": "ef5056eb",
   "metadata": {
    "deletable": false,
    "id": "ef5056eb",
    "outputId": "6975b15c-7f95-4697-d16d-a0c79b657b03"
   },
   "outputs": [
    {
     "data": {
      "text/plain": [
       "array([ 1,  0,  3,  2, -1,  4, 20,  5])"
      ]
     },
     "execution_count": 921,
     "metadata": {},
     "output_type": "execute_result"
    }
   ],
   "source": [
    "data['children'].unique()"
   ]
  },
  {
   "cell_type": "markdown",
   "id": "40b9ebf2",
   "metadata": {
    "deletable": false,
    "id": "40b9ebf2"
   },
   "source": [
    "**Задание 9. В столбце `children` есть два аномальных значения. Удалите строки, в которых встречаются такие аномальные значения из датафрейма `data`.**"
   ]
  },
  {
   "cell_type": "code",
   "execution_count": 922,
   "id": "3ff9801d",
   "metadata": {
    "deletable": false,
    "id": "3ff9801d"
   },
   "outputs": [],
   "source": [
    "data = data[(data['children'] != -1) & (data['children'] != 20)]"
   ]
  },
  {
   "cell_type": "markdown",
   "id": "bbc4d0ce",
   "metadata": {
    "deletable": false,
    "id": "bbc4d0ce"
   },
   "source": [
    "**Задание 10. Ещё раз выведите перечень уникальных значений столбца `children`, чтобы убедиться, что артефакты удалены.**"
   ]
  },
  {
   "cell_type": "code",
   "execution_count": 923,
   "id": "ad4fa8b7",
   "metadata": {
    "deletable": false,
    "id": "ad4fa8b7",
    "outputId": "b2097101-d49d-44d9-901b-32a65c9463d1"
   },
   "outputs": [
    {
     "data": {
      "text/plain": [
       "array([1, 0, 3, 2, 4, 5])"
      ]
     },
     "execution_count": 923,
     "metadata": {},
     "output_type": "execute_result"
    }
   ],
   "source": [
    "data['children'].unique()"
   ]
  },
  {
   "cell_type": "markdown",
   "id": "75440b63",
   "metadata": {
    "deletable": false,
    "id": "75440b63"
   },
   "source": [
    "### Удаление пропусков (продолжение)"
   ]
  },
  {
   "cell_type": "markdown",
   "id": "f4ea573f",
   "metadata": {
    "deletable": false,
    "id": "f4ea573f"
   },
   "source": [
    "**Задание 11. Заполните пропуски в столбце `days_employed` медианными значениями по каждого типа занятости `income_type`.**"
   ]
  },
  {
   "cell_type": "code",
   "execution_count": 924,
   "id": "af6b1a7e",
   "metadata": {
    "deletable": false,
    "id": "af6b1a7e"
   },
   "outputs": [],
   "source": [
    "for t in data['income_type'].unique():\n",
    "    data.loc[(data['income_type'] == t) & (data['days_employed'].isna()), 'days_employed'] = \\\n",
    "    data.loc[(data['income_type'] == t), 'days_employed'].median()"
   ]
  },
  {
   "cell_type": "markdown",
   "id": "2753f40d",
   "metadata": {
    "deletable": false,
    "id": "2753f40d"
   },
   "source": [
    "**Задание 12. Убедитесь, что все пропуски заполнены. Проверьте себя и ещё раз выведите количество пропущенных значений для каждого столбца с помощью двух методов.**"
   ]
  },
  {
   "cell_type": "code",
   "execution_count": 925,
   "id": "55f78bc2",
   "metadata": {
    "deletable": false,
    "id": "55f78bc2",
    "outputId": "8da1e4e1-358e-4e87-98c9-f261bce0a7b2"
   },
   "outputs": [
    {
     "data": {
      "text/plain": [
       "children            0\n",
       "days_employed       0\n",
       "dob_years           0\n",
       "education           0\n",
       "education_id        0\n",
       "family_status       0\n",
       "family_status_id    0\n",
       "gender              0\n",
       "income_type         0\n",
       "debt                0\n",
       "total_income        0\n",
       "purpose             0\n",
       "dtype: int64"
      ]
     },
     "execution_count": 925,
     "metadata": {},
     "output_type": "execute_result"
    }
   ],
   "source": [
    "data.isna().sum()"
   ]
  },
  {
   "cell_type": "markdown",
   "id": "ddc81e43",
   "metadata": {
    "deletable": false,
    "id": "ddc81e43"
   },
   "source": [
    "### Изменение типов данных"
   ]
  },
  {
   "cell_type": "markdown",
   "id": "42d19d24",
   "metadata": {
    "deletable": false,
    "id": "42d19d24"
   },
   "source": [
    "**Задание 13. Замените вещественный тип данных в столбце `total_income` на целочисленный с помощью метода `astype()`.**"
   ]
  },
  {
   "cell_type": "code",
   "execution_count": 926,
   "id": "920b65ad",
   "metadata": {
    "deletable": false,
    "id": "920b65ad"
   },
   "outputs": [],
   "source": [
    "data['total_income'] = data['total_income'].astype(int)"
   ]
  },
  {
   "cell_type": "markdown",
   "id": "80c420ba",
   "metadata": {
    "deletable": false,
    "id": "80c420ba"
   },
   "source": [
    "### Обработка дубликатов"
   ]
  },
  {
   "cell_type": "markdown",
   "id": "dc587695",
   "metadata": {
    "deletable": false,
    "id": "dc587695"
   },
   "source": [
    "**Задание 14. Выведите на экран количество строк-дубликатов в данных. Если такие строки присутствуют, удалите их.**"
   ]
  },
  {
   "cell_type": "code",
   "execution_count": 927,
   "id": "3ee445e4",
   "metadata": {
    "deletable": false,
    "id": "3ee445e4",
    "outputId": "9684deba-1934-42d1-99e1-cda61740f822"
   },
   "outputs": [
    {
     "data": {
      "text/plain": [
       "54"
      ]
     },
     "execution_count": 927,
     "metadata": {},
     "output_type": "execute_result"
    }
   ],
   "source": [
    "data.duplicated().sum()"
   ]
  },
  {
   "cell_type": "code",
   "execution_count": 928,
   "id": "8575fe05",
   "metadata": {
    "deletable": false,
    "id": "8575fe05"
   },
   "outputs": [],
   "source": [
    "data = data.drop_duplicates()"
   ]
  },
  {
   "cell_type": "markdown",
   "id": "9771a76c",
   "metadata": {
    "deletable": false,
    "id": "9771a76c"
   },
   "source": [
    "**Задание 15. Обработайте неявные дубликаты в столбце `education`. В этом столбце есть одни и те же значения, но записанные по-разному: с использованием заглавных и строчных букв. Приведите их к нижнему регистру. Проверьте остальные столбцы.**"
   ]
  },
  {
   "cell_type": "code",
   "execution_count": 929,
   "id": "a9f8e2bf",
   "metadata": {
    "deletable": false,
    "id": "a9f8e2bf"
   },
   "outputs": [],
   "source": [
    "data['education'] = data['education'].str.lower()"
   ]
  },
  {
   "cell_type": "markdown",
   "id": "9904cf55",
   "metadata": {
    "deletable": false,
    "id": "9904cf55"
   },
   "source": [
    "### Категоризация данных"
   ]
  },
  {
   "cell_type": "markdown",
   "id": "72fcc8a2",
   "metadata": {
    "deletable": false,
    "id": "72fcc8a2"
   },
   "source": [
    "**Задание 16. На основании диапазонов, указанных ниже, создайте в датафрейме `data` столбец `total_income_category` с категориями:**\n",
    "\n",
    "- 0–30000 — `'E'`;\n",
    "- 30001–50000 — `'D'`;\n",
    "- 50001–200000 — `'C'`;\n",
    "- 200001–1000000 — `'B'`;\n",
    "- 1000001 и выше — `'A'`.\n",
    "\n",
    "\n",
    "**Например, кредитополучателю с доходом 25000 нужно назначить категорию `'E'`, а клиенту, получающему 235000, — `'B'`. Используйте собственную функцию с именем `categorize_income()` и метод `apply()`.**"
   ]
  },
  {
   "cell_type": "code",
   "execution_count": 930,
   "id": "e1771346",
   "metadata": {
    "deletable": false,
    "id": "e1771346"
   },
   "outputs": [],
   "source": [
    "def categorize_income(income):\n",
    "    try:\n",
    "        if 0 <= income <= 30000:\n",
    "            return 'E'\n",
    "        elif 30001 <= income <= 50000:\n",
    "            return 'D'\n",
    "        elif 50001 <= income <= 200000:\n",
    "            return 'C'\n",
    "        elif 200001 <= income <= 1000000:\n",
    "            return 'B'\n",
    "        elif income >= 1000001:\n",
    "            return 'A'\n",
    "    except:\n",
    "        pass"
   ]
  },
  {
   "cell_type": "code",
   "execution_count": 931,
   "id": "d5f3586d",
   "metadata": {
    "deletable": false,
    "id": "d5f3586d"
   },
   "outputs": [],
   "source": [
    "data['total_income_category'] = data['total_income'].apply(categorize_income)"
   ]
  },
  {
   "cell_type": "markdown",
   "id": "dde49b5c",
   "metadata": {
    "deletable": false,
    "id": "dde49b5c"
   },
   "source": [
    "**Задание 17. Выведите на экран перечень уникальных целей взятия кредита из столбца `purpose`.**"
   ]
  },
  {
   "cell_type": "code",
   "execution_count": 932,
   "id": "f67ce9b3",
   "metadata": {
    "deletable": false,
    "id": "f67ce9b3",
    "outputId": "673c12d9-7d7e-4ae0-9812-c622c89dd244"
   },
   "outputs": [
    {
     "data": {
      "text/plain": [
       "array(['покупка жилья', 'приобретение автомобиля',\n",
       "       'дополнительное образование', 'сыграть свадьбу',\n",
       "       'операции с жильем', 'образование', 'на проведение свадьбы',\n",
       "       'покупка жилья для семьи', 'покупка недвижимости',\n",
       "       'покупка коммерческой недвижимости', 'покупка жилой недвижимости',\n",
       "       'строительство собственной недвижимости', 'недвижимость',\n",
       "       'строительство недвижимости', 'на покупку подержанного автомобиля',\n",
       "       'на покупку своего автомобиля',\n",
       "       'операции с коммерческой недвижимостью',\n",
       "       'строительство жилой недвижимости', 'жилье',\n",
       "       'операции со своей недвижимостью', 'автомобили',\n",
       "       'заняться образованием', 'сделка с подержанным автомобилем',\n",
       "       'получение образования', 'автомобиль', 'свадьба',\n",
       "       'получение дополнительного образования', 'покупка своего жилья',\n",
       "       'операции с недвижимостью', 'получение высшего образования',\n",
       "       'свой автомобиль', 'сделка с автомобилем',\n",
       "       'профильное образование', 'высшее образование',\n",
       "       'покупка жилья для сдачи', 'на покупку автомобиля', 'ремонт жилью',\n",
       "       'заняться высшим образованием'], dtype=object)"
      ]
     },
     "execution_count": 932,
     "metadata": {},
     "output_type": "execute_result"
    }
   ],
   "source": [
    "data['purpose'].unique()"
   ]
  },
  {
   "cell_type": "markdown",
   "id": "85d0aef0",
   "metadata": {
    "deletable": false,
    "id": "85d0aef0"
   },
   "source": [
    "**Задание 18. Создайте функцию, которая на основании данных из столбца `purpose` сформирует новый столбец `purpose_category`, в который войдут следующие категории:**\n",
    "\n",
    "- `'операции с автомобилем'`,\n",
    "- `'операции с недвижимостью'`,\n",
    "- `'проведение свадьбы'`,\n",
    "- `'получение образования'`.\n",
    "\n",
    "**Например, если в столбце `purpose` находится подстрока `'на покупку автомобиля'`, то в столбце `purpose_category` должна появиться строка `'операции с автомобилем'`.**\n",
    "\n",
    "**Используйте собственную функцию с именем `categorize_purpose()` и метод `apply()`. Изучите данные в столбце `purpose` и определите, какие подстроки помогут вам правильно определить категорию.**"
   ]
  },
  {
   "cell_type": "code",
   "execution_count": 933,
   "id": "e149fab4",
   "metadata": {
    "deletable": false,
    "id": "e149fab4"
   },
   "outputs": [],
   "source": [
    "def categorize_purpose(row):\n",
    "    try:\n",
    "        if 'автом' in row:\n",
    "            return 'операции с автомобилем'\n",
    "        elif 'жил' in row or 'недвиж' in row:\n",
    "            return 'операции с недвижимостью'\n",
    "        elif 'свад' in row:\n",
    "            return 'проведение свадьбы'\n",
    "        elif 'образов' in row:\n",
    "            return 'получение образования'\n",
    "    except:\n",
    "        return 'нет категории'"
   ]
  },
  {
   "cell_type": "code",
   "execution_count": 934,
   "id": "bf36e69b",
   "metadata": {
    "deletable": false,
    "id": "bf36e69b"
   },
   "outputs": [],
   "source": [
    "data['purpose_category'] = data['purpose'].apply(categorize_purpose)"
   ]
  },
  {
   "cell_type": "markdown",
   "id": "09b242bf",
   "metadata": {
    "deletable": false,
    "editable": false,
    "id": "09b242bf"
   },
   "source": [
    "## Исследуйте данные и ответьте на вопросы"
   ]
  },
  {
   "cell_type": "markdown",
   "id": "c5d66278",
   "metadata": {
    "deletable": false,
    "editable": false,
    "id": "c5d66278"
   },
   "source": [
    "**Задание 19. Есть ли зависимость между количеством детей и возвратом кредита в срок?**"
   ]
  },
  {
   "cell_type": "code",
   "execution_count": 935,
   "id": "2cacfc4a",
   "metadata": {
    "id": "2cacfc4a",
    "scrolled": false
   },
   "outputs": [],
   "source": [
    "# Ваш код будет здесь. Вы можете создавать новые ячейки."
   ]
  },
  {
   "cell_type": "markdown",
   "id": "a8313db2",
   "metadata": {},
   "source": [
    "Вводим переменную, в которой сгруппируем данные датафрейма по кол-ву детей с вычислениями по столбцу **debt**:"
   ]
  },
  {
   "cell_type": "code",
   "execution_count": 936,
   "id": "5c21fdeb",
   "metadata": {},
   "outputs": [],
   "source": [
    "data_debt_children_pivot = data.pivot_table(index=['children'], \n",
    "                                            values='debt', \n",
    "                                            aggfunc=['sum','count'])"
   ]
  },
  {
   "cell_type": "markdown",
   "id": "9aafb770",
   "metadata": {},
   "source": [
    "Добавляем столбец, который вычисляет процент должников внутри каждой категории:"
   ]
  },
  {
   "cell_type": "code",
   "execution_count": 937,
   "id": "8e90dac1",
   "metadata": {
    "id": "2cacfc4a",
    "scrolled": false
   },
   "outputs": [],
   "source": [
    "data_debt_children_pivot ['percentage'] = (data_debt_children_pivot['sum']\n",
    "                                           /data_debt_children_pivot['count']*100)"
   ]
  },
  {
   "cell_type": "markdown",
   "id": "af009e5b",
   "metadata": {},
   "source": [
    "Выводим результат:"
   ]
  },
  {
   "cell_type": "code",
   "execution_count": 938,
   "id": "78203b25",
   "metadata": {},
   "outputs": [
    {
     "data": {
      "text/html": [
       "<div>\n",
       "<style scoped>\n",
       "    .dataframe tbody tr th:only-of-type {\n",
       "        vertical-align: middle;\n",
       "    }\n",
       "\n",
       "    .dataframe tbody tr th {\n",
       "        vertical-align: top;\n",
       "    }\n",
       "\n",
       "    .dataframe thead tr th {\n",
       "        text-align: left;\n",
       "    }\n",
       "\n",
       "    .dataframe thead tr:last-of-type th {\n",
       "        text-align: right;\n",
       "    }\n",
       "</style>\n",
       "<table border=\"1\" class=\"dataframe\">\n",
       "  <thead>\n",
       "    <tr>\n",
       "      <th></th>\n",
       "      <th>sum</th>\n",
       "      <th>count</th>\n",
       "      <th>percentage</th>\n",
       "    </tr>\n",
       "    <tr>\n",
       "      <th></th>\n",
       "      <th>debt</th>\n",
       "      <th>debt</th>\n",
       "      <th></th>\n",
       "    </tr>\n",
       "    <tr>\n",
       "      <th>children</th>\n",
       "      <th></th>\n",
       "      <th></th>\n",
       "      <th></th>\n",
       "    </tr>\n",
       "  </thead>\n",
       "  <tbody>\n",
       "    <tr>\n",
       "      <th>0</th>\n",
       "      <td>1063</td>\n",
       "      <td>14107</td>\n",
       "      <td>7.535266</td>\n",
       "    </tr>\n",
       "    <tr>\n",
       "      <th>1</th>\n",
       "      <td>444</td>\n",
       "      <td>4809</td>\n",
       "      <td>9.232689</td>\n",
       "    </tr>\n",
       "    <tr>\n",
       "      <th>2</th>\n",
       "      <td>194</td>\n",
       "      <td>2052</td>\n",
       "      <td>9.454191</td>\n",
       "    </tr>\n",
       "    <tr>\n",
       "      <th>3</th>\n",
       "      <td>27</td>\n",
       "      <td>330</td>\n",
       "      <td>8.181818</td>\n",
       "    </tr>\n",
       "    <tr>\n",
       "      <th>4</th>\n",
       "      <td>4</td>\n",
       "      <td>41</td>\n",
       "      <td>9.756098</td>\n",
       "    </tr>\n",
       "    <tr>\n",
       "      <th>5</th>\n",
       "      <td>0</td>\n",
       "      <td>9</td>\n",
       "      <td>0.000000</td>\n",
       "    </tr>\n",
       "  </tbody>\n",
       "</table>\n",
       "</div>"
      ],
      "text/plain": [
       "           sum  count percentage\n",
       "          debt   debt           \n",
       "children                        \n",
       "0         1063  14107   7.535266\n",
       "1          444   4809   9.232689\n",
       "2          194   2052   9.454191\n",
       "3           27    330   8.181818\n",
       "4            4     41   9.756098\n",
       "5            0      9   0.000000"
      ]
     },
     "metadata": {},
     "output_type": "display_data"
    }
   ],
   "source": [
    "display(data_debt_children_pivot)"
   ]
  },
  {
   "cell_type": "markdown",
   "id": "3a6b99ec",
   "metadata": {
    "deletable": false,
    "id": "3a6b99ec"
   },
   "source": [
    "**Вывод:** Глядя на статистические данные, можно заметить, что у заёмщиков с 1им и  2мя детьми процент просрочки кредита выше всего. Реже всего просрачивают кредит заёмщики без детей.  \n",
    "Для заёмщиков с 3мя, 4мя и 5ью детьми выборка нерелевантна, так как слишком мала, необходимы дополнительные данные.\n"
   ]
  },
  {
   "cell_type": "markdown",
   "id": "97be82ca",
   "metadata": {
    "deletable": false,
    "editable": false,
    "id": "97be82ca"
   },
   "source": [
    "**Задание 20. Есть ли зависимость между семейным положением и возвратом кредита в срок?**"
   ]
  },
  {
   "cell_type": "code",
   "execution_count": 939,
   "id": "4c1fab10",
   "metadata": {
    "id": "2cacfc4a",
    "scrolled": false
   },
   "outputs": [],
   "source": [
    "# Ваш код будет здесь. Вы можете создавать новые ячейки."
   ]
  },
  {
   "cell_type": "markdown",
   "id": "6826848a",
   "metadata": {},
   "source": [
    "Вводим переменную, в которой сгруппируем данные датафрейма по семейному статусу с вычислениями по столбцу **debt**:"
   ]
  },
  {
   "cell_type": "code",
   "execution_count": 940,
   "id": "03a1e6e5",
   "metadata": {},
   "outputs": [],
   "source": [
    "data_debt_fam_stat_pivot = data.pivot_table(index=['family_status'], \n",
    "                                            values='debt', \n",
    "                                            aggfunc=['sum','count'])"
   ]
  },
  {
   "cell_type": "markdown",
   "id": "1677ee6d",
   "metadata": {},
   "source": [
    "Добавляем столбец, который вычисляет процент должников внутри каждой категории:"
   ]
  },
  {
   "cell_type": "code",
   "execution_count": 941,
   "id": "d5d4d8c7",
   "metadata": {
    "id": "2cacfc4a",
    "scrolled": false
   },
   "outputs": [],
   "source": [
    "data_debt_fam_stat_pivot ['percentage'] = (data_debt_fam_stat_pivot['sum']\n",
    "                                         /data_debt_fam_stat_pivot['count']*100)"
   ]
  },
  {
   "cell_type": "markdown",
   "id": "af09a2a3",
   "metadata": {},
   "source": [
    "Выводим результат:"
   ]
  },
  {
   "cell_type": "code",
   "execution_count": 942,
   "id": "98d32df1",
   "metadata": {},
   "outputs": [
    {
     "data": {
      "text/html": [
       "<div>\n",
       "<style scoped>\n",
       "    .dataframe tbody tr th:only-of-type {\n",
       "        vertical-align: middle;\n",
       "    }\n",
       "\n",
       "    .dataframe tbody tr th {\n",
       "        vertical-align: top;\n",
       "    }\n",
       "\n",
       "    .dataframe thead tr th {\n",
       "        text-align: left;\n",
       "    }\n",
       "\n",
       "    .dataframe thead tr:last-of-type th {\n",
       "        text-align: right;\n",
       "    }\n",
       "</style>\n",
       "<table border=\"1\" class=\"dataframe\">\n",
       "  <thead>\n",
       "    <tr>\n",
       "      <th></th>\n",
       "      <th>sum</th>\n",
       "      <th>count</th>\n",
       "      <th>percentage</th>\n",
       "    </tr>\n",
       "    <tr>\n",
       "      <th></th>\n",
       "      <th>debt</th>\n",
       "      <th>debt</th>\n",
       "      <th></th>\n",
       "    </tr>\n",
       "    <tr>\n",
       "      <th>family_status</th>\n",
       "      <th></th>\n",
       "      <th></th>\n",
       "      <th></th>\n",
       "    </tr>\n",
       "  </thead>\n",
       "  <tbody>\n",
       "    <tr>\n",
       "      <th>Не женат / не замужем</th>\n",
       "      <td>273</td>\n",
       "      <td>2796</td>\n",
       "      <td>9.763948</td>\n",
       "    </tr>\n",
       "    <tr>\n",
       "      <th>в разводе</th>\n",
       "      <td>84</td>\n",
       "      <td>1189</td>\n",
       "      <td>7.064760</td>\n",
       "    </tr>\n",
       "    <tr>\n",
       "      <th>вдовец / вдова</th>\n",
       "      <td>63</td>\n",
       "      <td>951</td>\n",
       "      <td>6.624606</td>\n",
       "    </tr>\n",
       "    <tr>\n",
       "      <th>гражданский брак</th>\n",
       "      <td>385</td>\n",
       "      <td>4146</td>\n",
       "      <td>9.286059</td>\n",
       "    </tr>\n",
       "    <tr>\n",
       "      <th>женат / замужем</th>\n",
       "      <td>927</td>\n",
       "      <td>12266</td>\n",
       "      <td>7.557476</td>\n",
       "    </tr>\n",
       "  </tbody>\n",
       "</table>\n",
       "</div>"
      ],
      "text/plain": [
       "                       sum  count percentage\n",
       "                      debt   debt           \n",
       "family_status                               \n",
       "Не женат / не замужем  273   2796   9.763948\n",
       "в разводе               84   1189   7.064760\n",
       "вдовец / вдова          63    951   6.624606\n",
       "гражданский брак       385   4146   9.286059\n",
       "женат / замужем        927  12266   7.557476"
      ]
     },
     "metadata": {},
     "output_type": "display_data"
    }
   ],
   "source": [
    "display(data_debt_fam_stat_pivot)"
   ]
  },
  {
   "cell_type": "markdown",
   "id": "1cef7837",
   "metadata": {
    "deletable": false,
    "id": "1cef7837"
   },
   "source": [
    "**Вывод:** Проведя анализ влияния семейного положения на возврат кредита в срок, можно выявить, что у людей, которые живут в гражданском браке, а также незамужних/неженатых наиболее высокие проценты просрочки выплат. Самый низкий показатель у вдов/вдовцов. Разница между минимальным показателем и максимальным незначительна - 3,2 пункта."
   ]
  },
  {
   "cell_type": "markdown",
   "id": "1e8b2fca",
   "metadata": {
    "deletable": false,
    "editable": false,
    "id": "1e8b2fca"
   },
   "source": [
    "**Задание 21. Есть ли зависимость между уровнем дохода и возвратом кредита в срок?**"
   ]
  },
  {
   "cell_type": "code",
   "execution_count": 944,
   "id": "76e2ca5c",
   "metadata": {
    "id": "2cacfc4a",
    "scrolled": false
   },
   "outputs": [],
   "source": [
    "# Ваш код будет здесь. Вы можете создавать новые ячейки."
   ]
  },
  {
   "cell_type": "markdown",
   "id": "c0ab2b9f",
   "metadata": {},
   "source": [
    "Вводим переменную, в которой сгруппируем данные датафрейма по категориям дохода с вычислениями по столбцу **debt**:"
   ]
  },
  {
   "cell_type": "code",
   "execution_count": 945,
   "id": "5c08c3bb",
   "metadata": {},
   "outputs": [],
   "source": [
    "data_debt_income_pivot = data.pivot_table(index=['total_income_category'], \n",
    "                                            values='debt', \n",
    "                                            aggfunc=['sum','count'])"
   ]
  },
  {
   "cell_type": "markdown",
   "id": "6457a6a4",
   "metadata": {},
   "source": [
    "Добавляем столбец, который вычисляет процент должников внутри каждой категории:"
   ]
  },
  {
   "cell_type": "code",
   "execution_count": 946,
   "id": "d00b9517",
   "metadata": {
    "id": "2cacfc4a",
    "scrolled": false
   },
   "outputs": [],
   "source": [
    "data_debt_income_pivot ['percentage'] = (data_debt_income_pivot['sum']\n",
    "                                         /data_debt_income_pivot['count']*100)"
   ]
  },
  {
   "cell_type": "markdown",
   "id": "caed6490",
   "metadata": {},
   "source": [
    "Выводим результат:"
   ]
  },
  {
   "cell_type": "code",
   "execution_count": 947,
   "id": "296ed996",
   "metadata": {},
   "outputs": [
    {
     "data": {
      "text/html": [
       "<div>\n",
       "<style scoped>\n",
       "    .dataframe tbody tr th:only-of-type {\n",
       "        vertical-align: middle;\n",
       "    }\n",
       "\n",
       "    .dataframe tbody tr th {\n",
       "        vertical-align: top;\n",
       "    }\n",
       "\n",
       "    .dataframe thead tr th {\n",
       "        text-align: left;\n",
       "    }\n",
       "\n",
       "    .dataframe thead tr:last-of-type th {\n",
       "        text-align: right;\n",
       "    }\n",
       "</style>\n",
       "<table border=\"1\" class=\"dataframe\">\n",
       "  <thead>\n",
       "    <tr>\n",
       "      <th></th>\n",
       "      <th>sum</th>\n",
       "      <th>count</th>\n",
       "      <th>percentage</th>\n",
       "    </tr>\n",
       "    <tr>\n",
       "      <th></th>\n",
       "      <th>debt</th>\n",
       "      <th>debt</th>\n",
       "      <th></th>\n",
       "    </tr>\n",
       "    <tr>\n",
       "      <th>total_income_category</th>\n",
       "      <th></th>\n",
       "      <th></th>\n",
       "      <th></th>\n",
       "    </tr>\n",
       "  </thead>\n",
       "  <tbody>\n",
       "    <tr>\n",
       "      <th>A</th>\n",
       "      <td>2</td>\n",
       "      <td>25</td>\n",
       "      <td>8.000000</td>\n",
       "    </tr>\n",
       "    <tr>\n",
       "      <th>B</th>\n",
       "      <td>354</td>\n",
       "      <td>5014</td>\n",
       "      <td>7.060231</td>\n",
       "    </tr>\n",
       "    <tr>\n",
       "      <th>C</th>\n",
       "      <td>1353</td>\n",
       "      <td>15938</td>\n",
       "      <td>8.489145</td>\n",
       "    </tr>\n",
       "    <tr>\n",
       "      <th>D</th>\n",
       "      <td>21</td>\n",
       "      <td>349</td>\n",
       "      <td>6.017192</td>\n",
       "    </tr>\n",
       "    <tr>\n",
       "      <th>E</th>\n",
       "      <td>2</td>\n",
       "      <td>22</td>\n",
       "      <td>9.090909</td>\n",
       "    </tr>\n",
       "  </tbody>\n",
       "</table>\n",
       "</div>"
      ],
      "text/plain": [
       "                        sum  count percentage\n",
       "                       debt   debt           \n",
       "total_income_category                        \n",
       "A                         2     25   8.000000\n",
       "B                       354   5014   7.060231\n",
       "C                      1353  15938   8.489145\n",
       "D                        21    349   6.017192\n",
       "E                         2     22   9.090909"
      ]
     },
     "metadata": {},
     "output_type": "display_data"
    }
   ],
   "source": [
    "display(data_debt_income_pivot)"
   ]
  },
  {
   "cell_type": "markdown",
   "id": "e8593def",
   "metadata": {
    "deletable": false,
    "id": "e8593def"
   },
   "source": [
    "**Вывод:** Для категорий **A, D, E** выборка слишком мала, чтобы проводить анализ.  \n",
    "Для категории **B** (доход 200 001 руб. - 1 000 000 руб.) процент должников составляет 7,1%. Для заёмщиков с более низким доходом (доход 50 0001 руб. - 200 000 руб.) процент выше - 8,5%.\n"
   ]
  },
  {
   "cell_type": "markdown",
   "id": "99ecbd1f",
   "metadata": {
    "deletable": false,
    "editable": false,
    "id": "99ecbd1f"
   },
   "source": [
    "**Задание 22. Как разные цели кредита влияют на его возврат в срок?**"
   ]
  },
  {
   "cell_type": "code",
   "execution_count": 949,
   "id": "5a6d1051",
   "metadata": {
    "id": "2cacfc4a",
    "scrolled": false
   },
   "outputs": [],
   "source": [
    "# Ваш код будет здесь. Вы можете создавать новые ячейки."
   ]
  },
  {
   "cell_type": "markdown",
   "id": "e7478eab",
   "metadata": {},
   "source": [
    "Вводим переменную, в которой сгруппируем данные датафрейма по цели кредита с вычислениями по столбцу **debt**:"
   ]
  },
  {
   "cell_type": "code",
   "execution_count": 950,
   "id": "4189b56e",
   "metadata": {},
   "outputs": [],
   "source": [
    "data_debt_purpose_pivot = data.pivot_table(index=['purpose_category'], \n",
    "                                            values='debt', \n",
    "                                            aggfunc=['sum','count'])"
   ]
  },
  {
   "cell_type": "markdown",
   "id": "81eb12ff",
   "metadata": {},
   "source": [
    "Добавляем столбец, который вычисляет процент должников внутри каждой категории:"
   ]
  },
  {
   "cell_type": "code",
   "execution_count": 951,
   "id": "db9745f7",
   "metadata": {},
   "outputs": [],
   "source": [
    "data_debt_purpose_pivot ['percentage'] = (data_debt_purpose_pivot['sum']\n",
    "                                         /data_debt_purpose_pivot['count']*100)"
   ]
  },
  {
   "cell_type": "markdown",
   "id": "3886ae46",
   "metadata": {},
   "source": [
    "Выводим результат:"
   ]
  },
  {
   "cell_type": "code",
   "execution_count": 952,
   "id": "67fa7516",
   "metadata": {},
   "outputs": [
    {
     "data": {
      "text/html": [
       "<div>\n",
       "<style scoped>\n",
       "    .dataframe tbody tr th:only-of-type {\n",
       "        vertical-align: middle;\n",
       "    }\n",
       "\n",
       "    .dataframe tbody tr th {\n",
       "        vertical-align: top;\n",
       "    }\n",
       "\n",
       "    .dataframe thead tr th {\n",
       "        text-align: left;\n",
       "    }\n",
       "\n",
       "    .dataframe thead tr:last-of-type th {\n",
       "        text-align: right;\n",
       "    }\n",
       "</style>\n",
       "<table border=\"1\" class=\"dataframe\">\n",
       "  <thead>\n",
       "    <tr>\n",
       "      <th></th>\n",
       "      <th>sum</th>\n",
       "      <th>count</th>\n",
       "      <th>percentage</th>\n",
       "    </tr>\n",
       "    <tr>\n",
       "      <th></th>\n",
       "      <th>debt</th>\n",
       "      <th>debt</th>\n",
       "      <th></th>\n",
       "    </tr>\n",
       "    <tr>\n",
       "      <th>purpose_category</th>\n",
       "      <th></th>\n",
       "      <th></th>\n",
       "      <th></th>\n",
       "    </tr>\n",
       "  </thead>\n",
       "  <tbody>\n",
       "    <tr>\n",
       "      <th>операции с автомобилем</th>\n",
       "      <td>400</td>\n",
       "      <td>4281</td>\n",
       "      <td>9.343611</td>\n",
       "    </tr>\n",
       "    <tr>\n",
       "      <th>операции с недвижимостью</th>\n",
       "      <td>780</td>\n",
       "      <td>10754</td>\n",
       "      <td>7.253115</td>\n",
       "    </tr>\n",
       "    <tr>\n",
       "      <th>получение образования</th>\n",
       "      <td>369</td>\n",
       "      <td>3989</td>\n",
       "      <td>9.250439</td>\n",
       "    </tr>\n",
       "    <tr>\n",
       "      <th>проведение свадьбы</th>\n",
       "      <td>183</td>\n",
       "      <td>2324</td>\n",
       "      <td>7.874355</td>\n",
       "    </tr>\n",
       "  </tbody>\n",
       "</table>\n",
       "</div>"
      ],
      "text/plain": [
       "                          sum  count percentage\n",
       "                         debt   debt           \n",
       "purpose_category                               \n",
       "операции с автомобилем    400   4281   9.343611\n",
       "операции с недвижимостью  780  10754   7.253115\n",
       "получение образования     369   3989   9.250439\n",
       "проведение свадьбы        183   2324   7.874355"
      ]
     },
     "metadata": {},
     "output_type": "display_data"
    }
   ],
   "source": [
    "display(data_debt_purpose_pivot)"
   ]
  },
  {
   "cell_type": "markdown",
   "id": "b4bb2ce6",
   "metadata": {
    "deletable": false,
    "id": "b4bb2ce6"
   },
   "source": [
    "**Вывод:** Сравнивая платжёспособность заёмщиков по целям кредита, нельзя сказать, что в какой-то категории прослеживается закономерность просрочек платежей, однако заметно, что для автомобиля и образования вероятность невыплаты в срок выше, чем для операций по недвижимости или относительно свадьбы."
   ]
  },
  {
   "cell_type": "markdown",
   "id": "09c3ac4c",
   "metadata": {
    "deletable": false,
    "editable": false,
    "id": "09c3ac4c"
   },
   "source": [
    "**Задание 23. Приведите возможные причины появления пропусков в исходных данных.**"
   ]
  },
  {
   "cell_type": "markdown",
   "id": "9da2ceda",
   "metadata": {
    "deletable": false,
    "id": "9da2ceda"
   },
   "source": [
    "*Ответ:*  Так как анализ связан с банковской деятельностью, пропуски в столбцах \"days_employed\" и \"total_income\" могут быть связаны с отсутствием предоставления заёмщиком официальных подтверждающих документов: выписок с работы относительно дохода и кол-ва отработанных дней."
   ]
  },
  {
   "cell_type": "markdown",
   "id": "7b0487d6",
   "metadata": {
    "deletable": false,
    "editable": false,
    "id": "7b0487d6"
   },
   "source": [
    "**Задание 24. Объясните, почему заполнить пропуски медианным значением — лучшее решение для количественных переменных.**"
   ]
  },
  {
   "cell_type": "markdown",
   "id": "7ecf2b8e",
   "metadata": {
    "deletable": false,
    "id": "7ecf2b8e"
   },
   "source": [
    "*Ответ:* Количественные переменные лучше заполнять медианным значением, поскольку при остутствии данных рациональнее всего восстановить пропуски средним значением. \n",
    "Однако среднее арифметическое брать не совсем корректно, поскольку в имеющейся выборке могут быть выбросы, которые искажают средний показатель. \n",
    "В случае с медианой выбросы находятся либо в начале, либо в конце ряда и не влияют на результат."
   ]
  },
  {
   "cell_type": "markdown",
   "id": "6db5255a",
   "metadata": {
    "deletable": false,
    "editable": false,
    "id": "6db5255a"
   },
   "source": [
    "## Общий вывод."
   ]
  },
  {
   "cell_type": "markdown",
   "id": "bad65432",
   "metadata": {
    "id": "bad65432"
   },
   "source": [
    "Для проверки влияния различных факторов на кредитоспособность заёмщиков было проведено исследование на основе предоставленных статистических данных.\n",
    "\n",
    "В ходе исследования были проверены несколько гипотез:  \n",
    "**Гипотеза 1**: Кредитоспособность заёмщика зависит от количества детей у него;  \n",
    "**Гипотеза 2**: Кредитоспособность заёмщика зависит от его семейного положения;  \n",
    "**Гипотеза 3**: Кредитоспособность заёмщика зависит от его уровня дохода;  \n",
    "**Гипотеза 4**: Цель кредита влияет на кредитоспособность заёмщика.  \n",
    "\n",
    "По итогам исследования можно сделать следующие выводы:\n",
    "\n",
    "**Гипотеза 1**: частично подтверждена.  \n",
    "* 7,5% просрочек по кредиту у заёмщиков без детей;\n",
    "* 9,2% просрочек по кредиту у заёмщиков с 1им ребёнком;\n",
    "* 9,5% просрочек по кредиту у заёмщиков с 2мя детьми.  \n",
    "\n",
    "Для анализа заёмщиков с 3мя, 4мя и 5ью детьми необходимо больше данных для более корректного отображения.  \n",
    "\n",
    "Заключение по гипотезе 1: необходимы дополнительные данные для более полного анализа всех категорий разреза.\n",
    "\n",
    "\n",
    "\n",
    "**Гипотеза 2**: подтверждена. \n",
    "* 9,8% просрочек по кредиту у неженатых/незамужних клиентов;  \n",
    "* 7,1% просрочек по кредиту у клиентов в разводе;  \n",
    "* 6,6% просрочек по кредиту у вдовцов/вдов;\n",
    "* 9,3% просрочек по кредиту у клиентов, проживающих в гражданском браке;  \n",
    "* 7,6% просрочек по кредиту женатых/замужних клиентов.  \n",
    "\n",
    "Заключение по гипотезе 2: процент неженатых/незамужних, а также проживающих в гражданском браке клиентов незначительно, но всё же выше остальных рассматриваемых категорий семейного положения. Данный признак можно учитывать при принятии решения, однако делать на нём акцент точно не стоит, поскольку разница между минимальным показателем и максимальным незначительна - 3,2 пункта.  \n",
    "\n",
    "\n",
    "\n",
    "**Гипотеза 3**: частично подтверждена.\n",
    "* 8,5% просрочек по кредиту у заёмщиков с ежемесячным доходом от 50 000 руб. до 200 000 руб.;  \n",
    "* 7,1% просрочек по кредиту у заёмщиков с ежемесячным доходом от 200 000 руб. и до 1 000 000 руб.  \n",
    "\n",
    "Для корректного анализа по остальным категориям уровня доходов недостаточно статистических данных.  \n",
    "\n",
    "Заключение по гипотезе 3: необходимы дополнительные данные для более полного анализа всех категорий разреза.  \n",
    "\n",
    "\n",
    "\n",
    "**Гипотеза 4**: подтверждена.  \n",
    "* 7,3% просрочек по кредиту, цель которого операции с недвижимостью;  \n",
    "* 7,9% просрочек по кредиту, цель которого проведение свадьбы;  \n",
    "* 9,3% просрочек по кредиту, цель которого получение образования;  \n",
    "* 9,3% просрочек по кредиту, цель которого операции с автомобилем.  \n",
    "\n",
    "Заключение по гипотезе 4: показатели кредитов для проведения свадьбы и операций с недвижимостью несущественно ниже кредитов для получения образования и операций с автомобилем. Данный признак не рекомендуется рассматривать как основной при принятии решения относительно кредитоспособности потенциального клиента, поскольку разница между минимальным показателем и максимальным незначительна - 2 пункта.  \n",
    "\n",
    "**Общее заключение**:  \n",
    "1. Необходима дополнительная статистика по гипотезам 1 и 3 для полного анализа всех категорий;  \n",
    "2. Результаты анализа гипотез 2 и 4 выявили расхождения в разных категориях рассматриваемых признаков;  \n",
    "3. Разница минимальных и максимальных показателей в гипотезах 2 и 4 не столь значительна, чтобы брать данные показатели в качестве основных, однако для более точного определения кредитоспособности клиентов данные релевантны.\n",
    "\n"
   ]
  }
 ],
 "metadata": {
  "ExecuteTimeLog": [
   {
    "duration": 552,
    "start_time": "2022-07-03T09:23:23.373Z"
   },
   {
    "duration": 23,
    "start_time": "2022-07-03T09:23:23.927Z"
   },
   {
    "duration": 17,
    "start_time": "2022-07-03T09:23:23.952Z"
   },
   {
    "duration": 11,
    "start_time": "2022-07-03T09:23:23.970Z"
   },
   {
    "duration": 60,
    "start_time": "2022-07-03T09:23:23.983Z"
   },
   {
    "duration": 4,
    "start_time": "2022-07-03T09:23:24.045Z"
   },
   {
    "duration": 13,
    "start_time": "2022-07-03T09:23:24.051Z"
   },
   {
    "duration": 5,
    "start_time": "2022-07-03T09:23:24.066Z"
   },
   {
    "duration": 8,
    "start_time": "2022-07-03T09:23:24.072Z"
   },
   {
    "duration": 6,
    "start_time": "2022-07-03T09:23:24.082Z"
   },
   {
    "duration": 60,
    "start_time": "2022-07-03T09:23:24.090Z"
   },
   {
    "duration": 9,
    "start_time": "2022-07-03T09:23:24.152Z"
   },
   {
    "duration": 5,
    "start_time": "2022-07-03T09:23:24.163Z"
   },
   {
    "duration": 23,
    "start_time": "2022-07-03T09:23:24.170Z"
   },
   {
    "duration": 31,
    "start_time": "2022-07-03T09:23:24.195Z"
   },
   {
    "duration": 11,
    "start_time": "2022-07-03T09:23:24.227Z"
   },
   {
    "duration": 8,
    "start_time": "2022-07-03T09:23:24.240Z"
   },
   {
    "duration": 12,
    "start_time": "2022-07-03T09:23:24.249Z"
   },
   {
    "duration": 17,
    "start_time": "2022-07-03T09:23:24.263Z"
   },
   {
    "duration": 12,
    "start_time": "2022-07-03T09:23:24.282Z"
   },
   {
    "duration": 19,
    "start_time": "2022-07-03T09:23:24.295Z"
   },
   {
    "duration": 57,
    "start_time": "2022-07-03T10:09:14.775Z"
   },
   {
    "duration": 14,
    "start_time": "2022-07-03T10:09:14.835Z"
   },
   {
    "duration": 21,
    "start_time": "2022-07-03T10:09:14.851Z"
   },
   {
    "duration": 10,
    "start_time": "2022-07-03T10:09:14.873Z"
   },
   {
    "duration": 47,
    "start_time": "2022-07-03T10:09:14.885Z"
   },
   {
    "duration": 3,
    "start_time": "2022-07-03T10:09:14.934Z"
   },
   {
    "duration": 16,
    "start_time": "2022-07-03T10:09:14.938Z"
   },
   {
    "duration": 7,
    "start_time": "2022-07-03T10:09:14.955Z"
   },
   {
    "duration": 10,
    "start_time": "2022-07-03T10:09:14.964Z"
   },
   {
    "duration": 7,
    "start_time": "2022-07-03T10:09:14.976Z"
   },
   {
    "duration": 44,
    "start_time": "2022-07-03T10:09:14.985Z"
   },
   {
    "duration": 10,
    "start_time": "2022-07-03T10:09:15.031Z"
   },
   {
    "duration": 32,
    "start_time": "2022-07-03T10:09:15.042Z"
   },
   {
    "duration": 24,
    "start_time": "2022-07-03T10:09:15.075Z"
   },
   {
    "duration": 30,
    "start_time": "2022-07-03T10:09:15.101Z"
   },
   {
    "duration": 14,
    "start_time": "2022-07-03T10:09:15.133Z"
   },
   {
    "duration": 7,
    "start_time": "2022-07-03T10:09:15.149Z"
   },
   {
    "duration": 16,
    "start_time": "2022-07-03T10:09:15.157Z"
   },
   {
    "duration": 27,
    "start_time": "2022-07-03T10:09:15.174Z"
   },
   {
    "duration": 10,
    "start_time": "2022-07-03T10:09:15.202Z"
   },
   {
    "duration": 15,
    "start_time": "2022-07-03T10:09:15.214Z"
   },
   {
    "duration": 15,
    "start_time": "2022-07-03T10:09:15.230Z"
   },
   {
    "duration": 7,
    "start_time": "2022-07-03T10:09:15.246Z"
   },
   {
    "duration": 9,
    "start_time": "2022-07-03T10:09:15.254Z"
   },
   {
    "duration": 5,
    "start_time": "2022-07-03T10:09:15.264Z"
   },
   {
    "duration": 56,
    "start_time": "2022-07-03T10:10:49.029Z"
   },
   {
    "duration": 14,
    "start_time": "2022-07-03T10:10:49.088Z"
   },
   {
    "duration": 22,
    "start_time": "2022-07-03T10:10:49.104Z"
   },
   {
    "duration": 10,
    "start_time": "2022-07-03T10:10:49.127Z"
   },
   {
    "duration": 33,
    "start_time": "2022-07-03T10:10:49.139Z"
   },
   {
    "duration": 3,
    "start_time": "2022-07-03T10:10:49.174Z"
   },
   {
    "duration": 13,
    "start_time": "2022-07-03T10:10:49.179Z"
   },
   {
    "duration": 5,
    "start_time": "2022-07-03T10:10:49.193Z"
   },
   {
    "duration": 31,
    "start_time": "2022-07-03T10:10:49.200Z"
   },
   {
    "duration": 4,
    "start_time": "2022-07-03T10:10:49.232Z"
   },
   {
    "duration": 35,
    "start_time": "2022-07-03T10:10:49.238Z"
   },
   {
    "duration": 9,
    "start_time": "2022-07-03T10:10:49.274Z"
   },
   {
    "duration": 5,
    "start_time": "2022-07-03T10:10:49.285Z"
   },
   {
    "duration": 37,
    "start_time": "2022-07-03T10:10:49.292Z"
   },
   {
    "duration": 16,
    "start_time": "2022-07-03T10:10:49.331Z"
   },
   {
    "duration": 13,
    "start_time": "2022-07-03T10:10:49.348Z"
   },
   {
    "duration": 5,
    "start_time": "2022-07-03T10:10:49.363Z"
   },
   {
    "duration": 15,
    "start_time": "2022-07-03T10:10:49.369Z"
   },
   {
    "duration": 6,
    "start_time": "2022-07-03T10:10:49.385Z"
   },
   {
    "duration": 8,
    "start_time": "2022-07-03T10:10:49.392Z"
   },
   {
    "duration": 32,
    "start_time": "2022-07-03T10:10:49.402Z"
   },
   {
    "duration": 14,
    "start_time": "2022-07-03T10:10:49.435Z"
   },
   {
    "duration": 60,
    "start_time": "2022-07-03T10:12:29.990Z"
   },
   {
    "duration": 15,
    "start_time": "2022-07-03T10:12:30.052Z"
   },
   {
    "duration": 23,
    "start_time": "2022-07-03T10:12:30.069Z"
   },
   {
    "duration": 20,
    "start_time": "2022-07-03T10:12:30.093Z"
   },
   {
    "duration": 55,
    "start_time": "2022-07-03T10:12:30.115Z"
   },
   {
    "duration": 4,
    "start_time": "2022-07-03T10:12:30.172Z"
   },
   {
    "duration": 37,
    "start_time": "2022-07-03T10:12:30.177Z"
   },
   {
    "duration": 8,
    "start_time": "2022-07-03T10:12:30.215Z"
   },
   {
    "duration": 20,
    "start_time": "2022-07-03T10:12:30.225Z"
   },
   {
    "duration": 14,
    "start_time": "2022-07-03T10:12:30.247Z"
   },
   {
    "duration": 65,
    "start_time": "2022-07-03T10:12:30.262Z"
   },
   {
    "duration": 12,
    "start_time": "2022-07-03T10:12:30.328Z"
   },
   {
    "duration": 8,
    "start_time": "2022-07-03T10:12:30.341Z"
   },
   {
    "duration": 24,
    "start_time": "2022-07-03T10:12:30.352Z"
   },
   {
    "duration": 18,
    "start_time": "2022-07-03T10:12:30.378Z"
   },
   {
    "duration": 33,
    "start_time": "2022-07-03T10:12:30.398Z"
   },
   {
    "duration": 15,
    "start_time": "2022-07-03T10:12:30.433Z"
   },
   {
    "duration": 15,
    "start_time": "2022-07-03T10:12:30.450Z"
   },
   {
    "duration": 12,
    "start_time": "2022-07-03T10:12:30.467Z"
   },
   {
    "duration": 13,
    "start_time": "2022-07-03T10:12:30.481Z"
   },
   {
    "duration": 23,
    "start_time": "2022-07-03T10:12:30.496Z"
   },
   {
    "duration": 15,
    "start_time": "2022-07-03T10:12:30.520Z"
   },
   {
    "duration": 56,
    "start_time": "2022-07-03T10:12:40.655Z"
   },
   {
    "duration": 15,
    "start_time": "2022-07-03T10:12:40.713Z"
   },
   {
    "duration": 22,
    "start_time": "2022-07-03T10:12:40.730Z"
   },
   {
    "duration": 12,
    "start_time": "2022-07-03T10:12:40.753Z"
   },
   {
    "duration": 41,
    "start_time": "2022-07-03T10:12:40.767Z"
   },
   {
    "duration": 4,
    "start_time": "2022-07-03T10:12:40.809Z"
   },
   {
    "duration": 16,
    "start_time": "2022-07-03T10:12:40.814Z"
   },
   {
    "duration": 3,
    "start_time": "2022-07-03T10:12:40.832Z"
   },
   {
    "duration": 16,
    "start_time": "2022-07-03T10:12:40.837Z"
   },
   {
    "duration": 8,
    "start_time": "2022-07-03T10:12:40.855Z"
   },
   {
    "duration": 37,
    "start_time": "2022-07-03T10:12:40.865Z"
   },
   {
    "duration": 11,
    "start_time": "2022-07-03T10:12:40.904Z"
   },
   {
    "duration": 8,
    "start_time": "2022-07-03T10:12:40.926Z"
   },
   {
    "duration": 21,
    "start_time": "2022-07-03T10:12:40.936Z"
   },
   {
    "duration": 19,
    "start_time": "2022-07-03T10:12:40.959Z"
   },
   {
    "duration": 13,
    "start_time": "2022-07-03T10:12:40.979Z"
   },
   {
    "duration": 8,
    "start_time": "2022-07-03T10:12:40.993Z"
   },
   {
    "duration": 32,
    "start_time": "2022-07-03T10:12:41.003Z"
   },
   {
    "duration": 6,
    "start_time": "2022-07-03T10:12:41.036Z"
   },
   {
    "duration": 8,
    "start_time": "2022-07-03T10:12:41.043Z"
   },
   {
    "duration": 15,
    "start_time": "2022-07-03T10:12:41.053Z"
   },
   {
    "duration": 9,
    "start_time": "2022-07-03T10:12:41.070Z"
   },
   {
    "duration": 56,
    "start_time": "2022-07-03T10:48:37.193Z"
   },
   {
    "duration": 16,
    "start_time": "2022-07-03T10:48:37.251Z"
   },
   {
    "duration": 27,
    "start_time": "2022-07-03T10:48:37.269Z"
   },
   {
    "duration": 21,
    "start_time": "2022-07-03T10:48:37.298Z"
   },
   {
    "duration": 36,
    "start_time": "2022-07-03T10:48:37.322Z"
   },
   {
    "duration": 3,
    "start_time": "2022-07-03T10:48:37.361Z"
   },
   {
    "duration": 14,
    "start_time": "2022-07-03T10:48:37.366Z"
   },
   {
    "duration": 10,
    "start_time": "2022-07-03T10:48:37.382Z"
   },
   {
    "duration": 12,
    "start_time": "2022-07-03T10:48:37.394Z"
   },
   {
    "duration": 19,
    "start_time": "2022-07-03T10:48:37.408Z"
   },
   {
    "duration": 56,
    "start_time": "2022-07-03T10:48:37.429Z"
   },
   {
    "duration": 11,
    "start_time": "2022-07-03T10:48:37.487Z"
   },
   {
    "duration": 6,
    "start_time": "2022-07-03T10:48:37.499Z"
   },
   {
    "duration": 18,
    "start_time": "2022-07-03T10:48:37.525Z"
   },
   {
    "duration": 17,
    "start_time": "2022-07-03T10:48:37.544Z"
   },
   {
    "duration": 11,
    "start_time": "2022-07-03T10:48:37.562Z"
   },
   {
    "duration": 23,
    "start_time": "2022-07-03T10:48:37.575Z"
   },
   {
    "duration": 25,
    "start_time": "2022-07-03T10:48:37.600Z"
   },
   {
    "duration": 15,
    "start_time": "2022-07-03T10:48:37.627Z"
   },
   {
    "duration": 6,
    "start_time": "2022-07-03T10:48:37.643Z"
   },
   {
    "duration": 23,
    "start_time": "2022-07-03T10:48:37.651Z"
   },
   {
    "duration": 716,
    "start_time": "2022-07-03T10:48:37.676Z"
   },
   {
    "duration": 57,
    "start_time": "2022-07-03T10:49:46.213Z"
   },
   {
    "duration": 17,
    "start_time": "2022-07-03T10:49:46.272Z"
   },
   {
    "duration": 49,
    "start_time": "2022-07-03T10:49:46.291Z"
   },
   {
    "duration": 20,
    "start_time": "2022-07-03T10:49:46.342Z"
   },
   {
    "duration": 63,
    "start_time": "2022-07-03T10:49:46.365Z"
   },
   {
    "duration": 4,
    "start_time": "2022-07-03T10:49:46.429Z"
   },
   {
    "duration": 19,
    "start_time": "2022-07-03T10:49:46.434Z"
   },
   {
    "duration": 13,
    "start_time": "2022-07-03T10:49:46.454Z"
   },
   {
    "duration": 17,
    "start_time": "2022-07-03T10:49:46.469Z"
   },
   {
    "duration": 11,
    "start_time": "2022-07-03T10:49:46.488Z"
   },
   {
    "duration": 63,
    "start_time": "2022-07-03T10:49:46.501Z"
   },
   {
    "duration": 11,
    "start_time": "2022-07-03T10:49:46.565Z"
   },
   {
    "duration": 7,
    "start_time": "2022-07-03T10:49:46.577Z"
   },
   {
    "duration": 33,
    "start_time": "2022-07-03T10:49:46.587Z"
   },
   {
    "duration": 22,
    "start_time": "2022-07-03T10:49:46.621Z"
   },
   {
    "duration": 11,
    "start_time": "2022-07-03T10:49:46.645Z"
   },
   {
    "duration": 17,
    "start_time": "2022-07-03T10:49:46.658Z"
   },
   {
    "duration": 25,
    "start_time": "2022-07-03T10:49:46.676Z"
   },
   {
    "duration": 29,
    "start_time": "2022-07-03T10:49:46.703Z"
   },
   {
    "duration": 12,
    "start_time": "2022-07-03T10:49:46.733Z"
   },
   {
    "duration": 21,
    "start_time": "2022-07-03T10:49:46.746Z"
   },
   {
    "duration": 29,
    "start_time": "2022-07-03T10:49:46.768Z"
   },
   {
    "duration": 87,
    "start_time": "2022-07-03T10:50:41.005Z"
   },
   {
    "duration": 17,
    "start_time": "2022-07-03T10:50:41.094Z"
   },
   {
    "duration": 29,
    "start_time": "2022-07-03T10:50:41.113Z"
   },
   {
    "duration": 14,
    "start_time": "2022-07-03T10:50:41.143Z"
   },
   {
    "duration": 38,
    "start_time": "2022-07-03T10:50:41.160Z"
   },
   {
    "duration": 28,
    "start_time": "2022-07-03T10:50:41.200Z"
   },
   {
    "duration": 18,
    "start_time": "2022-07-03T10:50:41.230Z"
   },
   {
    "duration": 6,
    "start_time": "2022-07-03T10:50:41.251Z"
   },
   {
    "duration": 22,
    "start_time": "2022-07-03T10:50:41.259Z"
   },
   {
    "duration": 13,
    "start_time": "2022-07-03T10:50:41.283Z"
   },
   {
    "duration": 48,
    "start_time": "2022-07-03T10:50:41.299Z"
   },
   {
    "duration": 11,
    "start_time": "2022-07-03T10:50:41.349Z"
   },
   {
    "duration": 29,
    "start_time": "2022-07-03T10:50:41.362Z"
   },
   {
    "duration": 34,
    "start_time": "2022-07-03T10:50:41.395Z"
   },
   {
    "duration": 31,
    "start_time": "2022-07-03T10:50:41.431Z"
   },
   {
    "duration": 20,
    "start_time": "2022-07-03T10:50:41.465Z"
   },
   {
    "duration": 13,
    "start_time": "2022-07-03T10:50:41.487Z"
   },
   {
    "duration": 41,
    "start_time": "2022-07-03T10:50:41.502Z"
   },
   {
    "duration": 11,
    "start_time": "2022-07-03T10:50:41.545Z"
   },
   {
    "duration": 6,
    "start_time": "2022-07-03T10:50:41.558Z"
   },
   {
    "duration": 16,
    "start_time": "2022-07-03T10:50:41.566Z"
   },
   {
    "duration": 20,
    "start_time": "2022-07-03T10:50:41.585Z"
   },
   {
    "duration": 65,
    "start_time": "2022-07-03T10:51:05.294Z"
   },
   {
    "duration": 16,
    "start_time": "2022-07-03T10:51:05.361Z"
   },
   {
    "duration": 34,
    "start_time": "2022-07-03T10:51:05.379Z"
   },
   {
    "duration": 26,
    "start_time": "2022-07-03T10:51:05.416Z"
   },
   {
    "duration": 54,
    "start_time": "2022-07-03T10:51:05.445Z"
   },
   {
    "duration": 4,
    "start_time": "2022-07-03T10:51:05.501Z"
   },
   {
    "duration": 27,
    "start_time": "2022-07-03T10:51:05.506Z"
   },
   {
    "duration": 11,
    "start_time": "2022-07-03T10:51:05.535Z"
   },
   {
    "duration": 37,
    "start_time": "2022-07-03T10:51:05.548Z"
   },
   {
    "duration": 25,
    "start_time": "2022-07-03T10:51:05.586Z"
   },
   {
    "duration": 50,
    "start_time": "2022-07-03T10:51:05.613Z"
   },
   {
    "duration": 11,
    "start_time": "2022-07-03T10:51:05.665Z"
   },
   {
    "duration": 12,
    "start_time": "2022-07-03T10:51:05.678Z"
   },
   {
    "duration": 34,
    "start_time": "2022-07-03T10:51:05.692Z"
   },
   {
    "duration": 29,
    "start_time": "2022-07-03T10:51:05.728Z"
   },
   {
    "duration": 17,
    "start_time": "2022-07-03T10:51:05.760Z"
   },
   {
    "duration": 5,
    "start_time": "2022-07-03T10:51:05.780Z"
   },
   {
    "duration": 41,
    "start_time": "2022-07-03T10:51:05.787Z"
   },
   {
    "duration": 6,
    "start_time": "2022-07-03T10:51:05.830Z"
   },
   {
    "duration": 10,
    "start_time": "2022-07-03T10:51:05.838Z"
   },
   {
    "duration": 24,
    "start_time": "2022-07-03T10:51:05.849Z"
   },
   {
    "duration": 10,
    "start_time": "2022-07-03T10:51:05.875Z"
   },
   {
    "duration": 68,
    "start_time": "2022-07-03T10:51:26.407Z"
   },
   {
    "duration": 16,
    "start_time": "2022-07-03T10:51:26.477Z"
   },
   {
    "duration": 34,
    "start_time": "2022-07-03T10:51:26.495Z"
   },
   {
    "duration": 17,
    "start_time": "2022-07-03T10:51:26.531Z"
   },
   {
    "duration": 45,
    "start_time": "2022-07-03T10:51:26.550Z"
   },
   {
    "duration": 4,
    "start_time": "2022-07-03T10:51:26.597Z"
   },
   {
    "duration": 28,
    "start_time": "2022-07-03T10:51:26.603Z"
   },
   {
    "duration": 27,
    "start_time": "2022-07-03T10:51:26.633Z"
   },
   {
    "duration": 29,
    "start_time": "2022-07-03T10:51:26.666Z"
   },
   {
    "duration": 8,
    "start_time": "2022-07-03T10:51:26.698Z"
   },
   {
    "duration": 53,
    "start_time": "2022-07-03T10:51:26.709Z"
   },
   {
    "duration": 16,
    "start_time": "2022-07-03T10:51:26.764Z"
   },
   {
    "duration": 17,
    "start_time": "2022-07-03T10:51:26.782Z"
   },
   {
    "duration": 33,
    "start_time": "2022-07-03T10:51:26.803Z"
   },
   {
    "duration": 28,
    "start_time": "2022-07-03T10:51:26.837Z"
   },
   {
    "duration": 17,
    "start_time": "2022-07-03T10:51:26.867Z"
   },
   {
    "duration": 11,
    "start_time": "2022-07-03T10:51:26.886Z"
   },
   {
    "duration": 30,
    "start_time": "2022-07-03T10:51:26.899Z"
   },
   {
    "duration": 8,
    "start_time": "2022-07-03T10:51:26.932Z"
   },
   {
    "duration": 9,
    "start_time": "2022-07-03T10:51:26.943Z"
   },
   {
    "duration": 18,
    "start_time": "2022-07-03T10:51:26.954Z"
   },
   {
    "duration": 58,
    "start_time": "2022-07-03T10:51:31.932Z"
   },
   {
    "duration": 16,
    "start_time": "2022-07-03T10:51:31.992Z"
   },
   {
    "duration": 24,
    "start_time": "2022-07-03T10:51:32.009Z"
   },
   {
    "duration": 9,
    "start_time": "2022-07-03T10:51:32.035Z"
   },
   {
    "duration": 39,
    "start_time": "2022-07-03T10:51:32.046Z"
   },
   {
    "duration": 3,
    "start_time": "2022-07-03T10:51:32.087Z"
   },
   {
    "duration": 12,
    "start_time": "2022-07-03T10:51:32.092Z"
   },
   {
    "duration": 6,
    "start_time": "2022-07-03T10:51:32.125Z"
   },
   {
    "duration": 10,
    "start_time": "2022-07-03T10:51:32.132Z"
   },
   {
    "duration": 5,
    "start_time": "2022-07-03T10:51:32.144Z"
   },
   {
    "duration": 35,
    "start_time": "2022-07-03T10:51:32.150Z"
   },
   {
    "duration": 46,
    "start_time": "2022-07-03T10:51:32.187Z"
   },
   {
    "duration": 13,
    "start_time": "2022-07-03T10:51:32.235Z"
   },
   {
    "duration": 40,
    "start_time": "2022-07-03T10:51:32.250Z"
   },
   {
    "duration": 21,
    "start_time": "2022-07-03T10:51:32.293Z"
   },
   {
    "duration": 19,
    "start_time": "2022-07-03T10:51:32.316Z"
   },
   {
    "duration": 16,
    "start_time": "2022-07-03T10:51:32.337Z"
   },
   {
    "duration": 15,
    "start_time": "2022-07-03T10:51:32.355Z"
   },
   {
    "duration": 12,
    "start_time": "2022-07-03T10:51:32.372Z"
   },
   {
    "duration": 12,
    "start_time": "2022-07-03T10:51:32.386Z"
   },
   {
    "duration": 19,
    "start_time": "2022-07-03T10:51:32.399Z"
   },
   {
    "duration": 9,
    "start_time": "2022-07-03T10:51:32.419Z"
   },
   {
    "duration": 70,
    "start_time": "2022-07-03T10:52:24.796Z"
   },
   {
    "duration": 16,
    "start_time": "2022-07-03T10:52:24.868Z"
   },
   {
    "duration": 18,
    "start_time": "2022-07-03T10:52:24.885Z"
   },
   {
    "duration": 22,
    "start_time": "2022-07-03T10:52:24.905Z"
   },
   {
    "duration": 48,
    "start_time": "2022-07-03T10:52:24.929Z"
   },
   {
    "duration": 4,
    "start_time": "2022-07-03T10:52:24.978Z"
   },
   {
    "duration": 15,
    "start_time": "2022-07-03T10:52:24.984Z"
   },
   {
    "duration": 5,
    "start_time": "2022-07-03T10:52:25.001Z"
   },
   {
    "duration": 7,
    "start_time": "2022-07-03T10:52:25.027Z"
   },
   {
    "duration": 17,
    "start_time": "2022-07-03T10:52:25.038Z"
   },
   {
    "duration": 45,
    "start_time": "2022-07-03T10:52:25.057Z"
   },
   {
    "duration": 12,
    "start_time": "2022-07-03T10:52:25.104Z"
   },
   {
    "duration": 10,
    "start_time": "2022-07-03T10:52:25.118Z"
   },
   {
    "duration": 22,
    "start_time": "2022-07-03T10:52:25.132Z"
   },
   {
    "duration": 19,
    "start_time": "2022-07-03T10:52:25.157Z"
   },
   {
    "duration": 18,
    "start_time": "2022-07-03T10:52:25.178Z"
   },
   {
    "duration": 28,
    "start_time": "2022-07-03T10:52:25.199Z"
   },
   {
    "duration": 21,
    "start_time": "2022-07-03T10:52:25.230Z"
   },
   {
    "duration": 9,
    "start_time": "2022-07-03T10:52:25.253Z"
   },
   {
    "duration": 5,
    "start_time": "2022-07-03T10:52:25.264Z"
   },
   {
    "duration": 18,
    "start_time": "2022-07-03T10:52:25.271Z"
   },
   {
    "duration": 14,
    "start_time": "2022-07-03T10:52:25.291Z"
   },
   {
    "duration": 77,
    "start_time": "2022-07-03T10:52:52.128Z"
   },
   {
    "duration": 14,
    "start_time": "2022-07-03T10:52:52.207Z"
   },
   {
    "duration": 22,
    "start_time": "2022-07-03T10:52:52.227Z"
   },
   {
    "duration": 14,
    "start_time": "2022-07-03T10:52:52.252Z"
   },
   {
    "duration": 63,
    "start_time": "2022-07-03T10:52:52.267Z"
   },
   {
    "duration": 4,
    "start_time": "2022-07-03T10:52:52.332Z"
   },
   {
    "duration": 21,
    "start_time": "2022-07-03T10:52:52.338Z"
   },
   {
    "duration": 10,
    "start_time": "2022-07-03T10:52:52.361Z"
   },
   {
    "duration": 9,
    "start_time": "2022-07-03T10:52:52.373Z"
   },
   {
    "duration": 8,
    "start_time": "2022-07-03T10:52:52.385Z"
   },
   {
    "duration": 47,
    "start_time": "2022-07-03T10:52:52.396Z"
   },
   {
    "duration": 9,
    "start_time": "2022-07-03T10:52:52.445Z"
   },
   {
    "duration": 5,
    "start_time": "2022-07-03T10:52:52.456Z"
   },
   {
    "duration": 20,
    "start_time": "2022-07-03T10:52:52.463Z"
   },
   {
    "duration": 43,
    "start_time": "2022-07-03T10:52:52.485Z"
   },
   {
    "duration": 11,
    "start_time": "2022-07-03T10:52:52.529Z"
   },
   {
    "duration": 3,
    "start_time": "2022-07-03T10:52:52.542Z"
   },
   {
    "duration": 11,
    "start_time": "2022-07-03T10:52:52.547Z"
   },
   {
    "duration": 9,
    "start_time": "2022-07-03T10:52:52.561Z"
   },
   {
    "duration": 4,
    "start_time": "2022-07-03T10:52:52.571Z"
   },
   {
    "duration": 49,
    "start_time": "2022-07-03T10:52:52.577Z"
   },
   {
    "duration": 9,
    "start_time": "2022-07-03T10:52:52.628Z"
   },
   {
    "duration": 73,
    "start_time": "2022-07-03T11:03:22.069Z"
   },
   {
    "duration": 16,
    "start_time": "2022-07-03T11:03:22.144Z"
   },
   {
    "duration": 22,
    "start_time": "2022-07-03T11:03:22.161Z"
   },
   {
    "duration": 15,
    "start_time": "2022-07-03T11:03:22.186Z"
   },
   {
    "duration": 55,
    "start_time": "2022-07-03T11:03:22.204Z"
   },
   {
    "duration": 4,
    "start_time": "2022-07-03T11:03:22.260Z"
   },
   {
    "duration": 20,
    "start_time": "2022-07-03T11:03:22.266Z"
   },
   {
    "duration": 9,
    "start_time": "2022-07-03T11:03:22.288Z"
   },
   {
    "duration": 14,
    "start_time": "2022-07-03T11:03:22.299Z"
   },
   {
    "duration": 12,
    "start_time": "2022-07-03T11:03:22.315Z"
   },
   {
    "duration": 37,
    "start_time": "2022-07-03T11:03:22.329Z"
   },
   {
    "duration": 10,
    "start_time": "2022-07-03T11:03:22.367Z"
   },
   {
    "duration": 6,
    "start_time": "2022-07-03T11:03:22.379Z"
   },
   {
    "duration": 39,
    "start_time": "2022-07-03T11:03:22.388Z"
   },
   {
    "duration": 52,
    "start_time": "2022-07-03T11:03:22.429Z"
   },
   {
    "duration": 12,
    "start_time": "2022-07-03T11:03:22.483Z"
   },
   {
    "duration": 8,
    "start_time": "2022-07-03T11:03:22.497Z"
   },
   {
    "duration": 28,
    "start_time": "2022-07-03T11:03:22.507Z"
   },
   {
    "duration": 20,
    "start_time": "2022-07-03T11:03:22.537Z"
   },
   {
    "duration": 5,
    "start_time": "2022-07-03T11:03:22.559Z"
   },
   {
    "duration": 14,
    "start_time": "2022-07-03T11:03:22.565Z"
   },
   {
    "duration": 7,
    "start_time": "2022-07-03T11:03:22.581Z"
   },
   {
    "duration": 60,
    "start_time": "2022-07-03T11:05:08.097Z"
   },
   {
    "duration": 16,
    "start_time": "2022-07-03T11:05:08.159Z"
   },
   {
    "duration": 18,
    "start_time": "2022-07-03T11:05:08.176Z"
   },
   {
    "duration": 11,
    "start_time": "2022-07-03T11:05:08.195Z"
   },
   {
    "duration": 36,
    "start_time": "2022-07-03T11:05:08.226Z"
   },
   {
    "duration": 4,
    "start_time": "2022-07-03T11:05:08.264Z"
   },
   {
    "duration": 15,
    "start_time": "2022-07-03T11:05:08.269Z"
   },
   {
    "duration": 4,
    "start_time": "2022-07-03T11:05:08.285Z"
   },
   {
    "duration": 10,
    "start_time": "2022-07-03T11:05:08.291Z"
   },
   {
    "duration": 28,
    "start_time": "2022-07-03T11:05:08.303Z"
   },
   {
    "duration": 43,
    "start_time": "2022-07-03T11:05:08.333Z"
   },
   {
    "duration": 11,
    "start_time": "2022-07-03T11:05:08.377Z"
   },
   {
    "duration": 4,
    "start_time": "2022-07-03T11:05:08.390Z"
   },
   {
    "duration": 38,
    "start_time": "2022-07-03T11:05:08.397Z"
   },
   {
    "duration": 18,
    "start_time": "2022-07-03T11:05:08.437Z"
   },
   {
    "duration": 11,
    "start_time": "2022-07-03T11:05:08.457Z"
   },
   {
    "duration": 6,
    "start_time": "2022-07-03T11:05:08.470Z"
   },
   {
    "duration": 18,
    "start_time": "2022-07-03T11:05:08.477Z"
   },
   {
    "duration": 6,
    "start_time": "2022-07-03T11:05:08.497Z"
   },
   {
    "duration": 4,
    "start_time": "2022-07-03T11:05:08.526Z"
   },
   {
    "duration": 12,
    "start_time": "2022-07-03T11:05:08.531Z"
   },
   {
    "duration": 8,
    "start_time": "2022-07-03T11:05:08.545Z"
   },
   {
    "duration": 60,
    "start_time": "2022-07-03T11:05:16.888Z"
   },
   {
    "duration": 15,
    "start_time": "2022-07-03T11:05:16.950Z"
   },
   {
    "duration": 16,
    "start_time": "2022-07-03T11:05:16.967Z"
   },
   {
    "duration": 9,
    "start_time": "2022-07-03T11:05:16.984Z"
   },
   {
    "duration": 55,
    "start_time": "2022-07-03T11:05:16.995Z"
   },
   {
    "duration": 3,
    "start_time": "2022-07-03T11:05:17.051Z"
   },
   {
    "duration": 13,
    "start_time": "2022-07-03T11:05:17.056Z"
   },
   {
    "duration": 6,
    "start_time": "2022-07-03T11:05:17.071Z"
   },
   {
    "duration": 9,
    "start_time": "2022-07-03T11:05:17.079Z"
   },
   {
    "duration": 6,
    "start_time": "2022-07-03T11:05:17.089Z"
   },
   {
    "duration": 56,
    "start_time": "2022-07-03T11:05:17.096Z"
   },
   {
    "duration": 9,
    "start_time": "2022-07-03T11:05:17.154Z"
   },
   {
    "duration": 4,
    "start_time": "2022-07-03T11:05:17.165Z"
   },
   {
    "duration": 24,
    "start_time": "2022-07-03T11:05:17.171Z"
   },
   {
    "duration": 40,
    "start_time": "2022-07-03T11:05:17.196Z"
   },
   {
    "duration": 11,
    "start_time": "2022-07-03T11:05:17.237Z"
   },
   {
    "duration": 16,
    "start_time": "2022-07-03T11:05:17.249Z"
   },
   {
    "duration": 15,
    "start_time": "2022-07-03T11:05:17.267Z"
   },
   {
    "duration": 5,
    "start_time": "2022-07-03T11:05:17.284Z"
   },
   {
    "duration": 7,
    "start_time": "2022-07-03T11:05:17.291Z"
   },
   {
    "duration": 30,
    "start_time": "2022-07-03T11:05:17.299Z"
   },
   {
    "duration": 14,
    "start_time": "2022-07-03T11:05:17.331Z"
   },
   {
    "duration": 417,
    "start_time": "2022-07-03T11:05:29.066Z"
   },
   {
    "duration": 23,
    "start_time": "2022-07-03T11:05:29.485Z"
   },
   {
    "duration": 16,
    "start_time": "2022-07-03T11:05:29.510Z"
   },
   {
    "duration": 10,
    "start_time": "2022-07-03T11:05:29.527Z"
   },
   {
    "duration": 37,
    "start_time": "2022-07-03T11:05:29.539Z"
   },
   {
    "duration": 4,
    "start_time": "2022-07-03T11:05:29.578Z"
   },
   {
    "duration": 16,
    "start_time": "2022-07-03T11:05:29.583Z"
   },
   {
    "duration": 11,
    "start_time": "2022-07-03T11:05:29.600Z"
   },
   {
    "duration": 8,
    "start_time": "2022-07-03T11:05:29.626Z"
   },
   {
    "duration": 5,
    "start_time": "2022-07-03T11:05:29.635Z"
   },
   {
    "duration": 43,
    "start_time": "2022-07-03T11:05:29.641Z"
   },
   {
    "duration": 12,
    "start_time": "2022-07-03T11:05:29.686Z"
   },
   {
    "duration": 10,
    "start_time": "2022-07-03T11:05:29.700Z"
   },
   {
    "duration": 19,
    "start_time": "2022-07-03T11:05:29.728Z"
   },
   {
    "duration": 16,
    "start_time": "2022-07-03T11:05:29.749Z"
   },
   {
    "duration": 11,
    "start_time": "2022-07-03T11:05:29.767Z"
   },
   {
    "duration": 8,
    "start_time": "2022-07-03T11:05:29.780Z"
   },
   {
    "duration": 14,
    "start_time": "2022-07-03T11:05:29.790Z"
   },
   {
    "duration": 26,
    "start_time": "2022-07-03T11:05:29.805Z"
   },
   {
    "duration": 8,
    "start_time": "2022-07-03T11:05:29.833Z"
   },
   {
    "duration": 13,
    "start_time": "2022-07-03T11:05:29.843Z"
   },
   {
    "duration": 78,
    "start_time": "2022-07-03T11:05:29.857Z"
   },
   {
    "duration": 0,
    "start_time": "2022-07-03T11:05:29.936Z"
   },
   {
    "duration": 0,
    "start_time": "2022-07-03T11:05:29.938Z"
   },
   {
    "duration": 0,
    "start_time": "2022-07-03T11:05:29.939Z"
   },
   {
    "duration": 65,
    "start_time": "2022-07-03T11:05:44.872Z"
   },
   {
    "duration": 18,
    "start_time": "2022-07-03T11:05:44.940Z"
   },
   {
    "duration": 25,
    "start_time": "2022-07-03T11:05:44.959Z"
   },
   {
    "duration": 11,
    "start_time": "2022-07-03T11:05:44.986Z"
   },
   {
    "duration": 57,
    "start_time": "2022-07-03T11:05:44.999Z"
   },
   {
    "duration": 4,
    "start_time": "2022-07-03T11:05:45.059Z"
   },
   {
    "duration": 28,
    "start_time": "2022-07-03T11:05:45.064Z"
   },
   {
    "duration": 28,
    "start_time": "2022-07-03T11:05:45.093Z"
   },
   {
    "duration": 22,
    "start_time": "2022-07-03T11:05:45.123Z"
   },
   {
    "duration": 28,
    "start_time": "2022-07-03T11:05:45.148Z"
   },
   {
    "duration": 49,
    "start_time": "2022-07-03T11:05:45.178Z"
   },
   {
    "duration": 12,
    "start_time": "2022-07-03T11:05:45.229Z"
   },
   {
    "duration": 25,
    "start_time": "2022-07-03T11:05:45.243Z"
   },
   {
    "duration": 36,
    "start_time": "2022-07-03T11:05:45.270Z"
   },
   {
    "duration": 27,
    "start_time": "2022-07-03T11:05:45.307Z"
   },
   {
    "duration": 25,
    "start_time": "2022-07-03T11:05:45.336Z"
   },
   {
    "duration": 12,
    "start_time": "2022-07-03T11:05:45.362Z"
   },
   {
    "duration": 25,
    "start_time": "2022-07-03T11:05:45.376Z"
   },
   {
    "duration": 11,
    "start_time": "2022-07-03T11:05:45.402Z"
   },
   {
    "duration": 3,
    "start_time": "2022-07-03T11:05:45.415Z"
   },
   {
    "duration": 13,
    "start_time": "2022-07-03T11:05:45.420Z"
   },
   {
    "duration": 7,
    "start_time": "2022-07-03T11:05:45.435Z"
   },
   {
    "duration": 56,
    "start_time": "2022-07-03T11:06:36.018Z"
   },
   {
    "duration": 15,
    "start_time": "2022-07-03T11:06:36.077Z"
   },
   {
    "duration": 17,
    "start_time": "2022-07-03T11:06:36.093Z"
   },
   {
    "duration": 19,
    "start_time": "2022-07-03T11:06:36.112Z"
   },
   {
    "duration": 31,
    "start_time": "2022-07-03T11:06:36.133Z"
   },
   {
    "duration": 3,
    "start_time": "2022-07-03T11:06:36.165Z"
   },
   {
    "duration": 17,
    "start_time": "2022-07-03T11:06:36.170Z"
   },
   {
    "duration": 8,
    "start_time": "2022-07-03T11:06:36.188Z"
   },
   {
    "duration": 7,
    "start_time": "2022-07-03T11:06:36.197Z"
   },
   {
    "duration": 5,
    "start_time": "2022-07-03T11:06:36.226Z"
   },
   {
    "duration": 36,
    "start_time": "2022-07-03T11:06:36.232Z"
   },
   {
    "duration": 16,
    "start_time": "2022-07-03T11:06:36.269Z"
   },
   {
    "duration": 4,
    "start_time": "2022-07-03T11:06:36.288Z"
   },
   {
    "duration": 44,
    "start_time": "2022-07-03T11:06:36.295Z"
   },
   {
    "duration": 18,
    "start_time": "2022-07-03T11:06:36.341Z"
   },
   {
    "duration": 11,
    "start_time": "2022-07-03T11:06:36.361Z"
   },
   {
    "duration": 6,
    "start_time": "2022-07-03T11:06:36.373Z"
   },
   {
    "duration": 14,
    "start_time": "2022-07-03T11:06:36.381Z"
   },
   {
    "duration": 7,
    "start_time": "2022-07-03T11:06:36.397Z"
   },
   {
    "duration": 4,
    "start_time": "2022-07-03T11:06:36.425Z"
   },
   {
    "duration": 26,
    "start_time": "2022-07-03T11:06:36.430Z"
   },
   {
    "duration": 20,
    "start_time": "2022-07-03T11:06:36.458Z"
   },
   {
    "duration": 59,
    "start_time": "2022-07-03T11:06:47.677Z"
   },
   {
    "duration": 16,
    "start_time": "2022-07-03T11:06:47.737Z"
   },
   {
    "duration": 19,
    "start_time": "2022-07-03T11:06:47.754Z"
   },
   {
    "duration": 11,
    "start_time": "2022-07-03T11:06:47.774Z"
   },
   {
    "duration": 46,
    "start_time": "2022-07-03T11:06:47.786Z"
   },
   {
    "duration": 3,
    "start_time": "2022-07-03T11:06:47.834Z"
   },
   {
    "duration": 10,
    "start_time": "2022-07-03T11:06:47.838Z"
   },
   {
    "duration": 8,
    "start_time": "2022-07-03T11:06:47.850Z"
   },
   {
    "duration": 17,
    "start_time": "2022-07-03T11:06:47.859Z"
   },
   {
    "duration": 14,
    "start_time": "2022-07-03T11:06:47.878Z"
   },
   {
    "duration": 38,
    "start_time": "2022-07-03T11:06:47.894Z"
   },
   {
    "duration": 10,
    "start_time": "2022-07-03T11:06:47.934Z"
   },
   {
    "duration": 4,
    "start_time": "2022-07-03T11:06:47.945Z"
   },
   {
    "duration": 25,
    "start_time": "2022-07-03T11:06:47.951Z"
   },
   {
    "duration": 16,
    "start_time": "2022-07-03T11:06:47.977Z"
   },
   {
    "duration": 11,
    "start_time": "2022-07-03T11:06:47.995Z"
   },
   {
    "duration": 6,
    "start_time": "2022-07-03T11:06:48.026Z"
   },
   {
    "duration": 16,
    "start_time": "2022-07-03T11:06:48.033Z"
   },
   {
    "duration": 6,
    "start_time": "2022-07-03T11:06:48.050Z"
   },
   {
    "duration": 5,
    "start_time": "2022-07-03T11:06:48.057Z"
   },
   {
    "duration": 11,
    "start_time": "2022-07-03T11:06:48.063Z"
   },
   {
    "duration": 14,
    "start_time": "2022-07-03T11:06:48.075Z"
   },
   {
    "duration": 61,
    "start_time": "2022-07-03T11:07:03.389Z"
   },
   {
    "duration": 16,
    "start_time": "2022-07-03T11:07:03.452Z"
   },
   {
    "duration": 23,
    "start_time": "2022-07-03T11:07:03.470Z"
   },
   {
    "duration": 14,
    "start_time": "2022-07-03T11:07:03.495Z"
   },
   {
    "duration": 49,
    "start_time": "2022-07-03T11:07:03.512Z"
   },
   {
    "duration": 4,
    "start_time": "2022-07-03T11:07:03.562Z"
   },
   {
    "duration": 13,
    "start_time": "2022-07-03T11:07:03.568Z"
   },
   {
    "duration": 8,
    "start_time": "2022-07-03T11:07:03.584Z"
   },
   {
    "duration": 12,
    "start_time": "2022-07-03T11:07:03.594Z"
   },
   {
    "duration": 21,
    "start_time": "2022-07-03T11:07:03.607Z"
   },
   {
    "duration": 36,
    "start_time": "2022-07-03T11:07:03.630Z"
   },
   {
    "duration": 10,
    "start_time": "2022-07-03T11:07:03.668Z"
   },
   {
    "duration": 8,
    "start_time": "2022-07-03T11:07:03.680Z"
   },
   {
    "duration": 42,
    "start_time": "2022-07-03T11:07:03.691Z"
   },
   {
    "duration": 18,
    "start_time": "2022-07-03T11:07:03.735Z"
   },
   {
    "duration": 12,
    "start_time": "2022-07-03T11:07:03.754Z"
   },
   {
    "duration": 8,
    "start_time": "2022-07-03T11:07:03.767Z"
   },
   {
    "duration": 13,
    "start_time": "2022-07-03T11:07:03.778Z"
   },
   {
    "duration": 10,
    "start_time": "2022-07-03T11:07:03.793Z"
   },
   {
    "duration": 13,
    "start_time": "2022-07-03T11:07:03.826Z"
   },
   {
    "duration": 13,
    "start_time": "2022-07-03T11:07:03.841Z"
   },
   {
    "duration": 14,
    "start_time": "2022-07-03T11:07:03.856Z"
   },
   {
    "duration": 62,
    "start_time": "2022-07-03T11:07:18.630Z"
   },
   {
    "duration": 16,
    "start_time": "2022-07-03T11:07:18.694Z"
   },
   {
    "duration": 26,
    "start_time": "2022-07-03T11:07:18.711Z"
   },
   {
    "duration": 10,
    "start_time": "2022-07-03T11:07:18.739Z"
   },
   {
    "duration": 33,
    "start_time": "2022-07-03T11:07:18.751Z"
   },
   {
    "duration": 3,
    "start_time": "2022-07-03T11:07:18.786Z"
   },
   {
    "duration": 13,
    "start_time": "2022-07-03T11:07:18.790Z"
   },
   {
    "duration": 24,
    "start_time": "2022-07-03T11:07:18.805Z"
   },
   {
    "duration": 8,
    "start_time": "2022-07-03T11:07:18.830Z"
   },
   {
    "duration": 13,
    "start_time": "2022-07-03T11:07:18.839Z"
   },
   {
    "duration": 34,
    "start_time": "2022-07-03T11:07:18.854Z"
   },
   {
    "duration": 10,
    "start_time": "2022-07-03T11:07:18.890Z"
   },
   {
    "duration": 25,
    "start_time": "2022-07-03T11:07:18.901Z"
   },
   {
    "duration": 19,
    "start_time": "2022-07-03T11:07:18.929Z"
   },
   {
    "duration": 16,
    "start_time": "2022-07-03T11:07:18.950Z"
   },
   {
    "duration": 12,
    "start_time": "2022-07-03T11:07:18.968Z"
   },
   {
    "duration": 6,
    "start_time": "2022-07-03T11:07:18.981Z"
   },
   {
    "duration": 13,
    "start_time": "2022-07-03T11:07:18.988Z"
   },
   {
    "duration": 28,
    "start_time": "2022-07-03T11:07:19.003Z"
   },
   {
    "duration": 3,
    "start_time": "2022-07-03T11:07:19.033Z"
   },
   {
    "duration": 15,
    "start_time": "2022-07-03T11:07:19.038Z"
   },
   {
    "duration": 13,
    "start_time": "2022-07-03T11:07:19.054Z"
   },
   {
    "duration": 61,
    "start_time": "2022-07-03T11:07:43.612Z"
   },
   {
    "duration": 20,
    "start_time": "2022-07-03T11:07:43.675Z"
   },
   {
    "duration": 58,
    "start_time": "2022-07-03T11:35:13.109Z"
   },
   {
    "duration": 16,
    "start_time": "2022-07-03T11:35:13.169Z"
   },
   {
    "duration": 19,
    "start_time": "2022-07-03T11:35:13.186Z"
   },
   {
    "duration": 27,
    "start_time": "2022-07-03T11:35:13.208Z"
   },
   {
    "duration": 43,
    "start_time": "2022-07-03T11:35:13.236Z"
   },
   {
    "duration": 4,
    "start_time": "2022-07-03T11:35:13.281Z"
   },
   {
    "duration": 27,
    "start_time": "2022-07-03T11:35:13.286Z"
   },
   {
    "duration": 4,
    "start_time": "2022-07-03T11:35:13.315Z"
   },
   {
    "duration": 9,
    "start_time": "2022-07-03T11:35:13.321Z"
   },
   {
    "duration": 5,
    "start_time": "2022-07-03T11:35:13.332Z"
   },
   {
    "duration": 39,
    "start_time": "2022-07-03T11:35:13.338Z"
   },
   {
    "duration": 10,
    "start_time": "2022-07-03T11:35:13.378Z"
   },
   {
    "duration": 4,
    "start_time": "2022-07-03T11:35:13.390Z"
   },
   {
    "duration": 39,
    "start_time": "2022-07-03T11:35:13.395Z"
   },
   {
    "duration": 16,
    "start_time": "2022-07-03T11:35:13.436Z"
   },
   {
    "duration": 10,
    "start_time": "2022-07-03T11:35:13.454Z"
   },
   {
    "duration": 5,
    "start_time": "2022-07-03T11:35:13.465Z"
   },
   {
    "duration": 15,
    "start_time": "2022-07-03T11:35:13.472Z"
   },
   {
    "duration": 12,
    "start_time": "2022-07-03T11:35:13.488Z"
   },
   {
    "duration": 24,
    "start_time": "2022-07-03T11:35:13.502Z"
   },
   {
    "duration": 8,
    "start_time": "2022-07-03T11:35:13.528Z"
   },
   {
    "duration": 13,
    "start_time": "2022-07-03T11:35:13.538Z"
   },
   {
    "duration": 20,
    "start_time": "2022-07-03T11:35:13.553Z"
   },
   {
    "duration": 58,
    "start_time": "2022-07-03T11:43:47.313Z"
   },
   {
    "duration": 23,
    "start_time": "2022-07-03T11:43:47.373Z"
   },
   {
    "duration": 37,
    "start_time": "2022-07-03T11:43:47.398Z"
   },
   {
    "duration": 12,
    "start_time": "2022-07-03T11:43:47.438Z"
   },
   {
    "duration": 40,
    "start_time": "2022-07-03T11:43:47.453Z"
   },
   {
    "duration": 4,
    "start_time": "2022-07-03T11:43:47.494Z"
   },
   {
    "duration": 13,
    "start_time": "2022-07-03T11:43:47.499Z"
   },
   {
    "duration": 27,
    "start_time": "2022-07-03T11:43:47.514Z"
   },
   {
    "duration": 11,
    "start_time": "2022-07-03T11:43:47.543Z"
   },
   {
    "duration": 7,
    "start_time": "2022-07-03T11:43:47.556Z"
   },
   {
    "duration": 42,
    "start_time": "2022-07-03T11:43:47.564Z"
   },
   {
    "duration": 12,
    "start_time": "2022-07-03T11:43:47.607Z"
   },
   {
    "duration": 7,
    "start_time": "2022-07-03T11:43:47.627Z"
   },
   {
    "duration": 33,
    "start_time": "2022-07-03T11:43:47.638Z"
   },
   {
    "duration": 16,
    "start_time": "2022-07-03T11:43:47.672Z"
   },
   {
    "duration": 11,
    "start_time": "2022-07-03T11:43:47.690Z"
   },
   {
    "duration": 10,
    "start_time": "2022-07-03T11:43:47.703Z"
   },
   {
    "duration": 34,
    "start_time": "2022-07-03T11:43:47.715Z"
   },
   {
    "duration": 17,
    "start_time": "2022-07-03T11:43:47.751Z"
   },
   {
    "duration": 4,
    "start_time": "2022-07-03T11:43:47.769Z"
   },
   {
    "duration": 18,
    "start_time": "2022-07-03T11:43:47.774Z"
   },
   {
    "duration": 15,
    "start_time": "2022-07-03T11:43:47.793Z"
   },
   {
    "duration": 8,
    "start_time": "2022-07-03T11:43:47.810Z"
   },
   {
    "duration": 76,
    "start_time": "2022-07-03T11:47:34.406Z"
   },
   {
    "duration": 21,
    "start_time": "2022-07-03T11:47:34.485Z"
   },
   {
    "duration": 42,
    "start_time": "2022-07-03T11:47:34.508Z"
   },
   {
    "duration": 16,
    "start_time": "2022-07-03T11:47:34.552Z"
   },
   {
    "duration": 65,
    "start_time": "2022-07-03T11:47:34.570Z"
   },
   {
    "duration": 5,
    "start_time": "2022-07-03T11:47:34.637Z"
   },
   {
    "duration": 26,
    "start_time": "2022-07-03T11:47:34.644Z"
   },
   {
    "duration": 22,
    "start_time": "2022-07-03T11:47:34.673Z"
   },
   {
    "duration": 23,
    "start_time": "2022-07-03T11:47:34.697Z"
   },
   {
    "duration": 32,
    "start_time": "2022-07-03T11:47:34.722Z"
   },
   {
    "duration": 37,
    "start_time": "2022-07-03T11:47:34.756Z"
   },
   {
    "duration": 9,
    "start_time": "2022-07-03T11:47:34.795Z"
   },
   {
    "duration": 9,
    "start_time": "2022-07-03T11:47:34.806Z"
   },
   {
    "duration": 22,
    "start_time": "2022-07-03T11:47:34.818Z"
   },
   {
    "duration": 27,
    "start_time": "2022-07-03T11:47:34.842Z"
   },
   {
    "duration": 13,
    "start_time": "2022-07-03T11:47:34.871Z"
   },
   {
    "duration": 25,
    "start_time": "2022-07-03T11:47:34.887Z"
   },
   {
    "duration": 13,
    "start_time": "2022-07-03T11:47:34.914Z"
   },
   {
    "duration": 13,
    "start_time": "2022-07-03T11:47:34.929Z"
   },
   {
    "duration": 4,
    "start_time": "2022-07-03T11:47:34.944Z"
   },
   {
    "duration": 12,
    "start_time": "2022-07-03T11:47:34.949Z"
   },
   {
    "duration": 10,
    "start_time": "2022-07-03T11:47:34.963Z"
   },
   {
    "duration": 18,
    "start_time": "2022-07-03T11:47:34.974Z"
   },
   {
    "duration": 60,
    "start_time": "2022-07-03T11:48:00.695Z"
   },
   {
    "duration": 16,
    "start_time": "2022-07-03T11:48:00.757Z"
   },
   {
    "duration": 37,
    "start_time": "2022-07-03T11:48:00.775Z"
   },
   {
    "duration": 11,
    "start_time": "2022-07-03T11:48:00.814Z"
   },
   {
    "duration": 35,
    "start_time": "2022-07-03T11:48:00.826Z"
   },
   {
    "duration": 3,
    "start_time": "2022-07-03T11:48:00.862Z"
   },
   {
    "duration": 17,
    "start_time": "2022-07-03T11:48:00.867Z"
   },
   {
    "duration": 28,
    "start_time": "2022-07-03T11:48:00.885Z"
   },
   {
    "duration": 26,
    "start_time": "2022-07-03T11:48:00.914Z"
   },
   {
    "duration": 11,
    "start_time": "2022-07-03T11:48:00.943Z"
   },
   {
    "duration": 37,
    "start_time": "2022-07-03T11:48:00.956Z"
   },
   {
    "duration": 12,
    "start_time": "2022-07-03T11:48:00.995Z"
   },
   {
    "duration": 17,
    "start_time": "2022-07-03T11:48:01.009Z"
   },
   {
    "duration": 30,
    "start_time": "2022-07-03T11:48:01.027Z"
   },
   {
    "duration": 19,
    "start_time": "2022-07-03T11:48:01.060Z"
   },
   {
    "duration": 12,
    "start_time": "2022-07-03T11:48:01.081Z"
   },
   {
    "duration": 9,
    "start_time": "2022-07-03T11:48:01.095Z"
   },
   {
    "duration": 40,
    "start_time": "2022-07-03T11:48:01.106Z"
   },
   {
    "duration": 51,
    "start_time": "2022-07-03T11:48:01.148Z"
   },
   {
    "duration": 42,
    "start_time": "2022-07-03T11:48:01.201Z"
   },
   {
    "duration": 74,
    "start_time": "2022-07-03T11:48:01.245Z"
   },
   {
    "duration": 28,
    "start_time": "2022-07-03T11:48:01.320Z"
   },
   {
    "duration": 69,
    "start_time": "2022-07-03T11:48:01.349Z"
   },
   {
    "duration": 59,
    "start_time": "2022-07-03T11:53:54.617Z"
   },
   {
    "duration": 16,
    "start_time": "2022-07-03T11:53:54.678Z"
   },
   {
    "duration": 22,
    "start_time": "2022-07-03T11:53:54.696Z"
   },
   {
    "duration": 9,
    "start_time": "2022-07-03T11:53:54.726Z"
   },
   {
    "duration": 35,
    "start_time": "2022-07-03T11:53:54.737Z"
   },
   {
    "duration": 4,
    "start_time": "2022-07-03T11:53:54.774Z"
   },
   {
    "duration": 12,
    "start_time": "2022-07-03T11:53:54.779Z"
   },
   {
    "duration": 12,
    "start_time": "2022-07-03T11:53:54.792Z"
   },
   {
    "duration": 21,
    "start_time": "2022-07-03T11:53:54.805Z"
   },
   {
    "duration": 6,
    "start_time": "2022-07-03T11:53:54.829Z"
   },
   {
    "duration": 35,
    "start_time": "2022-07-03T11:53:54.837Z"
   },
   {
    "duration": 9,
    "start_time": "2022-07-03T11:53:54.873Z"
   },
   {
    "duration": 14,
    "start_time": "2022-07-03T11:53:54.884Z"
   },
   {
    "duration": 29,
    "start_time": "2022-07-03T11:53:54.899Z"
   },
   {
    "duration": 17,
    "start_time": "2022-07-03T11:53:54.929Z"
   },
   {
    "duration": 10,
    "start_time": "2022-07-03T11:53:54.948Z"
   },
   {
    "duration": 9,
    "start_time": "2022-07-03T11:53:54.959Z"
   },
   {
    "duration": 15,
    "start_time": "2022-07-03T11:53:54.969Z"
   },
   {
    "duration": 12,
    "start_time": "2022-07-03T11:53:54.985Z"
   },
   {
    "duration": 7,
    "start_time": "2022-07-03T11:53:54.998Z"
   },
   {
    "duration": 23,
    "start_time": "2022-07-03T11:53:55.007Z"
   },
   {
    "duration": 12,
    "start_time": "2022-07-03T11:53:55.032Z"
   },
   {
    "duration": 12,
    "start_time": "2022-07-03T11:53:55.046Z"
   },
   {
    "duration": 15,
    "start_time": "2022-07-03T11:53:55.059Z"
   },
   {
    "duration": 60,
    "start_time": "2022-07-03T11:54:36.787Z"
   },
   {
    "duration": 16,
    "start_time": "2022-07-03T11:54:36.849Z"
   },
   {
    "duration": 19,
    "start_time": "2022-07-03T11:54:36.867Z"
   },
   {
    "duration": 9,
    "start_time": "2022-07-03T11:54:36.888Z"
   },
   {
    "duration": 55,
    "start_time": "2022-07-03T11:54:36.899Z"
   },
   {
    "duration": 4,
    "start_time": "2022-07-03T11:54:36.955Z"
   },
   {
    "duration": 15,
    "start_time": "2022-07-03T11:54:36.960Z"
   },
   {
    "duration": 6,
    "start_time": "2022-07-03T11:54:36.977Z"
   },
   {
    "duration": 12,
    "start_time": "2022-07-03T11:54:36.984Z"
   },
   {
    "duration": 6,
    "start_time": "2022-07-03T11:54:36.997Z"
   },
   {
    "duration": 44,
    "start_time": "2022-07-03T11:54:37.005Z"
   },
   {
    "duration": 9,
    "start_time": "2022-07-03T11:54:37.051Z"
   },
   {
    "duration": 5,
    "start_time": "2022-07-03T11:54:37.062Z"
   },
   {
    "duration": 21,
    "start_time": "2022-07-03T11:54:37.069Z"
   },
   {
    "duration": 39,
    "start_time": "2022-07-03T11:54:37.092Z"
   },
   {
    "duration": 10,
    "start_time": "2022-07-03T11:54:37.133Z"
   },
   {
    "duration": 6,
    "start_time": "2022-07-03T11:54:37.145Z"
   },
   {
    "duration": 19,
    "start_time": "2022-07-03T11:54:37.153Z"
   },
   {
    "duration": 6,
    "start_time": "2022-07-03T11:54:37.173Z"
   },
   {
    "duration": 7,
    "start_time": "2022-07-03T11:54:37.180Z"
   },
   {
    "duration": 10,
    "start_time": "2022-07-03T11:54:37.189Z"
   },
   {
    "duration": 27,
    "start_time": "2022-07-03T11:54:37.201Z"
   },
   {
    "duration": 10,
    "start_time": "2022-07-03T11:54:37.229Z"
   },
   {
    "duration": 9,
    "start_time": "2022-07-03T11:54:37.241Z"
   },
   {
    "duration": 59,
    "start_time": "2022-07-03T11:55:18.627Z"
   },
   {
    "duration": 14,
    "start_time": "2022-07-03T11:55:18.688Z"
   },
   {
    "duration": 26,
    "start_time": "2022-07-03T11:55:18.704Z"
   },
   {
    "duration": 10,
    "start_time": "2022-07-03T11:55:18.732Z"
   },
   {
    "duration": 34,
    "start_time": "2022-07-03T11:55:18.743Z"
   },
   {
    "duration": 4,
    "start_time": "2022-07-03T11:55:18.779Z"
   },
   {
    "duration": 11,
    "start_time": "2022-07-03T11:55:18.784Z"
   },
   {
    "duration": 30,
    "start_time": "2022-07-03T11:55:18.796Z"
   },
   {
    "duration": 6,
    "start_time": "2022-07-03T11:55:18.828Z"
   },
   {
    "duration": 6,
    "start_time": "2022-07-03T11:55:18.836Z"
   },
   {
    "duration": 39,
    "start_time": "2022-07-03T11:55:18.844Z"
   },
   {
    "duration": 10,
    "start_time": "2022-07-03T11:55:18.885Z"
   },
   {
    "duration": 65,
    "start_time": "2022-07-03T11:55:18.896Z"
   },
   {
    "duration": 17,
    "start_time": "2022-07-03T11:55:18.963Z"
   },
   {
    "duration": 19,
    "start_time": "2022-07-03T11:55:18.981Z"
   },
   {
    "duration": 29,
    "start_time": "2022-07-03T11:55:19.001Z"
   },
   {
    "duration": 6,
    "start_time": "2022-07-03T11:55:19.032Z"
   },
   {
    "duration": 12,
    "start_time": "2022-07-03T11:55:19.039Z"
   },
   {
    "duration": 5,
    "start_time": "2022-07-03T11:55:19.053Z"
   },
   {
    "duration": 4,
    "start_time": "2022-07-03T11:55:19.059Z"
   },
   {
    "duration": 13,
    "start_time": "2022-07-03T11:55:19.065Z"
   },
   {
    "duration": 14,
    "start_time": "2022-07-03T11:55:19.080Z"
   },
   {
    "duration": 16,
    "start_time": "2022-07-03T11:55:19.095Z"
   },
   {
    "duration": 12,
    "start_time": "2022-07-03T11:55:19.125Z"
   },
   {
    "duration": 66,
    "start_time": "2022-07-03T11:58:01.729Z"
   },
   {
    "duration": 16,
    "start_time": "2022-07-03T11:58:01.797Z"
   },
   {
    "duration": 62,
    "start_time": "2022-07-03T11:58:01.815Z"
   },
   {
    "duration": 48,
    "start_time": "2022-07-03T11:58:01.879Z"
   },
   {
    "duration": 57,
    "start_time": "2022-07-03T11:58:01.929Z"
   },
   {
    "duration": 4,
    "start_time": "2022-07-03T11:58:01.988Z"
   },
   {
    "duration": 32,
    "start_time": "2022-07-03T11:58:01.993Z"
   },
   {
    "duration": 24,
    "start_time": "2022-07-03T11:58:02.027Z"
   },
   {
    "duration": 12,
    "start_time": "2022-07-03T11:58:02.053Z"
   },
   {
    "duration": 13,
    "start_time": "2022-07-03T11:58:02.067Z"
   },
   {
    "duration": 58,
    "start_time": "2022-07-03T11:58:02.082Z"
   },
   {
    "duration": 15,
    "start_time": "2022-07-03T11:58:02.143Z"
   },
   {
    "duration": 20,
    "start_time": "2022-07-03T11:58:02.160Z"
   },
   {
    "duration": 25,
    "start_time": "2022-07-03T11:58:02.191Z"
   },
   {
    "duration": 21,
    "start_time": "2022-07-03T11:58:02.218Z"
   },
   {
    "duration": 12,
    "start_time": "2022-07-03T11:58:02.241Z"
   },
   {
    "duration": 12,
    "start_time": "2022-07-03T11:58:02.255Z"
   },
   {
    "duration": 18,
    "start_time": "2022-07-03T11:58:02.269Z"
   },
   {
    "duration": 21,
    "start_time": "2022-07-03T11:58:02.289Z"
   },
   {
    "duration": 9,
    "start_time": "2022-07-03T11:58:02.312Z"
   },
   {
    "duration": 16,
    "start_time": "2022-07-03T11:58:02.323Z"
   },
   {
    "duration": 121,
    "start_time": "2022-07-03T11:58:02.342Z"
   },
   {
    "duration": 16,
    "start_time": "2022-07-03T11:58:02.465Z"
   },
   {
    "duration": 14,
    "start_time": "2022-07-03T11:58:02.484Z"
   },
   {
    "duration": 11,
    "start_time": "2022-07-03T11:58:02.500Z"
   },
   {
    "duration": 58,
    "start_time": "2022-07-03T11:58:52.699Z"
   },
   {
    "duration": 16,
    "start_time": "2022-07-03T11:58:52.759Z"
   },
   {
    "duration": 19,
    "start_time": "2022-07-03T11:58:52.777Z"
   },
   {
    "duration": 10,
    "start_time": "2022-07-03T11:58:52.797Z"
   },
   {
    "duration": 47,
    "start_time": "2022-07-03T11:58:52.809Z"
   },
   {
    "duration": 4,
    "start_time": "2022-07-03T11:58:52.858Z"
   },
   {
    "duration": 13,
    "start_time": "2022-07-03T11:58:52.863Z"
   },
   {
    "duration": 10,
    "start_time": "2022-07-03T11:58:52.878Z"
   },
   {
    "duration": 11,
    "start_time": "2022-07-03T11:58:52.890Z"
   },
   {
    "duration": 11,
    "start_time": "2022-07-03T11:58:52.903Z"
   },
   {
    "duration": 42,
    "start_time": "2022-07-03T11:58:52.915Z"
   },
   {
    "duration": 10,
    "start_time": "2022-07-03T11:58:52.958Z"
   },
   {
    "duration": 3,
    "start_time": "2022-07-03T11:58:52.969Z"
   },
   {
    "duration": 18,
    "start_time": "2022-07-03T11:58:52.975Z"
   },
   {
    "duration": 39,
    "start_time": "2022-07-03T11:58:52.995Z"
   },
   {
    "duration": 13,
    "start_time": "2022-07-03T11:58:53.036Z"
   },
   {
    "duration": 7,
    "start_time": "2022-07-03T11:58:53.051Z"
   },
   {
    "duration": 12,
    "start_time": "2022-07-03T11:58:53.060Z"
   },
   {
    "duration": 10,
    "start_time": "2022-07-03T11:58:53.073Z"
   },
   {
    "duration": 17,
    "start_time": "2022-07-03T11:58:53.084Z"
   },
   {
    "duration": 20,
    "start_time": "2022-07-03T11:58:53.103Z"
   },
   {
    "duration": 19,
    "start_time": "2022-07-03T11:58:53.124Z"
   },
   {
    "duration": 14,
    "start_time": "2022-07-03T11:58:53.145Z"
   },
   {
    "duration": 9,
    "start_time": "2022-07-03T11:58:53.161Z"
   },
   {
    "duration": 74,
    "start_time": "2022-07-03T11:58:53.172Z"
   },
   {
    "duration": 58,
    "start_time": "2022-07-03T11:59:09.704Z"
   },
   {
    "duration": 14,
    "start_time": "2022-07-03T11:59:09.764Z"
   },
   {
    "duration": 15,
    "start_time": "2022-07-03T11:59:09.780Z"
   },
   {
    "duration": 31,
    "start_time": "2022-07-03T11:59:09.797Z"
   },
   {
    "duration": 37,
    "start_time": "2022-07-03T11:59:09.830Z"
   },
   {
    "duration": 4,
    "start_time": "2022-07-03T11:59:09.869Z"
   },
   {
    "duration": 12,
    "start_time": "2022-07-03T11:59:09.875Z"
   },
   {
    "duration": 5,
    "start_time": "2022-07-03T11:59:09.889Z"
   },
   {
    "duration": 10,
    "start_time": "2022-07-03T11:59:09.896Z"
   },
   {
    "duration": 5,
    "start_time": "2022-07-03T11:59:09.926Z"
   },
   {
    "duration": 41,
    "start_time": "2022-07-03T11:59:09.932Z"
   },
   {
    "duration": 10,
    "start_time": "2022-07-03T11:59:09.974Z"
   },
   {
    "duration": 8,
    "start_time": "2022-07-03T11:59:09.985Z"
   },
   {
    "duration": 32,
    "start_time": "2022-07-03T11:59:09.994Z"
   },
   {
    "duration": 20,
    "start_time": "2022-07-03T11:59:10.028Z"
   },
   {
    "duration": 11,
    "start_time": "2022-07-03T11:59:10.049Z"
   },
   {
    "duration": 7,
    "start_time": "2022-07-03T11:59:10.061Z"
   },
   {
    "duration": 14,
    "start_time": "2022-07-03T11:59:10.069Z"
   },
   {
    "duration": 8,
    "start_time": "2022-07-03T11:59:10.084Z"
   },
   {
    "duration": 4,
    "start_time": "2022-07-03T11:59:10.094Z"
   },
   {
    "duration": 32,
    "start_time": "2022-07-03T11:59:10.099Z"
   },
   {
    "duration": 10,
    "start_time": "2022-07-03T11:59:10.133Z"
   },
   {
    "duration": 16,
    "start_time": "2022-07-03T11:59:10.144Z"
   },
   {
    "duration": 10,
    "start_time": "2022-07-03T11:59:10.161Z"
   },
   {
    "duration": 15,
    "start_time": "2022-07-03T11:59:10.172Z"
   },
   {
    "duration": 62,
    "start_time": "2022-07-03T11:59:38.623Z"
   },
   {
    "duration": 15,
    "start_time": "2022-07-03T11:59:38.687Z"
   },
   {
    "duration": 28,
    "start_time": "2022-07-03T11:59:38.703Z"
   },
   {
    "duration": 10,
    "start_time": "2022-07-03T11:59:38.732Z"
   },
   {
    "duration": 34,
    "start_time": "2022-07-03T11:59:38.744Z"
   },
   {
    "duration": 3,
    "start_time": "2022-07-03T11:59:38.780Z"
   },
   {
    "duration": 14,
    "start_time": "2022-07-03T11:59:38.784Z"
   },
   {
    "duration": 11,
    "start_time": "2022-07-03T11:59:38.799Z"
   },
   {
    "duration": 7,
    "start_time": "2022-07-03T11:59:38.826Z"
   },
   {
    "duration": 9,
    "start_time": "2022-07-03T11:59:38.834Z"
   },
   {
    "duration": 38,
    "start_time": "2022-07-03T11:59:38.845Z"
   },
   {
    "duration": 10,
    "start_time": "2022-07-03T11:59:38.885Z"
   },
   {
    "duration": 4,
    "start_time": "2022-07-03T11:59:38.897Z"
   },
   {
    "duration": 39,
    "start_time": "2022-07-03T11:59:38.903Z"
   },
   {
    "duration": 19,
    "start_time": "2022-07-03T11:59:38.944Z"
   },
   {
    "duration": 10,
    "start_time": "2022-07-03T11:59:38.965Z"
   },
   {
    "duration": 6,
    "start_time": "2022-07-03T11:59:38.976Z"
   },
   {
    "duration": 13,
    "start_time": "2022-07-03T11:59:38.983Z"
   },
   {
    "duration": 9,
    "start_time": "2022-07-03T11:59:38.997Z"
   },
   {
    "duration": 24,
    "start_time": "2022-07-03T11:59:39.008Z"
   },
   {
    "duration": 12,
    "start_time": "2022-07-03T11:59:39.034Z"
   },
   {
    "duration": 22,
    "start_time": "2022-07-03T11:59:39.047Z"
   },
   {
    "duration": 20,
    "start_time": "2022-07-03T11:59:39.071Z"
   },
   {
    "duration": 11,
    "start_time": "2022-07-03T11:59:39.093Z"
   },
   {
    "duration": 16,
    "start_time": "2022-07-03T11:59:39.106Z"
   },
   {
    "duration": 65,
    "start_time": "2022-07-03T12:00:31.426Z"
   },
   {
    "duration": 20,
    "start_time": "2022-07-03T12:00:31.493Z"
   },
   {
    "duration": 32,
    "start_time": "2022-07-03T12:00:31.528Z"
   },
   {
    "duration": 20,
    "start_time": "2022-07-03T12:00:31.562Z"
   },
   {
    "duration": 77,
    "start_time": "2022-07-03T12:00:31.585Z"
   },
   {
    "duration": 3,
    "start_time": "2022-07-03T12:00:31.664Z"
   },
   {
    "duration": 49,
    "start_time": "2022-07-03T12:00:31.669Z"
   },
   {
    "duration": 20,
    "start_time": "2022-07-03T12:00:31.719Z"
   },
   {
    "duration": 29,
    "start_time": "2022-07-03T12:00:31.741Z"
   },
   {
    "duration": 14,
    "start_time": "2022-07-03T12:00:31.771Z"
   },
   {
    "duration": 54,
    "start_time": "2022-07-03T12:00:31.787Z"
   },
   {
    "duration": 10,
    "start_time": "2022-07-03T12:00:31.843Z"
   },
   {
    "duration": 7,
    "start_time": "2022-07-03T12:00:31.854Z"
   },
   {
    "duration": 22,
    "start_time": "2022-07-03T12:00:31.863Z"
   },
   {
    "duration": 39,
    "start_time": "2022-07-03T12:00:31.887Z"
   },
   {
    "duration": 17,
    "start_time": "2022-07-03T12:00:31.928Z"
   },
   {
    "duration": 4,
    "start_time": "2022-07-03T12:00:31.948Z"
   },
   {
    "duration": 19,
    "start_time": "2022-07-03T12:00:31.954Z"
   },
   {
    "duration": 7,
    "start_time": "2022-07-03T12:00:31.975Z"
   },
   {
    "duration": 8,
    "start_time": "2022-07-03T12:00:31.984Z"
   },
   {
    "duration": 14,
    "start_time": "2022-07-03T12:00:31.994Z"
   },
   {
    "duration": 16,
    "start_time": "2022-07-03T12:00:32.026Z"
   },
   {
    "duration": 15,
    "start_time": "2022-07-03T12:00:32.044Z"
   },
   {
    "duration": 11,
    "start_time": "2022-07-03T12:00:32.060Z"
   },
   {
    "duration": 14,
    "start_time": "2022-07-03T12:00:32.073Z"
   },
   {
    "duration": 59,
    "start_time": "2022-07-03T12:00:48.674Z"
   },
   {
    "duration": 16,
    "start_time": "2022-07-03T12:00:48.734Z"
   },
   {
    "duration": 29,
    "start_time": "2022-07-03T12:00:48.751Z"
   },
   {
    "duration": 20,
    "start_time": "2022-07-03T12:00:48.781Z"
   },
   {
    "duration": 47,
    "start_time": "2022-07-03T12:00:48.803Z"
   },
   {
    "duration": 6,
    "start_time": "2022-07-03T12:00:48.856Z"
   },
   {
    "duration": 25,
    "start_time": "2022-07-03T12:00:48.864Z"
   },
   {
    "duration": 7,
    "start_time": "2022-07-03T12:00:48.891Z"
   },
   {
    "duration": 20,
    "start_time": "2022-07-03T12:00:48.899Z"
   },
   {
    "duration": 7,
    "start_time": "2022-07-03T12:00:48.921Z"
   },
   {
    "duration": 61,
    "start_time": "2022-07-03T12:00:48.930Z"
   },
   {
    "duration": 9,
    "start_time": "2022-07-03T12:00:48.992Z"
   },
   {
    "duration": 8,
    "start_time": "2022-07-03T12:00:49.003Z"
   },
   {
    "duration": 24,
    "start_time": "2022-07-03T12:00:49.013Z"
   },
   {
    "duration": 42,
    "start_time": "2022-07-03T12:00:49.039Z"
   },
   {
    "duration": 14,
    "start_time": "2022-07-03T12:00:49.083Z"
   },
   {
    "duration": 7,
    "start_time": "2022-07-03T12:00:49.099Z"
   },
   {
    "duration": 14,
    "start_time": "2022-07-03T12:00:49.107Z"
   },
   {
    "duration": 10,
    "start_time": "2022-07-03T12:00:49.123Z"
   },
   {
    "duration": 10,
    "start_time": "2022-07-03T12:00:49.134Z"
   },
   {
    "duration": 19,
    "start_time": "2022-07-03T12:00:49.145Z"
   },
   {
    "duration": 18,
    "start_time": "2022-07-03T12:00:49.166Z"
   },
   {
    "duration": 9,
    "start_time": "2022-07-03T12:00:49.186Z"
   },
   {
    "duration": 10,
    "start_time": "2022-07-03T12:00:49.197Z"
   },
   {
    "duration": 18,
    "start_time": "2022-07-03T12:00:49.209Z"
   },
   {
    "duration": 711,
    "start_time": "2022-07-03T14:26:28.275Z"
   },
   {
    "duration": 23,
    "start_time": "2022-07-03T14:26:28.988Z"
   },
   {
    "duration": 14,
    "start_time": "2022-07-03T14:26:29.013Z"
   },
   {
    "duration": 9,
    "start_time": "2022-07-03T14:26:29.029Z"
   },
   {
    "duration": 35,
    "start_time": "2022-07-03T14:26:29.040Z"
   },
   {
    "duration": 4,
    "start_time": "2022-07-03T14:26:29.076Z"
   },
   {
    "duration": 12,
    "start_time": "2022-07-03T14:26:29.082Z"
   },
   {
    "duration": 9,
    "start_time": "2022-07-03T14:26:29.096Z"
   },
   {
    "duration": 8,
    "start_time": "2022-07-03T14:26:29.107Z"
   },
   {
    "duration": 26,
    "start_time": "2022-07-03T14:26:29.117Z"
   },
   {
    "duration": 41,
    "start_time": "2022-07-03T14:26:29.144Z"
   },
   {
    "duration": 11,
    "start_time": "2022-07-03T14:26:29.186Z"
   },
   {
    "duration": 3,
    "start_time": "2022-07-03T14:26:29.200Z"
   },
   {
    "duration": 36,
    "start_time": "2022-07-03T14:26:29.206Z"
   },
   {
    "duration": 17,
    "start_time": "2022-07-03T14:26:29.244Z"
   },
   {
    "duration": 12,
    "start_time": "2022-07-03T14:26:29.262Z"
   },
   {
    "duration": 15,
    "start_time": "2022-07-03T14:26:29.275Z"
   },
   {
    "duration": 18,
    "start_time": "2022-07-03T14:26:29.292Z"
   },
   {
    "duration": 8,
    "start_time": "2022-07-03T14:26:29.311Z"
   },
   {
    "duration": 6,
    "start_time": "2022-07-03T14:26:29.321Z"
   },
   {
    "duration": 19,
    "start_time": "2022-07-03T14:26:29.328Z"
   },
   {
    "duration": 17,
    "start_time": "2022-07-03T14:26:29.348Z"
   },
   {
    "duration": 9,
    "start_time": "2022-07-03T14:26:29.366Z"
   },
   {
    "duration": 12,
    "start_time": "2022-07-03T14:26:29.376Z"
   },
   {
    "duration": 15,
    "start_time": "2022-07-03T14:26:29.389Z"
   },
   {
    "duration": 737,
    "start_time": "2022-07-03T20:21:10.459Z"
   },
   {
    "duration": 24,
    "start_time": "2022-07-03T20:21:11.198Z"
   },
   {
    "duration": 15,
    "start_time": "2022-07-03T20:21:11.224Z"
   },
   {
    "duration": 17,
    "start_time": "2022-07-03T20:21:11.241Z"
   },
   {
    "duration": 61,
    "start_time": "2022-07-03T20:21:11.260Z"
   },
   {
    "duration": 4,
    "start_time": "2022-07-03T20:21:11.323Z"
   },
   {
    "duration": 33,
    "start_time": "2022-07-03T20:21:11.328Z"
   },
   {
    "duration": 13,
    "start_time": "2022-07-03T20:21:11.363Z"
   },
   {
    "duration": 27,
    "start_time": "2022-07-03T20:21:11.377Z"
   },
   {
    "duration": 18,
    "start_time": "2022-07-03T20:21:11.406Z"
   },
   {
    "duration": 51,
    "start_time": "2022-07-03T20:21:11.426Z"
   },
   {
    "duration": 10,
    "start_time": "2022-07-03T20:21:11.479Z"
   },
   {
    "duration": 11,
    "start_time": "2022-07-03T20:21:11.491Z"
   },
   {
    "duration": 38,
    "start_time": "2022-07-03T20:21:11.505Z"
   },
   {
    "duration": 33,
    "start_time": "2022-07-03T20:21:11.545Z"
   },
   {
    "duration": 12,
    "start_time": "2022-07-03T20:21:11.580Z"
   },
   {
    "duration": 28,
    "start_time": "2022-07-03T20:21:11.594Z"
   },
   {
    "duration": 28,
    "start_time": "2022-07-03T20:21:11.624Z"
   },
   {
    "duration": 16,
    "start_time": "2022-07-03T20:21:11.654Z"
   },
   {
    "duration": 7,
    "start_time": "2022-07-03T20:21:11.671Z"
   },
   {
    "duration": 32,
    "start_time": "2022-07-03T20:21:11.680Z"
   },
   {
    "duration": 1399,
    "start_time": "2022-07-03T20:21:11.714Z"
   },
   {
    "duration": 0,
    "start_time": "2022-07-03T20:21:13.115Z"
   },
   {
    "duration": 0,
    "start_time": "2022-07-03T20:21:13.116Z"
   },
   {
    "duration": 0,
    "start_time": "2022-07-03T20:21:13.117Z"
   },
   {
    "duration": 73,
    "start_time": "2022-07-03T20:21:57.054Z"
   },
   {
    "duration": 17,
    "start_time": "2022-07-03T20:21:57.129Z"
   },
   {
    "duration": 20,
    "start_time": "2022-07-03T20:21:57.148Z"
   },
   {
    "duration": 10,
    "start_time": "2022-07-03T20:21:57.169Z"
   },
   {
    "duration": 36,
    "start_time": "2022-07-03T20:21:57.181Z"
   },
   {
    "duration": 23,
    "start_time": "2022-07-03T20:21:57.218Z"
   },
   {
    "duration": 9,
    "start_time": "2022-07-03T20:21:57.243Z"
   },
   {
    "duration": 5,
    "start_time": "2022-07-03T20:21:57.254Z"
   },
   {
    "duration": 9,
    "start_time": "2022-07-03T20:21:57.261Z"
   },
   {
    "duration": 7,
    "start_time": "2022-07-03T20:21:57.272Z"
   },
   {
    "duration": 63,
    "start_time": "2022-07-03T20:21:57.281Z"
   },
   {
    "duration": 12,
    "start_time": "2022-07-03T20:21:57.346Z"
   },
   {
    "duration": 14,
    "start_time": "2022-07-03T20:21:57.360Z"
   },
   {
    "duration": 24,
    "start_time": "2022-07-03T20:21:57.377Z"
   },
   {
    "duration": 20,
    "start_time": "2022-07-03T20:21:57.404Z"
   },
   {
    "duration": 25,
    "start_time": "2022-07-03T20:21:57.426Z"
   },
   {
    "duration": 6,
    "start_time": "2022-07-03T20:21:57.452Z"
   },
   {
    "duration": 16,
    "start_time": "2022-07-03T20:21:57.460Z"
   },
   {
    "duration": 12,
    "start_time": "2022-07-03T20:21:57.478Z"
   },
   {
    "duration": 4,
    "start_time": "2022-07-03T20:21:57.492Z"
   },
   {
    "duration": 16,
    "start_time": "2022-07-03T20:21:57.497Z"
   },
   {
    "duration": 1334,
    "start_time": "2022-07-03T20:21:57.515Z"
   },
   {
    "duration": 71,
    "start_time": "2022-07-03T20:22:23.615Z"
   },
   {
    "duration": 16,
    "start_time": "2022-07-03T20:22:23.688Z"
   },
   {
    "duration": 17,
    "start_time": "2022-07-03T20:22:23.706Z"
   },
   {
    "duration": 11,
    "start_time": "2022-07-03T20:22:23.743Z"
   },
   {
    "duration": 37,
    "start_time": "2022-07-03T20:22:23.756Z"
   },
   {
    "duration": 4,
    "start_time": "2022-07-03T20:22:23.795Z"
   },
   {
    "duration": 16,
    "start_time": "2022-07-03T20:22:23.801Z"
   },
   {
    "duration": 6,
    "start_time": "2022-07-03T20:22:23.842Z"
   },
   {
    "duration": 9,
    "start_time": "2022-07-03T20:22:23.849Z"
   },
   {
    "duration": 5,
    "start_time": "2022-07-03T20:22:23.862Z"
   },
   {
    "duration": 36,
    "start_time": "2022-07-03T20:22:23.869Z"
   },
   {
    "duration": 35,
    "start_time": "2022-07-03T20:22:23.907Z"
   },
   {
    "duration": 4,
    "start_time": "2022-07-03T20:22:23.944Z"
   },
   {
    "duration": 26,
    "start_time": "2022-07-03T20:22:23.949Z"
   },
   {
    "duration": 17,
    "start_time": "2022-07-03T20:22:23.977Z"
   },
   {
    "duration": 11,
    "start_time": "2022-07-03T20:22:23.996Z"
   },
   {
    "duration": 35,
    "start_time": "2022-07-03T20:22:24.009Z"
   },
   {
    "duration": 18,
    "start_time": "2022-07-03T20:22:24.046Z"
   },
   {
    "duration": 9,
    "start_time": "2022-07-03T20:22:24.066Z"
   },
   {
    "duration": 14,
    "start_time": "2022-07-03T20:22:24.077Z"
   },
   {
    "duration": 18,
    "start_time": "2022-07-03T20:22:24.093Z"
   },
   {
    "duration": 12,
    "start_time": "2022-07-03T20:22:24.113Z"
   },
   {
    "duration": 71,
    "start_time": "2022-07-03T20:23:52.677Z"
   },
   {
    "duration": 16,
    "start_time": "2022-07-03T20:23:52.750Z"
   },
   {
    "duration": 15,
    "start_time": "2022-07-03T20:23:52.768Z"
   },
   {
    "duration": 9,
    "start_time": "2022-07-03T20:23:52.785Z"
   },
   {
    "duration": 51,
    "start_time": "2022-07-03T20:23:52.797Z"
   },
   {
    "duration": 3,
    "start_time": "2022-07-03T20:23:52.850Z"
   },
   {
    "duration": 16,
    "start_time": "2022-07-03T20:23:52.854Z"
   },
   {
    "duration": 5,
    "start_time": "2022-07-03T20:23:52.872Z"
   },
   {
    "duration": 7,
    "start_time": "2022-07-03T20:23:52.879Z"
   },
   {
    "duration": 7,
    "start_time": "2022-07-03T20:23:52.887Z"
   },
   {
    "duration": 65,
    "start_time": "2022-07-03T20:23:52.896Z"
   },
   {
    "duration": 11,
    "start_time": "2022-07-03T20:23:52.963Z"
   },
   {
    "duration": 5,
    "start_time": "2022-07-03T20:23:52.975Z"
   },
   {
    "duration": 19,
    "start_time": "2022-07-03T20:23:52.982Z"
   },
   {
    "duration": 42,
    "start_time": "2022-07-03T20:23:53.003Z"
   },
   {
    "duration": 11,
    "start_time": "2022-07-03T20:23:53.047Z"
   },
   {
    "duration": 5,
    "start_time": "2022-07-03T20:23:53.060Z"
   },
   {
    "duration": 12,
    "start_time": "2022-07-03T20:23:53.066Z"
   },
   {
    "duration": 7,
    "start_time": "2022-07-03T20:23:53.080Z"
   },
   {
    "duration": 5,
    "start_time": "2022-07-03T20:23:53.089Z"
   },
   {
    "duration": 11,
    "start_time": "2022-07-03T20:23:53.095Z"
   },
   {
    "duration": 42,
    "start_time": "2022-07-03T20:23:53.107Z"
   },
   {
    "duration": 80,
    "start_time": "2022-07-03T20:25:26.822Z"
   },
   {
    "duration": 18,
    "start_time": "2022-07-03T20:25:26.904Z"
   },
   {
    "duration": 34,
    "start_time": "2022-07-03T20:25:26.925Z"
   },
   {
    "duration": 18,
    "start_time": "2022-07-03T20:25:26.962Z"
   },
   {
    "duration": 46,
    "start_time": "2022-07-03T20:25:26.982Z"
   },
   {
    "duration": 3,
    "start_time": "2022-07-03T20:25:27.030Z"
   },
   {
    "duration": 22,
    "start_time": "2022-07-03T20:25:27.041Z"
   },
   {
    "duration": 8,
    "start_time": "2022-07-03T20:25:27.065Z"
   },
   {
    "duration": 7,
    "start_time": "2022-07-03T20:25:27.074Z"
   },
   {
    "duration": 5,
    "start_time": "2022-07-03T20:25:27.083Z"
   },
   {
    "duration": 44,
    "start_time": "2022-07-03T20:25:27.089Z"
   },
   {
    "duration": 23,
    "start_time": "2022-07-03T20:25:27.134Z"
   },
   {
    "duration": 7,
    "start_time": "2022-07-03T20:25:27.159Z"
   },
   {
    "duration": 26,
    "start_time": "2022-07-03T20:25:27.168Z"
   },
   {
    "duration": 21,
    "start_time": "2022-07-03T20:25:27.195Z"
   },
   {
    "duration": 28,
    "start_time": "2022-07-03T20:25:27.218Z"
   },
   {
    "duration": 12,
    "start_time": "2022-07-03T20:25:27.257Z"
   },
   {
    "duration": 24,
    "start_time": "2022-07-03T20:25:27.271Z"
   },
   {
    "duration": 8,
    "start_time": "2022-07-03T20:25:27.298Z"
   },
   {
    "duration": 13,
    "start_time": "2022-07-03T20:25:27.307Z"
   },
   {
    "duration": 17,
    "start_time": "2022-07-03T20:25:27.324Z"
   },
   {
    "duration": 40,
    "start_time": "2022-07-03T20:25:27.343Z"
   },
   {
    "duration": 20,
    "start_time": "2022-07-03T20:25:27.390Z"
   },
   {
    "duration": 0,
    "start_time": "2022-07-03T20:25:27.412Z"
   },
   {
    "duration": 0,
    "start_time": "2022-07-03T20:25:27.414Z"
   },
   {
    "duration": 75,
    "start_time": "2022-07-03T20:25:36.210Z"
   },
   {
    "duration": 158,
    "start_time": "2022-07-03T20:25:36.287Z"
   },
   {
    "duration": 24,
    "start_time": "2022-07-03T20:25:36.450Z"
   },
   {
    "duration": 10,
    "start_time": "2022-07-03T20:25:36.476Z"
   },
   {
    "duration": 38,
    "start_time": "2022-07-03T20:25:36.488Z"
   },
   {
    "duration": 4,
    "start_time": "2022-07-03T20:25:36.527Z"
   },
   {
    "duration": 14,
    "start_time": "2022-07-03T20:25:36.544Z"
   },
   {
    "duration": 6,
    "start_time": "2022-07-03T20:25:36.560Z"
   },
   {
    "duration": 11,
    "start_time": "2022-07-03T20:25:36.568Z"
   },
   {
    "duration": 7,
    "start_time": "2022-07-03T20:25:36.582Z"
   },
   {
    "duration": 38,
    "start_time": "2022-07-03T20:25:36.591Z"
   },
   {
    "duration": 18,
    "start_time": "2022-07-03T20:25:36.641Z"
   },
   {
    "duration": 5,
    "start_time": "2022-07-03T20:25:36.660Z"
   },
   {
    "duration": 23,
    "start_time": "2022-07-03T20:25:36.667Z"
   },
   {
    "duration": 23,
    "start_time": "2022-07-03T20:25:36.692Z"
   },
   {
    "duration": 42,
    "start_time": "2022-07-03T20:25:36.717Z"
   },
   {
    "duration": 25,
    "start_time": "2022-07-03T20:25:36.761Z"
   },
   {
    "duration": 24,
    "start_time": "2022-07-03T20:25:36.788Z"
   },
   {
    "duration": 19,
    "start_time": "2022-07-03T20:25:36.814Z"
   },
   {
    "duration": 37,
    "start_time": "2022-07-03T20:25:36.836Z"
   },
   {
    "duration": 28,
    "start_time": "2022-07-03T20:25:36.876Z"
   },
   {
    "duration": 26,
    "start_time": "2022-07-03T20:25:36.906Z"
   },
   {
    "duration": 20,
    "start_time": "2022-07-03T20:25:36.934Z"
   },
   {
    "duration": 0,
    "start_time": "2022-07-03T20:25:36.957Z"
   },
   {
    "duration": 0,
    "start_time": "2022-07-03T20:25:36.958Z"
   },
   {
    "duration": 79,
    "start_time": "2022-07-03T20:26:25.724Z"
   },
   {
    "duration": 18,
    "start_time": "2022-07-03T20:26:25.805Z"
   },
   {
    "duration": 28,
    "start_time": "2022-07-03T20:26:25.824Z"
   },
   {
    "duration": 19,
    "start_time": "2022-07-03T20:26:25.858Z"
   },
   {
    "duration": 40,
    "start_time": "2022-07-03T20:26:25.879Z"
   },
   {
    "duration": 4,
    "start_time": "2022-07-03T20:26:25.921Z"
   },
   {
    "duration": 15,
    "start_time": "2022-07-03T20:26:25.927Z"
   },
   {
    "duration": 10,
    "start_time": "2022-07-03T20:26:25.952Z"
   },
   {
    "duration": 11,
    "start_time": "2022-07-03T20:26:25.964Z"
   },
   {
    "duration": 5,
    "start_time": "2022-07-03T20:26:25.978Z"
   },
   {
    "duration": 42,
    "start_time": "2022-07-03T20:26:25.984Z"
   },
   {
    "duration": 29,
    "start_time": "2022-07-03T20:26:26.028Z"
   },
   {
    "duration": 7,
    "start_time": "2022-07-03T20:26:26.060Z"
   },
   {
    "duration": 22,
    "start_time": "2022-07-03T20:26:26.068Z"
   },
   {
    "duration": 17,
    "start_time": "2022-07-03T20:26:26.092Z"
   },
   {
    "duration": 10,
    "start_time": "2022-07-03T20:26:26.111Z"
   },
   {
    "duration": 4,
    "start_time": "2022-07-03T20:26:26.123Z"
   },
   {
    "duration": 13,
    "start_time": "2022-07-03T20:26:26.150Z"
   },
   {
    "duration": 12,
    "start_time": "2022-07-03T20:26:26.164Z"
   },
   {
    "duration": 5,
    "start_time": "2022-07-03T20:26:26.177Z"
   },
   {
    "duration": 12,
    "start_time": "2022-07-03T20:26:26.183Z"
   },
   {
    "duration": 14,
    "start_time": "2022-07-03T20:26:26.197Z"
   },
   {
    "duration": 13,
    "start_time": "2022-07-03T20:26:26.213Z"
   },
   {
    "duration": 70,
    "start_time": "2022-07-03T20:26:48.470Z"
   },
   {
    "duration": 17,
    "start_time": "2022-07-03T20:26:48.553Z"
   },
   {
    "duration": 18,
    "start_time": "2022-07-03T20:26:48.572Z"
   },
   {
    "duration": 10,
    "start_time": "2022-07-03T20:26:48.592Z"
   },
   {
    "duration": 57,
    "start_time": "2022-07-03T20:26:48.603Z"
   },
   {
    "duration": 4,
    "start_time": "2022-07-03T20:26:48.662Z"
   },
   {
    "duration": 12,
    "start_time": "2022-07-03T20:26:48.668Z"
   },
   {
    "duration": 6,
    "start_time": "2022-07-03T20:26:48.682Z"
   },
   {
    "duration": 8,
    "start_time": "2022-07-03T20:26:48.690Z"
   },
   {
    "duration": 5,
    "start_time": "2022-07-03T20:26:48.700Z"
   },
   {
    "duration": 64,
    "start_time": "2022-07-03T20:26:48.706Z"
   },
   {
    "duration": 10,
    "start_time": "2022-07-03T20:26:48.771Z"
   },
   {
    "duration": 4,
    "start_time": "2022-07-03T20:26:48.784Z"
   },
   {
    "duration": 20,
    "start_time": "2022-07-03T20:26:48.790Z"
   },
   {
    "duration": 46,
    "start_time": "2022-07-03T20:26:48.811Z"
   },
   {
    "duration": 10,
    "start_time": "2022-07-03T20:26:48.859Z"
   },
   {
    "duration": 6,
    "start_time": "2022-07-03T20:26:48.870Z"
   },
   {
    "duration": 13,
    "start_time": "2022-07-03T20:26:48.877Z"
   },
   {
    "duration": 9,
    "start_time": "2022-07-03T20:26:48.891Z"
   },
   {
    "duration": 5,
    "start_time": "2022-07-03T20:26:48.902Z"
   },
   {
    "duration": 12,
    "start_time": "2022-07-03T20:26:48.909Z"
   },
   {
    "duration": 34,
    "start_time": "2022-07-03T20:26:48.923Z"
   },
   {
    "duration": 18,
    "start_time": "2022-07-03T20:26:48.959Z"
   },
   {
    "duration": 98,
    "start_time": "2022-07-03T20:27:06.758Z"
   },
   {
    "duration": 20,
    "start_time": "2022-07-03T20:27:06.859Z"
   },
   {
    "duration": 37,
    "start_time": "2022-07-03T20:27:06.881Z"
   },
   {
    "duration": 11,
    "start_time": "2022-07-03T20:27:06.920Z"
   },
   {
    "duration": 55,
    "start_time": "2022-07-03T20:27:06.934Z"
   },
   {
    "duration": 5,
    "start_time": "2022-07-03T20:27:06.991Z"
   },
   {
    "duration": 15,
    "start_time": "2022-07-03T20:27:06.999Z"
   },
   {
    "duration": 12,
    "start_time": "2022-07-03T20:27:07.017Z"
   },
   {
    "duration": 26,
    "start_time": "2022-07-03T20:27:07.031Z"
   },
   {
    "duration": 26,
    "start_time": "2022-07-03T20:27:07.058Z"
   },
   {
    "duration": 42,
    "start_time": "2022-07-03T20:27:07.088Z"
   },
   {
    "duration": 16,
    "start_time": "2022-07-03T20:27:07.132Z"
   },
   {
    "duration": 20,
    "start_time": "2022-07-03T20:27:07.152Z"
   },
   {
    "duration": 29,
    "start_time": "2022-07-03T20:27:07.175Z"
   },
   {
    "duration": 17,
    "start_time": "2022-07-03T20:27:07.206Z"
   },
   {
    "duration": 10,
    "start_time": "2022-07-03T20:27:07.224Z"
   },
   {
    "duration": 6,
    "start_time": "2022-07-03T20:27:07.235Z"
   },
   {
    "duration": 34,
    "start_time": "2022-07-03T20:27:07.244Z"
   },
   {
    "duration": 11,
    "start_time": "2022-07-03T20:27:07.280Z"
   },
   {
    "duration": 3,
    "start_time": "2022-07-03T20:27:07.293Z"
   },
   {
    "duration": 13,
    "start_time": "2022-07-03T20:27:07.297Z"
   },
   {
    "duration": 17,
    "start_time": "2022-07-03T20:27:07.311Z"
   },
   {
    "duration": 24,
    "start_time": "2022-07-03T20:27:07.330Z"
   },
   {
    "duration": 73,
    "start_time": "2022-07-03T20:27:18.791Z"
   },
   {
    "duration": 16,
    "start_time": "2022-07-03T20:27:18.866Z"
   },
   {
    "duration": 16,
    "start_time": "2022-07-03T20:27:18.883Z"
   },
   {
    "duration": 9,
    "start_time": "2022-07-03T20:27:18.901Z"
   },
   {
    "duration": 57,
    "start_time": "2022-07-03T20:27:18.912Z"
   },
   {
    "duration": 4,
    "start_time": "2022-07-03T20:27:18.971Z"
   },
   {
    "duration": 14,
    "start_time": "2022-07-03T20:27:18.976Z"
   },
   {
    "duration": 5,
    "start_time": "2022-07-03T20:27:18.992Z"
   },
   {
    "duration": 8,
    "start_time": "2022-07-03T20:27:18.998Z"
   },
   {
    "duration": 4,
    "start_time": "2022-07-03T20:27:19.009Z"
   },
   {
    "duration": 40,
    "start_time": "2022-07-03T20:27:19.042Z"
   },
   {
    "duration": 10,
    "start_time": "2022-07-03T20:27:19.083Z"
   },
   {
    "duration": 5,
    "start_time": "2022-07-03T20:27:19.094Z"
   },
   {
    "duration": 52,
    "start_time": "2022-07-03T20:27:19.101Z"
   },
   {
    "duration": 20,
    "start_time": "2022-07-03T20:27:19.156Z"
   },
   {
    "duration": 11,
    "start_time": "2022-07-03T20:27:19.177Z"
   },
   {
    "duration": 10,
    "start_time": "2022-07-03T20:27:19.190Z"
   },
   {
    "duration": 12,
    "start_time": "2022-07-03T20:27:19.201Z"
   },
   {
    "duration": 6,
    "start_time": "2022-07-03T20:27:19.214Z"
   },
   {
    "duration": 3,
    "start_time": "2022-07-03T20:27:19.222Z"
   },
   {
    "duration": 28,
    "start_time": "2022-07-03T20:27:19.226Z"
   },
   {
    "duration": 14,
    "start_time": "2022-07-03T20:27:19.255Z"
   },
   {
    "duration": 13,
    "start_time": "2022-07-03T20:27:19.270Z"
   },
   {
    "duration": 11,
    "start_time": "2022-07-03T20:27:19.285Z"
   },
   {
    "duration": 12,
    "start_time": "2022-07-03T20:27:19.297Z"
   },
   {
    "duration": 520,
    "start_time": "2022-07-04T17:29:00.264Z"
   },
   {
    "duration": 21,
    "start_time": "2022-07-04T17:29:00.786Z"
   },
   {
    "duration": 18,
    "start_time": "2022-07-04T17:29:00.809Z"
   },
   {
    "duration": 25,
    "start_time": "2022-07-04T17:29:00.830Z"
   },
   {
    "duration": 34,
    "start_time": "2022-07-04T17:29:00.857Z"
   },
   {
    "duration": 4,
    "start_time": "2022-07-04T17:29:00.893Z"
   },
   {
    "duration": 14,
    "start_time": "2022-07-04T17:29:00.898Z"
   },
   {
    "duration": 15,
    "start_time": "2022-07-04T17:29:00.913Z"
   },
   {
    "duration": 21,
    "start_time": "2022-07-04T17:29:00.930Z"
   },
   {
    "duration": 23,
    "start_time": "2022-07-04T17:29:00.953Z"
   },
   {
    "duration": 39,
    "start_time": "2022-07-04T17:29:00.978Z"
   },
   {
    "duration": 12,
    "start_time": "2022-07-04T17:29:01.018Z"
   },
   {
    "duration": 37,
    "start_time": "2022-07-04T17:29:01.033Z"
   },
   {
    "duration": 39,
    "start_time": "2022-07-04T17:29:01.073Z"
   },
   {
    "duration": 28,
    "start_time": "2022-07-04T17:29:01.114Z"
   },
   {
    "duration": 38,
    "start_time": "2022-07-04T17:29:01.144Z"
   },
   {
    "duration": 27,
    "start_time": "2022-07-04T17:29:01.184Z"
   },
   {
    "duration": 24,
    "start_time": "2022-07-04T17:29:01.213Z"
   },
   {
    "duration": 45,
    "start_time": "2022-07-04T17:29:01.239Z"
   },
   {
    "duration": 20,
    "start_time": "2022-07-04T17:29:01.286Z"
   },
   {
    "duration": 38,
    "start_time": "2022-07-04T17:29:01.309Z"
   },
   {
    "duration": 41,
    "start_time": "2022-07-04T17:29:01.349Z"
   },
   {
    "duration": 66,
    "start_time": "2022-07-04T17:29:11.358Z"
   },
   {
    "duration": 23,
    "start_time": "2022-07-04T17:29:11.427Z"
   },
   {
    "duration": 20,
    "start_time": "2022-07-04T17:29:11.452Z"
   },
   {
    "duration": 13,
    "start_time": "2022-07-04T17:29:11.473Z"
   },
   {
    "duration": 68,
    "start_time": "2022-07-04T17:29:11.490Z"
   },
   {
    "duration": 4,
    "start_time": "2022-07-04T17:29:11.560Z"
   },
   {
    "duration": 17,
    "start_time": "2022-07-04T17:29:11.566Z"
   },
   {
    "duration": 17,
    "start_time": "2022-07-04T17:29:11.584Z"
   },
   {
    "duration": 8,
    "start_time": "2022-07-04T17:29:11.603Z"
   },
   {
    "duration": 14,
    "start_time": "2022-07-04T17:29:11.612Z"
   },
   {
    "duration": 47,
    "start_time": "2022-07-04T17:29:11.628Z"
   },
   {
    "duration": 11,
    "start_time": "2022-07-04T17:29:11.677Z"
   },
   {
    "duration": 11,
    "start_time": "2022-07-04T17:29:11.689Z"
   },
   {
    "duration": 41,
    "start_time": "2022-07-04T17:29:11.703Z"
   },
   {
    "duration": 18,
    "start_time": "2022-07-04T17:29:11.746Z"
   },
   {
    "duration": 11,
    "start_time": "2022-07-04T17:29:11.766Z"
   },
   {
    "duration": 10,
    "start_time": "2022-07-04T17:29:11.779Z"
   },
   {
    "duration": 13,
    "start_time": "2022-07-04T17:29:11.791Z"
   },
   {
    "duration": 23,
    "start_time": "2022-07-04T17:29:11.806Z"
   },
   {
    "duration": 8,
    "start_time": "2022-07-04T17:29:11.832Z"
   },
   {
    "duration": 16,
    "start_time": "2022-07-04T17:29:11.842Z"
   },
   {
    "duration": 26,
    "start_time": "2022-07-04T17:29:11.860Z"
   },
   {
    "duration": 77,
    "start_time": "2022-07-04T17:41:50.613Z"
   },
   {
    "duration": 15,
    "start_time": "2022-07-04T17:41:50.692Z"
   },
   {
    "duration": 31,
    "start_time": "2022-07-04T17:41:50.723Z"
   },
   {
    "duration": 23,
    "start_time": "2022-07-04T17:41:50.756Z"
   },
   {
    "duration": 57,
    "start_time": "2022-07-04T17:41:50.781Z"
   },
   {
    "duration": 4,
    "start_time": "2022-07-04T17:41:50.841Z"
   },
   {
    "duration": 25,
    "start_time": "2022-07-04T17:41:50.846Z"
   },
   {
    "duration": 24,
    "start_time": "2022-07-04T17:41:50.872Z"
   },
   {
    "duration": 6,
    "start_time": "2022-07-04T17:41:50.898Z"
   },
   {
    "duration": 11,
    "start_time": "2022-07-04T17:41:50.906Z"
   },
   {
    "duration": 55,
    "start_time": "2022-07-04T17:41:50.919Z"
   },
   {
    "duration": 10,
    "start_time": "2022-07-04T17:41:50.976Z"
   },
   {
    "duration": 9,
    "start_time": "2022-07-04T17:41:50.987Z"
   },
   {
    "duration": 29,
    "start_time": "2022-07-04T17:41:50.997Z"
   },
   {
    "duration": 28,
    "start_time": "2022-07-04T17:41:51.028Z"
   },
   {
    "duration": 11,
    "start_time": "2022-07-04T17:41:51.057Z"
   },
   {
    "duration": 8,
    "start_time": "2022-07-04T17:41:51.069Z"
   },
   {
    "duration": 26,
    "start_time": "2022-07-04T17:41:51.079Z"
   },
   {
    "duration": 25,
    "start_time": "2022-07-04T17:41:51.107Z"
   },
   {
    "duration": 14,
    "start_time": "2022-07-04T17:41:51.135Z"
   },
   {
    "duration": 15,
    "start_time": "2022-07-04T17:41:51.151Z"
   },
   {
    "duration": 18,
    "start_time": "2022-07-04T17:41:51.167Z"
   },
   {
    "duration": 17,
    "start_time": "2022-07-04T17:41:51.186Z"
   },
   {
    "duration": 34,
    "start_time": "2022-07-04T17:41:51.205Z"
   },
   {
    "duration": 19,
    "start_time": "2022-07-04T17:41:51.241Z"
   },
   {
    "duration": 80,
    "start_time": "2022-07-04T17:42:08.892Z"
   },
   {
    "duration": 18,
    "start_time": "2022-07-04T17:42:08.974Z"
   },
   {
    "duration": 35,
    "start_time": "2022-07-04T17:42:08.994Z"
   },
   {
    "duration": 18,
    "start_time": "2022-07-04T17:42:09.031Z"
   },
   {
    "duration": 75,
    "start_time": "2022-07-04T17:42:09.052Z"
   },
   {
    "duration": 5,
    "start_time": "2022-07-04T17:42:09.131Z"
   },
   {
    "duration": 24,
    "start_time": "2022-07-04T17:42:09.138Z"
   },
   {
    "duration": 5,
    "start_time": "2022-07-04T17:42:09.164Z"
   },
   {
    "duration": 16,
    "start_time": "2022-07-04T17:42:09.171Z"
   },
   {
    "duration": 5,
    "start_time": "2022-07-04T17:42:09.189Z"
   },
   {
    "duration": 66,
    "start_time": "2022-07-04T17:42:09.196Z"
   },
   {
    "duration": 11,
    "start_time": "2022-07-04T17:42:09.264Z"
   },
   {
    "duration": 4,
    "start_time": "2022-07-04T17:42:09.276Z"
   },
   {
    "duration": 43,
    "start_time": "2022-07-04T17:42:09.283Z"
   },
   {
    "duration": 28,
    "start_time": "2022-07-04T17:42:09.329Z"
   },
   {
    "duration": 11,
    "start_time": "2022-07-04T17:42:09.359Z"
   },
   {
    "duration": 5,
    "start_time": "2022-07-04T17:42:09.373Z"
   },
   {
    "duration": 14,
    "start_time": "2022-07-04T17:42:09.380Z"
   },
   {
    "duration": 14,
    "start_time": "2022-07-04T17:42:09.429Z"
   },
   {
    "duration": 5,
    "start_time": "2022-07-04T17:42:09.445Z"
   },
   {
    "duration": 12,
    "start_time": "2022-07-04T17:42:09.451Z"
   },
   {
    "duration": 20,
    "start_time": "2022-07-04T17:42:09.465Z"
   },
   {
    "duration": 52,
    "start_time": "2022-07-04T17:42:09.487Z"
   },
   {
    "duration": 19,
    "start_time": "2022-07-04T17:42:09.542Z"
   },
   {
    "duration": 18,
    "start_time": "2022-07-04T17:42:09.563Z"
   },
   {
    "duration": 67,
    "start_time": "2022-07-04T17:42:53.340Z"
   },
   {
    "duration": 17,
    "start_time": "2022-07-04T17:42:53.409Z"
   },
   {
    "duration": 36,
    "start_time": "2022-07-04T17:42:53.428Z"
   },
   {
    "duration": 14,
    "start_time": "2022-07-04T17:42:53.467Z"
   },
   {
    "duration": 49,
    "start_time": "2022-07-04T17:42:53.484Z"
   },
   {
    "duration": 6,
    "start_time": "2022-07-04T17:42:53.536Z"
   },
   {
    "duration": 17,
    "start_time": "2022-07-04T17:42:53.545Z"
   },
   {
    "duration": 5,
    "start_time": "2022-07-04T17:42:53.563Z"
   },
   {
    "duration": 10,
    "start_time": "2022-07-04T17:42:53.569Z"
   },
   {
    "duration": 12,
    "start_time": "2022-07-04T17:42:53.580Z"
   },
   {
    "duration": 55,
    "start_time": "2022-07-04T17:42:53.594Z"
   },
   {
    "duration": 18,
    "start_time": "2022-07-04T17:42:53.651Z"
   },
   {
    "duration": 6,
    "start_time": "2022-07-04T17:42:53.671Z"
   },
   {
    "duration": 27,
    "start_time": "2022-07-04T17:42:53.679Z"
   },
   {
    "duration": 29,
    "start_time": "2022-07-04T17:42:53.722Z"
   },
   {
    "duration": 11,
    "start_time": "2022-07-04T17:42:53.753Z"
   },
   {
    "duration": 6,
    "start_time": "2022-07-04T17:42:53.766Z"
   },
   {
    "duration": 17,
    "start_time": "2022-07-04T17:42:53.774Z"
   },
   {
    "duration": 37,
    "start_time": "2022-07-04T17:42:53.793Z"
   },
   {
    "duration": 12,
    "start_time": "2022-07-04T17:42:53.833Z"
   },
   {
    "duration": 12,
    "start_time": "2022-07-04T17:42:53.850Z"
   },
   {
    "duration": 31,
    "start_time": "2022-07-04T17:42:53.864Z"
   },
   {
    "duration": 27,
    "start_time": "2022-07-04T17:42:53.897Z"
   },
   {
    "duration": 24,
    "start_time": "2022-07-04T17:42:53.926Z"
   },
   {
    "duration": 18,
    "start_time": "2022-07-04T17:42:53.951Z"
   },
   {
    "duration": 71,
    "start_time": "2022-07-04T17:52:20.934Z"
   },
   {
    "duration": 29,
    "start_time": "2022-07-04T17:52:21.007Z"
   },
   {
    "duration": 18,
    "start_time": "2022-07-04T17:52:21.049Z"
   },
   {
    "duration": 15,
    "start_time": "2022-07-04T17:52:21.069Z"
   },
   {
    "duration": 46,
    "start_time": "2022-07-04T17:52:21.085Z"
   },
   {
    "duration": 13,
    "start_time": "2022-07-04T17:52:21.141Z"
   },
   {
    "duration": 13,
    "start_time": "2022-07-04T17:52:21.156Z"
   },
   {
    "duration": 4,
    "start_time": "2022-07-04T17:52:21.171Z"
   },
   {
    "duration": 8,
    "start_time": "2022-07-04T17:52:21.176Z"
   },
   {
    "duration": 4,
    "start_time": "2022-07-04T17:52:21.186Z"
   },
   {
    "duration": 57,
    "start_time": "2022-07-04T17:52:21.191Z"
   },
   {
    "duration": 12,
    "start_time": "2022-07-04T17:52:21.253Z"
   },
   {
    "duration": 7,
    "start_time": "2022-07-04T17:52:21.267Z"
   },
   {
    "duration": 21,
    "start_time": "2022-07-04T17:52:21.275Z"
   },
   {
    "duration": 40,
    "start_time": "2022-07-04T17:52:21.297Z"
   },
   {
    "duration": 17,
    "start_time": "2022-07-04T17:52:21.343Z"
   },
   {
    "duration": 4,
    "start_time": "2022-07-04T17:52:21.362Z"
   },
   {
    "duration": 19,
    "start_time": "2022-07-04T17:52:21.368Z"
   },
   {
    "duration": 20,
    "start_time": "2022-07-04T17:52:21.389Z"
   },
   {
    "duration": 5,
    "start_time": "2022-07-04T17:52:21.410Z"
   },
   {
    "duration": 57,
    "start_time": "2022-07-04T17:52:21.417Z"
   },
   {
    "duration": 25,
    "start_time": "2022-07-04T17:52:21.477Z"
   },
   {
    "duration": 64,
    "start_time": "2022-07-04T17:53:09.671Z"
   },
   {
    "duration": 26,
    "start_time": "2022-07-04T17:53:09.736Z"
   },
   {
    "duration": 22,
    "start_time": "2022-07-04T17:53:09.764Z"
   },
   {
    "duration": 17,
    "start_time": "2022-07-04T17:53:09.789Z"
   },
   {
    "duration": 57,
    "start_time": "2022-07-04T17:53:09.808Z"
   },
   {
    "duration": 5,
    "start_time": "2022-07-04T17:53:09.867Z"
   },
   {
    "duration": 11,
    "start_time": "2022-07-04T17:53:09.874Z"
   },
   {
    "duration": 7,
    "start_time": "2022-07-04T17:53:09.887Z"
   },
   {
    "duration": 7,
    "start_time": "2022-07-04T17:53:09.895Z"
   },
   {
    "duration": 25,
    "start_time": "2022-07-04T17:53:09.904Z"
   },
   {
    "duration": 52,
    "start_time": "2022-07-04T17:53:09.931Z"
   },
   {
    "duration": 10,
    "start_time": "2022-07-04T17:53:09.985Z"
   },
   {
    "duration": 7,
    "start_time": "2022-07-04T17:53:09.997Z"
   },
   {
    "duration": 42,
    "start_time": "2022-07-04T17:53:10.007Z"
   },
   {
    "duration": 23,
    "start_time": "2022-07-04T17:53:10.053Z"
   },
   {
    "duration": 10,
    "start_time": "2022-07-04T17:53:10.078Z"
   },
   {
    "duration": 12,
    "start_time": "2022-07-04T17:53:10.089Z"
   },
   {
    "duration": 32,
    "start_time": "2022-07-04T17:53:10.102Z"
   },
   {
    "duration": 13,
    "start_time": "2022-07-04T17:53:10.141Z"
   },
   {
    "duration": 5,
    "start_time": "2022-07-04T17:53:10.156Z"
   },
   {
    "duration": 15,
    "start_time": "2022-07-04T17:53:10.162Z"
   },
   {
    "duration": 15,
    "start_time": "2022-07-04T17:53:10.179Z"
   },
   {
    "duration": 17,
    "start_time": "2022-07-04T17:53:10.195Z"
   },
   {
    "duration": 34,
    "start_time": "2022-07-04T17:53:10.214Z"
   },
   {
    "duration": 35,
    "start_time": "2022-07-04T17:53:10.252Z"
   },
   {
    "duration": 82,
    "start_time": "2022-07-04T18:26:01.199Z"
   },
   {
    "duration": 31,
    "start_time": "2022-07-04T18:26:01.284Z"
   },
   {
    "duration": 74,
    "start_time": "2022-07-04T18:26:01.316Z"
   },
   {
    "duration": 82,
    "start_time": "2022-07-04T18:26:01.393Z"
   },
   {
    "duration": 92,
    "start_time": "2022-07-04T18:26:01.477Z"
   },
   {
    "duration": 6,
    "start_time": "2022-07-04T18:26:01.571Z"
   },
   {
    "duration": 50,
    "start_time": "2022-07-04T18:26:01.578Z"
   },
   {
    "duration": 70,
    "start_time": "2022-07-04T18:26:01.631Z"
   },
   {
    "duration": 92,
    "start_time": "2022-07-04T18:26:01.703Z"
   },
   {
    "duration": 72,
    "start_time": "2022-07-04T18:26:01.798Z"
   },
   {
    "duration": 123,
    "start_time": "2022-07-04T18:26:01.872Z"
   },
   {
    "duration": 94,
    "start_time": "2022-07-04T18:26:01.997Z"
   },
   {
    "duration": 18,
    "start_time": "2022-07-04T18:26:02.093Z"
   },
   {
    "duration": 97,
    "start_time": "2022-07-04T18:26:02.112Z"
   },
   {
    "duration": 44,
    "start_time": "2022-07-04T18:26:02.210Z"
   },
   {
    "duration": 34,
    "start_time": "2022-07-04T18:26:02.256Z"
   },
   {
    "duration": 14,
    "start_time": "2022-07-04T18:26:02.292Z"
   },
   {
    "duration": 55,
    "start_time": "2022-07-04T18:26:02.308Z"
   },
   {
    "duration": 28,
    "start_time": "2022-07-04T18:26:02.364Z"
   },
   {
    "duration": 8,
    "start_time": "2022-07-04T18:26:02.394Z"
   },
   {
    "duration": 22,
    "start_time": "2022-07-04T18:26:02.404Z"
   },
   {
    "duration": 65,
    "start_time": "2022-07-04T18:26:02.429Z"
   },
   {
    "duration": 86,
    "start_time": "2022-07-04T18:29:47.371Z"
   },
   {
    "duration": 18,
    "start_time": "2022-07-04T18:29:47.459Z"
   },
   {
    "duration": 29,
    "start_time": "2022-07-04T18:29:47.478Z"
   },
   {
    "duration": 33,
    "start_time": "2022-07-04T18:29:47.509Z"
   },
   {
    "duration": 41,
    "start_time": "2022-07-04T18:29:47.548Z"
   },
   {
    "duration": 3,
    "start_time": "2022-07-04T18:29:47.591Z"
   },
   {
    "duration": 15,
    "start_time": "2022-07-04T18:29:47.596Z"
   },
   {
    "duration": 5,
    "start_time": "2022-07-04T18:29:47.612Z"
   },
   {
    "duration": 32,
    "start_time": "2022-07-04T18:29:47.628Z"
   },
   {
    "duration": 5,
    "start_time": "2022-07-04T18:29:47.664Z"
   },
   {
    "duration": 47,
    "start_time": "2022-07-04T18:29:47.670Z"
   },
   {
    "duration": 16,
    "start_time": "2022-07-04T18:29:47.719Z"
   },
   {
    "duration": 23,
    "start_time": "2022-07-04T18:29:47.736Z"
   },
   {
    "duration": 21,
    "start_time": "2022-07-04T18:29:47.762Z"
   },
   {
    "duration": 16,
    "start_time": "2022-07-04T18:29:47.784Z"
   },
   {
    "duration": 26,
    "start_time": "2022-07-04T18:29:47.802Z"
   },
   {
    "duration": 8,
    "start_time": "2022-07-04T18:29:47.831Z"
   },
   {
    "duration": 21,
    "start_time": "2022-07-04T18:29:47.848Z"
   },
   {
    "duration": 11,
    "start_time": "2022-07-04T18:29:47.871Z"
   },
   {
    "duration": 5,
    "start_time": "2022-07-04T18:29:47.884Z"
   },
   {
    "duration": 12,
    "start_time": "2022-07-04T18:29:47.890Z"
   },
   {
    "duration": 29,
    "start_time": "2022-07-04T18:29:47.904Z"
   },
   {
    "duration": 26,
    "start_time": "2022-07-04T18:29:47.938Z"
   },
   {
    "duration": 81,
    "start_time": "2022-07-04T18:30:55.966Z"
   },
   {
    "duration": 18,
    "start_time": "2022-07-04T18:30:56.050Z"
   },
   {
    "duration": 16,
    "start_time": "2022-07-04T18:30:56.070Z"
   },
   {
    "duration": 16,
    "start_time": "2022-07-04T18:30:56.088Z"
   },
   {
    "duration": 46,
    "start_time": "2022-07-04T18:30:56.107Z"
   },
   {
    "duration": 4,
    "start_time": "2022-07-04T18:30:56.155Z"
   },
   {
    "duration": 13,
    "start_time": "2022-07-04T18:30:56.161Z"
   },
   {
    "duration": 7,
    "start_time": "2022-07-04T18:30:56.176Z"
   },
   {
    "duration": 13,
    "start_time": "2022-07-04T18:30:56.185Z"
   },
   {
    "duration": 11,
    "start_time": "2022-07-04T18:30:56.200Z"
   },
   {
    "duration": 51,
    "start_time": "2022-07-04T18:30:56.213Z"
   },
   {
    "duration": 10,
    "start_time": "2022-07-04T18:30:56.266Z"
   },
   {
    "duration": 6,
    "start_time": "2022-07-04T18:30:56.277Z"
   },
   {
    "duration": 23,
    "start_time": "2022-07-04T18:30:56.285Z"
   },
   {
    "duration": 29,
    "start_time": "2022-07-04T18:30:56.309Z"
   },
   {
    "duration": 13,
    "start_time": "2022-07-04T18:30:56.343Z"
   },
   {
    "duration": 12,
    "start_time": "2022-07-04T18:30:56.358Z"
   },
   {
    "duration": 14,
    "start_time": "2022-07-04T18:30:56.371Z"
   },
   {
    "duration": 6,
    "start_time": "2022-07-04T18:30:56.387Z"
   },
   {
    "duration": 4,
    "start_time": "2022-07-04T18:30:56.395Z"
   },
   {
    "duration": 37,
    "start_time": "2022-07-04T18:30:56.400Z"
   },
   {
    "duration": 26,
    "start_time": "2022-07-04T18:30:56.443Z"
   },
   {
    "duration": 20,
    "start_time": "2022-07-04T18:30:56.470Z"
   },
   {
    "duration": 20,
    "start_time": "2022-07-04T18:30:56.491Z"
   },
   {
    "duration": 29,
    "start_time": "2022-07-04T18:30:56.512Z"
   },
   {
    "duration": 60,
    "start_time": "2022-07-04T19:08:32.423Z"
   },
   {
    "duration": 16,
    "start_time": "2022-07-04T19:08:32.485Z"
   },
   {
    "duration": 42,
    "start_time": "2022-07-04T19:08:32.503Z"
   },
   {
    "duration": 11,
    "start_time": "2022-07-04T19:08:32.548Z"
   },
   {
    "duration": 40,
    "start_time": "2022-07-04T19:08:32.561Z"
   },
   {
    "duration": 4,
    "start_time": "2022-07-04T19:08:32.602Z"
   },
   {
    "duration": 25,
    "start_time": "2022-07-04T19:08:32.607Z"
   },
   {
    "duration": 25,
    "start_time": "2022-07-04T19:08:32.634Z"
   },
   {
    "duration": 10,
    "start_time": "2022-07-04T19:08:32.660Z"
   },
   {
    "duration": 5,
    "start_time": "2022-07-04T19:08:32.672Z"
   },
   {
    "duration": 34,
    "start_time": "2022-07-04T19:08:32.678Z"
   },
   {
    "duration": 10,
    "start_time": "2022-07-04T19:08:32.714Z"
   },
   {
    "duration": 8,
    "start_time": "2022-07-04T19:08:32.725Z"
   },
   {
    "duration": 20,
    "start_time": "2022-07-04T19:08:32.734Z"
   },
   {
    "duration": 17,
    "start_time": "2022-07-04T19:08:32.756Z"
   },
   {
    "duration": 11,
    "start_time": "2022-07-04T19:08:32.775Z"
   },
   {
    "duration": 8,
    "start_time": "2022-07-04T19:08:32.788Z"
   },
   {
    "duration": 31,
    "start_time": "2022-07-04T19:08:32.798Z"
   },
   {
    "duration": 5,
    "start_time": "2022-07-04T19:08:32.831Z"
   },
   {
    "duration": 4,
    "start_time": "2022-07-04T19:08:32.838Z"
   },
   {
    "duration": 11,
    "start_time": "2022-07-04T19:08:32.843Z"
   },
   {
    "duration": 27,
    "start_time": "2022-07-04T19:08:32.856Z"
   },
   {
    "duration": 41,
    "start_time": "2022-07-04T19:08:32.885Z"
   },
   {
    "duration": 23,
    "start_time": "2022-07-04T19:08:32.927Z"
   },
   {
    "duration": 85,
    "start_time": "2022-07-04T19:08:32.952Z"
   },
   {
    "duration": 663,
    "start_time": "2022-07-05T05:52:30.691Z"
   },
   {
    "duration": 47,
    "start_time": "2022-07-05T05:52:31.357Z"
   },
   {
    "duration": 26,
    "start_time": "2022-07-05T05:52:31.406Z"
   },
   {
    "duration": 13,
    "start_time": "2022-07-05T05:52:31.434Z"
   },
   {
    "duration": 50,
    "start_time": "2022-07-05T05:52:31.450Z"
   },
   {
    "duration": 4,
    "start_time": "2022-07-05T05:52:31.502Z"
   },
   {
    "duration": 17,
    "start_time": "2022-07-05T05:52:31.508Z"
   },
   {
    "duration": 6,
    "start_time": "2022-07-05T05:52:31.526Z"
   },
   {
    "duration": 32,
    "start_time": "2022-07-05T05:52:31.534Z"
   },
   {
    "duration": 9,
    "start_time": "2022-07-05T05:52:31.568Z"
   },
   {
    "duration": 60,
    "start_time": "2022-07-05T05:52:31.583Z"
   },
   {
    "duration": 16,
    "start_time": "2022-07-05T05:52:31.646Z"
   },
   {
    "duration": 12,
    "start_time": "2022-07-05T05:52:31.668Z"
   },
   {
    "duration": 75,
    "start_time": "2022-07-05T05:52:31.683Z"
   },
   {
    "duration": 53,
    "start_time": "2022-07-05T05:52:31.760Z"
   },
   {
    "duration": 25,
    "start_time": "2022-07-05T05:52:31.822Z"
   },
   {
    "duration": 61,
    "start_time": "2022-07-05T05:52:31.849Z"
   },
   {
    "duration": 15,
    "start_time": "2022-07-05T05:52:31.913Z"
   },
   {
    "duration": 13,
    "start_time": "2022-07-05T05:52:31.930Z"
   },
   {
    "duration": 4,
    "start_time": "2022-07-05T05:52:31.945Z"
   },
   {
    "duration": 65,
    "start_time": "2022-07-05T05:52:31.951Z"
   },
   {
    "duration": 35,
    "start_time": "2022-07-05T05:52:32.019Z"
   },
   {
    "duration": 42,
    "start_time": "2022-07-05T05:52:32.057Z"
   },
   {
    "duration": 41,
    "start_time": "2022-07-05T05:52:32.107Z"
   },
   {
    "duration": 31,
    "start_time": "2022-07-05T05:52:32.150Z"
   },
   {
    "duration": 52,
    "start_time": "2022-07-05T17:35:23.695Z"
   },
   {
    "duration": 565,
    "start_time": "2022-07-05T18:06:10.497Z"
   },
   {
    "duration": 37,
    "start_time": "2022-07-05T18:06:11.064Z"
   },
   {
    "duration": 23,
    "start_time": "2022-07-05T18:06:11.103Z"
   },
   {
    "duration": 31,
    "start_time": "2022-07-05T18:06:11.129Z"
   },
   {
    "duration": 55,
    "start_time": "2022-07-05T18:06:11.162Z"
   },
   {
    "duration": 3,
    "start_time": "2022-07-05T18:06:11.219Z"
   },
   {
    "duration": 15,
    "start_time": "2022-07-05T18:06:11.224Z"
   },
   {
    "duration": 40,
    "start_time": "2022-07-05T18:06:11.246Z"
   },
   {
    "duration": 11,
    "start_time": "2022-07-05T18:06:11.288Z"
   },
   {
    "duration": 5,
    "start_time": "2022-07-05T18:06:11.302Z"
   },
   {
    "duration": 71,
    "start_time": "2022-07-05T18:06:11.309Z"
   },
   {
    "duration": 20,
    "start_time": "2022-07-05T18:06:11.382Z"
   },
   {
    "duration": 5,
    "start_time": "2022-07-05T18:06:11.404Z"
   },
   {
    "duration": 26,
    "start_time": "2022-07-05T18:06:11.411Z"
   },
   {
    "duration": 37,
    "start_time": "2022-07-05T18:06:11.438Z"
   },
   {
    "duration": 39,
    "start_time": "2022-07-05T18:06:11.480Z"
   },
   {
    "duration": 24,
    "start_time": "2022-07-05T18:06:11.522Z"
   },
   {
    "duration": 61,
    "start_time": "2022-07-05T18:06:11.551Z"
   },
   {
    "duration": 14,
    "start_time": "2022-07-05T18:06:11.614Z"
   },
   {
    "duration": 4,
    "start_time": "2022-07-05T18:06:11.629Z"
   },
   {
    "duration": 20,
    "start_time": "2022-07-05T18:06:11.635Z"
   },
   {
    "duration": 47,
    "start_time": "2022-07-05T18:06:11.657Z"
   },
   {
    "duration": 10,
    "start_time": "2022-07-05T18:06:11.706Z"
   },
   {
    "duration": 12,
    "start_time": "2022-07-05T18:06:11.719Z"
   },
   {
    "duration": 16,
    "start_time": "2022-07-05T18:06:11.734Z"
   },
   {
    "duration": 38,
    "start_time": "2022-07-05T18:06:11.751Z"
   },
   {
    "duration": 67,
    "start_time": "2022-07-05T18:10:13.172Z"
   },
   {
    "duration": 24,
    "start_time": "2022-07-05T18:10:13.242Z"
   },
   {
    "duration": 33,
    "start_time": "2022-07-05T18:10:13.268Z"
   },
   {
    "duration": 16,
    "start_time": "2022-07-05T18:10:13.302Z"
   },
   {
    "duration": 69,
    "start_time": "2022-07-05T18:10:13.321Z"
   },
   {
    "duration": 4,
    "start_time": "2022-07-05T18:10:13.392Z"
   },
   {
    "duration": 12,
    "start_time": "2022-07-05T18:10:13.398Z"
   },
   {
    "duration": 15,
    "start_time": "2022-07-05T18:10:13.411Z"
   },
   {
    "duration": 68,
    "start_time": "2022-07-05T18:10:13.427Z"
   },
   {
    "duration": 14,
    "start_time": "2022-07-05T18:10:13.497Z"
   },
   {
    "duration": 75,
    "start_time": "2022-07-05T18:10:13.513Z"
   },
   {
    "duration": 19,
    "start_time": "2022-07-05T18:10:13.590Z"
   },
   {
    "duration": 12,
    "start_time": "2022-07-05T18:10:13.611Z"
   },
   {
    "duration": 32,
    "start_time": "2022-07-05T18:10:13.626Z"
   },
   {
    "duration": 27,
    "start_time": "2022-07-05T18:10:13.664Z"
   },
   {
    "duration": 23,
    "start_time": "2022-07-05T18:10:13.692Z"
   },
   {
    "duration": 4,
    "start_time": "2022-07-05T18:10:13.718Z"
   },
   {
    "duration": 45,
    "start_time": "2022-07-05T18:10:13.724Z"
   },
   {
    "duration": 21,
    "start_time": "2022-07-05T18:10:13.771Z"
   },
   {
    "duration": 17,
    "start_time": "2022-07-05T18:10:13.793Z"
   },
   {
    "duration": 23,
    "start_time": "2022-07-05T18:10:13.812Z"
   },
   {
    "duration": 57,
    "start_time": "2022-07-05T18:10:13.838Z"
   },
   {
    "duration": 8,
    "start_time": "2022-07-05T18:10:13.897Z"
   },
   {
    "duration": 7,
    "start_time": "2022-07-05T18:10:13.907Z"
   },
   {
    "duration": 10,
    "start_time": "2022-07-05T18:10:13.916Z"
   },
   {
    "duration": 105,
    "start_time": "2022-07-05T18:10:13.928Z"
   },
   {
    "duration": 67,
    "start_time": "2022-07-05T18:14:22.991Z"
   },
   {
    "duration": 30,
    "start_time": "2022-07-05T18:14:23.069Z"
   },
   {
    "duration": 16,
    "start_time": "2022-07-05T18:14:23.101Z"
   },
   {
    "duration": 12,
    "start_time": "2022-07-05T18:14:23.119Z"
   },
   {
    "duration": 56,
    "start_time": "2022-07-05T18:14:23.133Z"
   },
   {
    "duration": 4,
    "start_time": "2022-07-05T18:14:23.191Z"
   },
   {
    "duration": 25,
    "start_time": "2022-07-05T18:14:23.197Z"
   },
   {
    "duration": 6,
    "start_time": "2022-07-05T18:14:23.225Z"
   },
   {
    "duration": 49,
    "start_time": "2022-07-05T18:14:23.233Z"
   },
   {
    "duration": 7,
    "start_time": "2022-07-05T18:14:23.284Z"
   },
   {
    "duration": 45,
    "start_time": "2022-07-05T18:14:23.293Z"
   },
   {
    "duration": 23,
    "start_time": "2022-07-05T18:14:23.340Z"
   },
   {
    "duration": 21,
    "start_time": "2022-07-05T18:14:23.375Z"
   },
   {
    "duration": 38,
    "start_time": "2022-07-05T18:14:23.400Z"
   },
   {
    "duration": 36,
    "start_time": "2022-07-05T18:14:23.440Z"
   },
   {
    "duration": 12,
    "start_time": "2022-07-05T18:14:23.479Z"
   },
   {
    "duration": 4,
    "start_time": "2022-07-05T18:14:23.493Z"
   },
   {
    "duration": 14,
    "start_time": "2022-07-05T18:14:23.499Z"
   },
   {
    "duration": 6,
    "start_time": "2022-07-05T18:14:23.514Z"
   },
   {
    "duration": 6,
    "start_time": "2022-07-05T18:14:23.546Z"
   },
   {
    "duration": 30,
    "start_time": "2022-07-05T18:14:23.557Z"
   },
   {
    "duration": 9,
    "start_time": "2022-07-05T18:14:23.589Z"
   },
   {
    "duration": 7,
    "start_time": "2022-07-05T18:14:23.599Z"
   },
   {
    "duration": 13,
    "start_time": "2022-07-05T18:14:23.608Z"
   },
   {
    "duration": 29,
    "start_time": "2022-07-05T18:14:23.623Z"
   },
   {
    "duration": 36,
    "start_time": "2022-07-05T18:14:23.657Z"
   },
   {
    "duration": 73,
    "start_time": "2022-07-05T18:14:57.460Z"
   },
   {
    "duration": 43,
    "start_time": "2022-07-05T18:14:57.535Z"
   },
   {
    "duration": 19,
    "start_time": "2022-07-05T18:14:57.579Z"
   },
   {
    "duration": 12,
    "start_time": "2022-07-05T18:14:57.602Z"
   },
   {
    "duration": 52,
    "start_time": "2022-07-05T18:14:57.616Z"
   },
   {
    "duration": 5,
    "start_time": "2022-07-05T18:14:57.675Z"
   },
   {
    "duration": 26,
    "start_time": "2022-07-05T18:14:57.681Z"
   },
   {
    "duration": 6,
    "start_time": "2022-07-05T18:14:57.708Z"
   },
   {
    "duration": 14,
    "start_time": "2022-07-05T18:14:57.715Z"
   },
   {
    "duration": 34,
    "start_time": "2022-07-05T18:14:57.733Z"
   },
   {
    "duration": 42,
    "start_time": "2022-07-05T18:14:57.770Z"
   },
   {
    "duration": 9,
    "start_time": "2022-07-05T18:14:57.814Z"
   },
   {
    "duration": 25,
    "start_time": "2022-07-05T18:14:57.825Z"
   },
   {
    "duration": 40,
    "start_time": "2022-07-05T18:14:57.853Z"
   },
   {
    "duration": 20,
    "start_time": "2022-07-05T18:14:57.895Z"
   },
   {
    "duration": 11,
    "start_time": "2022-07-05T18:14:57.917Z"
   },
   {
    "duration": 43,
    "start_time": "2022-07-05T18:14:57.930Z"
   },
   {
    "duration": 30,
    "start_time": "2022-07-05T18:14:57.974Z"
   },
   {
    "duration": 15,
    "start_time": "2022-07-05T18:14:58.005Z"
   },
   {
    "duration": 37,
    "start_time": "2022-07-05T18:14:58.022Z"
   },
   {
    "duration": 37,
    "start_time": "2022-07-05T18:14:58.061Z"
   },
   {
    "duration": 15,
    "start_time": "2022-07-05T18:14:58.100Z"
   },
   {
    "duration": 17,
    "start_time": "2022-07-05T18:14:58.117Z"
   },
   {
    "duration": 42,
    "start_time": "2022-07-05T18:14:58.135Z"
   },
   {
    "duration": 13,
    "start_time": "2022-07-05T18:14:58.179Z"
   },
   {
    "duration": 1085,
    "start_time": "2022-07-05T18:14:58.194Z"
   },
   {
    "duration": 88,
    "start_time": "2022-07-05T18:15:14.537Z"
   },
   {
    "duration": 45,
    "start_time": "2022-07-05T18:15:14.628Z"
   },
   {
    "duration": 27,
    "start_time": "2022-07-05T18:15:14.676Z"
   },
   {
    "duration": 15,
    "start_time": "2022-07-05T18:15:14.706Z"
   },
   {
    "duration": 59,
    "start_time": "2022-07-05T18:15:14.724Z"
   },
   {
    "duration": 4,
    "start_time": "2022-07-05T18:15:14.786Z"
   },
   {
    "duration": 31,
    "start_time": "2022-07-05T18:15:14.792Z"
   },
   {
    "duration": 19,
    "start_time": "2022-07-05T18:15:14.825Z"
   },
   {
    "duration": 46,
    "start_time": "2022-07-05T18:15:14.847Z"
   },
   {
    "duration": 13,
    "start_time": "2022-07-05T18:15:14.897Z"
   },
   {
    "duration": 52,
    "start_time": "2022-07-05T18:15:14.912Z"
   },
   {
    "duration": 12,
    "start_time": "2022-07-05T18:15:14.966Z"
   },
   {
    "duration": 4,
    "start_time": "2022-07-05T18:15:14.980Z"
   },
   {
    "duration": 19,
    "start_time": "2022-07-05T18:15:14.986Z"
   },
   {
    "duration": 37,
    "start_time": "2022-07-05T18:15:15.007Z"
   },
   {
    "duration": 27,
    "start_time": "2022-07-05T18:15:15.051Z"
   },
   {
    "duration": 4,
    "start_time": "2022-07-05T18:15:15.080Z"
   },
   {
    "duration": 15,
    "start_time": "2022-07-05T18:15:15.085Z"
   },
   {
    "duration": 10,
    "start_time": "2022-07-05T18:15:15.102Z"
   },
   {
    "duration": 4,
    "start_time": "2022-07-05T18:15:15.114Z"
   },
   {
    "duration": 12,
    "start_time": "2022-07-05T18:15:15.120Z"
   },
   {
    "duration": 48,
    "start_time": "2022-07-05T18:15:15.134Z"
   },
   {
    "duration": 7,
    "start_time": "2022-07-05T18:15:15.184Z"
   },
   {
    "duration": 9,
    "start_time": "2022-07-05T18:15:15.193Z"
   },
   {
    "duration": 13,
    "start_time": "2022-07-05T18:15:15.204Z"
   },
   {
    "duration": 44,
    "start_time": "2022-07-05T18:15:15.219Z"
   },
   {
    "duration": 85,
    "start_time": "2022-07-05T18:17:32.757Z"
   },
   {
    "duration": 35,
    "start_time": "2022-07-05T18:17:32.844Z"
   },
   {
    "duration": 19,
    "start_time": "2022-07-05T18:17:32.881Z"
   },
   {
    "duration": 9,
    "start_time": "2022-07-05T18:17:32.902Z"
   },
   {
    "duration": 64,
    "start_time": "2022-07-05T18:17:32.913Z"
   },
   {
    "duration": 4,
    "start_time": "2022-07-05T18:17:32.979Z"
   },
   {
    "duration": 18,
    "start_time": "2022-07-05T18:17:32.985Z"
   },
   {
    "duration": 5,
    "start_time": "2022-07-05T18:17:33.005Z"
   },
   {
    "duration": 31,
    "start_time": "2022-07-05T18:17:33.012Z"
   },
   {
    "duration": 14,
    "start_time": "2022-07-05T18:17:33.045Z"
   },
   {
    "duration": 55,
    "start_time": "2022-07-05T18:17:33.061Z"
   },
   {
    "duration": 28,
    "start_time": "2022-07-05T18:17:33.118Z"
   },
   {
    "duration": 6,
    "start_time": "2022-07-05T18:17:33.149Z"
   },
   {
    "duration": 28,
    "start_time": "2022-07-05T18:17:33.159Z"
   },
   {
    "duration": 18,
    "start_time": "2022-07-05T18:17:33.188Z"
   },
   {
    "duration": 10,
    "start_time": "2022-07-05T18:17:33.208Z"
   },
   {
    "duration": 24,
    "start_time": "2022-07-05T18:17:33.220Z"
   },
   {
    "duration": 17,
    "start_time": "2022-07-05T18:17:33.247Z"
   },
   {
    "duration": 19,
    "start_time": "2022-07-05T18:17:33.266Z"
   },
   {
    "duration": 8,
    "start_time": "2022-07-05T18:17:33.287Z"
   },
   {
    "duration": 16,
    "start_time": "2022-07-05T18:17:33.297Z"
   },
   {
    "duration": 8,
    "start_time": "2022-07-05T18:17:33.315Z"
   },
   {
    "duration": 43,
    "start_time": "2022-07-05T18:17:33.324Z"
   },
   {
    "duration": 80,
    "start_time": "2022-07-05T18:19:03.750Z"
   },
   {
    "duration": 31,
    "start_time": "2022-07-05T18:19:03.833Z"
   },
   {
    "duration": 38,
    "start_time": "2022-07-05T18:19:03.868Z"
   },
   {
    "duration": 11,
    "start_time": "2022-07-05T18:19:03.909Z"
   },
   {
    "duration": 55,
    "start_time": "2022-07-05T18:19:03.923Z"
   },
   {
    "duration": 4,
    "start_time": "2022-07-05T18:19:03.981Z"
   },
   {
    "duration": 18,
    "start_time": "2022-07-05T18:19:03.986Z"
   },
   {
    "duration": 6,
    "start_time": "2022-07-05T18:19:04.007Z"
   },
   {
    "duration": 6,
    "start_time": "2022-07-05T18:19:04.015Z"
   },
   {
    "duration": 37,
    "start_time": "2022-07-05T18:19:04.026Z"
   },
   {
    "duration": 70,
    "start_time": "2022-07-05T18:19:04.066Z"
   },
   {
    "duration": 20,
    "start_time": "2022-07-05T18:19:04.138Z"
   },
   {
    "duration": 27,
    "start_time": "2022-07-05T18:19:04.160Z"
   },
   {
    "duration": 23,
    "start_time": "2022-07-05T18:19:04.190Z"
   },
   {
    "duration": 18,
    "start_time": "2022-07-05T18:19:04.215Z"
   },
   {
    "duration": 21,
    "start_time": "2022-07-05T18:19:04.236Z"
   },
   {
    "duration": 29,
    "start_time": "2022-07-05T18:19:04.259Z"
   },
   {
    "duration": 17,
    "start_time": "2022-07-05T18:19:04.290Z"
   },
   {
    "duration": 10,
    "start_time": "2022-07-05T18:19:04.309Z"
   },
   {
    "duration": 4,
    "start_time": "2022-07-05T18:19:04.321Z"
   },
   {
    "duration": 20,
    "start_time": "2022-07-05T18:19:04.327Z"
   },
   {
    "duration": 27,
    "start_time": "2022-07-05T18:19:04.350Z"
   },
   {
    "duration": 44,
    "start_time": "2022-07-05T18:19:04.386Z"
   },
   {
    "duration": 75,
    "start_time": "2022-07-05T18:19:04.433Z"
   },
   {
    "duration": 36,
    "start_time": "2022-07-05T18:19:04.511Z"
   },
   {
    "duration": 52,
    "start_time": "2022-07-05T18:19:04.561Z"
   },
   {
    "duration": 46,
    "start_time": "2022-07-05T18:19:04.616Z"
   },
   {
    "duration": 68,
    "start_time": "2022-07-05T18:19:04.668Z"
   },
   {
    "duration": 99,
    "start_time": "2022-07-05T18:19:04.739Z"
   },
   {
    "duration": 134,
    "start_time": "2022-07-05T18:27:34.822Z"
   },
   {
    "duration": 51,
    "start_time": "2022-07-05T18:27:34.962Z"
   },
   {
    "duration": 100,
    "start_time": "2022-07-05T18:27:35.028Z"
   },
   {
    "duration": 26,
    "start_time": "2022-07-05T18:27:35.131Z"
   },
   {
    "duration": 127,
    "start_time": "2022-07-05T18:27:35.160Z"
   },
   {
    "duration": 16,
    "start_time": "2022-07-05T18:27:35.295Z"
   },
   {
    "duration": 96,
    "start_time": "2022-07-05T18:27:35.314Z"
   },
   {
    "duration": 45,
    "start_time": "2022-07-05T18:27:35.412Z"
   },
   {
    "duration": 80,
    "start_time": "2022-07-05T18:27:35.459Z"
   },
   {
    "duration": 81,
    "start_time": "2022-07-05T18:27:35.544Z"
   },
   {
    "duration": 125,
    "start_time": "2022-07-05T18:27:35.628Z"
   },
   {
    "duration": 24,
    "start_time": "2022-07-05T18:27:35.755Z"
   },
   {
    "duration": 35,
    "start_time": "2022-07-05T18:27:35.788Z"
   },
   {
    "duration": 37,
    "start_time": "2022-07-05T18:27:35.825Z"
   },
   {
    "duration": 32,
    "start_time": "2022-07-05T18:27:35.864Z"
   },
   {
    "duration": 25,
    "start_time": "2022-07-05T18:27:35.898Z"
   },
   {
    "duration": 8,
    "start_time": "2022-07-05T18:27:35.925Z"
   },
   {
    "duration": 72,
    "start_time": "2022-07-05T18:27:35.935Z"
   },
   {
    "duration": 13,
    "start_time": "2022-07-05T18:27:36.009Z"
   },
   {
    "duration": 3,
    "start_time": "2022-07-05T18:27:36.024Z"
   },
   {
    "duration": 20,
    "start_time": "2022-07-05T18:27:36.029Z"
   },
   {
    "duration": 62,
    "start_time": "2022-07-05T18:27:36.052Z"
   },
   {
    "duration": 20,
    "start_time": "2022-07-05T18:27:36.116Z"
   },
   {
    "duration": 18,
    "start_time": "2022-07-05T18:27:36.138Z"
   },
   {
    "duration": 64,
    "start_time": "2022-07-05T18:27:36.160Z"
   },
   {
    "duration": 9,
    "start_time": "2022-07-05T18:27:36.226Z"
   },
   {
    "duration": 100,
    "start_time": "2022-07-05T18:27:36.239Z"
   },
   {
    "duration": 147,
    "start_time": "2022-07-05T18:28:34.874Z"
   },
   {
    "duration": 24,
    "start_time": "2022-07-05T18:28:35.024Z"
   },
   {
    "duration": 73,
    "start_time": "2022-07-05T18:28:35.049Z"
   },
   {
    "duration": 12,
    "start_time": "2022-07-05T18:28:35.125Z"
   },
   {
    "duration": 64,
    "start_time": "2022-07-05T18:28:35.139Z"
   },
   {
    "duration": 7,
    "start_time": "2022-07-05T18:28:35.205Z"
   },
   {
    "duration": 13,
    "start_time": "2022-07-05T18:28:35.214Z"
   },
   {
    "duration": 5,
    "start_time": "2022-07-05T18:28:35.229Z"
   },
   {
    "duration": 56,
    "start_time": "2022-07-05T18:28:35.241Z"
   },
   {
    "duration": 11,
    "start_time": "2022-07-05T18:28:35.299Z"
   },
   {
    "duration": 50,
    "start_time": "2022-07-05T18:28:35.312Z"
   },
   {
    "duration": 15,
    "start_time": "2022-07-05T18:28:35.364Z"
   },
   {
    "duration": 23,
    "start_time": "2022-07-05T18:28:35.381Z"
   },
   {
    "duration": 83,
    "start_time": "2022-07-05T18:28:35.406Z"
   },
   {
    "duration": 29,
    "start_time": "2022-07-05T18:28:35.492Z"
   },
   {
    "duration": 17,
    "start_time": "2022-07-05T18:28:35.524Z"
   },
   {
    "duration": 60,
    "start_time": "2022-07-05T18:28:35.544Z"
   },
   {
    "duration": 21,
    "start_time": "2022-07-05T18:28:35.606Z"
   },
   {
    "duration": 8,
    "start_time": "2022-07-05T18:28:35.630Z"
   },
   {
    "duration": 42,
    "start_time": "2022-07-05T18:28:35.641Z"
   },
   {
    "duration": 30,
    "start_time": "2022-07-05T18:28:35.685Z"
   },
   {
    "duration": 10,
    "start_time": "2022-07-05T18:28:35.717Z"
   },
   {
    "duration": 48,
    "start_time": "2022-07-05T18:28:35.729Z"
   },
   {
    "duration": 30,
    "start_time": "2022-07-05T18:28:35.780Z"
   },
   {
    "duration": 13,
    "start_time": "2022-07-05T18:28:35.812Z"
   },
   {
    "duration": 10,
    "start_time": "2022-07-05T18:28:35.827Z"
   },
   {
    "duration": 66,
    "start_time": "2022-07-05T18:34:25.071Z"
   },
   {
    "duration": 27,
    "start_time": "2022-07-05T18:34:25.139Z"
   },
   {
    "duration": 63,
    "start_time": "2022-07-05T18:34:25.176Z"
   },
   {
    "duration": 22,
    "start_time": "2022-07-05T18:34:25.241Z"
   },
   {
    "duration": 63,
    "start_time": "2022-07-05T18:34:25.266Z"
   },
   {
    "duration": 4,
    "start_time": "2022-07-05T18:34:25.331Z"
   },
   {
    "duration": 58,
    "start_time": "2022-07-05T18:34:25.337Z"
   },
   {
    "duration": 6,
    "start_time": "2022-07-05T18:34:25.397Z"
   },
   {
    "duration": 13,
    "start_time": "2022-07-05T18:34:25.405Z"
   },
   {
    "duration": 9,
    "start_time": "2022-07-05T18:34:25.422Z"
   },
   {
    "duration": 72,
    "start_time": "2022-07-05T18:34:25.434Z"
   },
   {
    "duration": 13,
    "start_time": "2022-07-05T18:34:25.508Z"
   },
   {
    "duration": 5,
    "start_time": "2022-07-05T18:34:25.523Z"
   },
   {
    "duration": 37,
    "start_time": "2022-07-05T18:34:25.530Z"
   },
   {
    "duration": 35,
    "start_time": "2022-07-05T18:34:25.570Z"
   },
   {
    "duration": 12,
    "start_time": "2022-07-05T18:34:25.607Z"
   },
   {
    "duration": 7,
    "start_time": "2022-07-05T18:34:25.621Z"
   },
   {
    "duration": 26,
    "start_time": "2022-07-05T18:34:25.630Z"
   },
   {
    "duration": 36,
    "start_time": "2022-07-05T18:34:25.658Z"
   },
   {
    "duration": 6,
    "start_time": "2022-07-05T18:34:25.696Z"
   },
   {
    "duration": 14,
    "start_time": "2022-07-05T18:34:25.704Z"
   },
   {
    "duration": 6,
    "start_time": "2022-07-05T18:34:25.720Z"
   },
   {
    "duration": 34,
    "start_time": "2022-07-05T18:34:25.728Z"
   },
   {
    "duration": 32,
    "start_time": "2022-07-05T18:34:25.766Z"
   },
   {
    "duration": 11,
    "start_time": "2022-07-05T18:34:25.800Z"
   },
   {
    "duration": 17,
    "start_time": "2022-07-05T18:34:25.814Z"
   },
   {
    "duration": 65,
    "start_time": "2022-07-05T18:34:25.833Z"
   },
   {
    "duration": 29,
    "start_time": "2022-07-05T18:34:25.901Z"
   },
   {
    "duration": 3,
    "start_time": "2022-07-05T18:34:25.933Z"
   },
   {
    "duration": 75,
    "start_time": "2022-07-05T18:34:25.938Z"
   },
   {
    "duration": 8,
    "start_time": "2022-07-05T18:34:26.015Z"
   },
   {
    "duration": 19,
    "start_time": "2022-07-05T18:34:26.024Z"
   },
   {
    "duration": 53,
    "start_time": "2022-07-05T18:34:26.044Z"
   },
   {
    "duration": 73,
    "start_time": "2022-07-05T18:34:59.601Z"
   },
   {
    "duration": 21,
    "start_time": "2022-07-05T18:34:59.680Z"
   },
   {
    "duration": 20,
    "start_time": "2022-07-05T18:34:59.703Z"
   },
   {
    "duration": 38,
    "start_time": "2022-07-05T18:34:59.725Z"
   },
   {
    "duration": 54,
    "start_time": "2022-07-05T18:34:59.767Z"
   },
   {
    "duration": 5,
    "start_time": "2022-07-05T18:34:59.824Z"
   },
   {
    "duration": 26,
    "start_time": "2022-07-05T18:34:59.832Z"
   },
   {
    "duration": 33,
    "start_time": "2022-07-05T18:34:59.866Z"
   },
   {
    "duration": 6,
    "start_time": "2022-07-05T18:34:59.902Z"
   },
   {
    "duration": 10,
    "start_time": "2022-07-05T18:34:59.910Z"
   },
   {
    "duration": 57,
    "start_time": "2022-07-05T18:34:59.922Z"
   },
   {
    "duration": 16,
    "start_time": "2022-07-05T18:34:59.982Z"
   },
   {
    "duration": 15,
    "start_time": "2022-07-05T18:35:00.000Z"
   },
   {
    "duration": 54,
    "start_time": "2022-07-05T18:35:00.020Z"
   },
   {
    "duration": 46,
    "start_time": "2022-07-05T18:35:00.077Z"
   },
   {
    "duration": 12,
    "start_time": "2022-07-05T18:35:00.125Z"
   },
   {
    "duration": 63,
    "start_time": "2022-07-05T18:35:00.139Z"
   },
   {
    "duration": 25,
    "start_time": "2022-07-05T18:35:00.204Z"
   },
   {
    "duration": 31,
    "start_time": "2022-07-05T18:35:00.232Z"
   },
   {
    "duration": 31,
    "start_time": "2022-07-05T18:35:00.265Z"
   },
   {
    "duration": 34,
    "start_time": "2022-07-05T18:35:00.298Z"
   },
   {
    "duration": 47,
    "start_time": "2022-07-05T18:35:00.334Z"
   },
   {
    "duration": 34,
    "start_time": "2022-07-05T18:35:00.383Z"
   },
   {
    "duration": 15,
    "start_time": "2022-07-05T18:35:00.419Z"
   },
   {
    "duration": 63,
    "start_time": "2022-07-05T18:35:00.436Z"
   },
   {
    "duration": 22,
    "start_time": "2022-07-05T18:35:00.502Z"
   },
   {
    "duration": 65,
    "start_time": "2022-07-05T18:35:00.526Z"
   },
   {
    "duration": 48,
    "start_time": "2022-07-05T18:35:00.593Z"
   },
   {
    "duration": 16,
    "start_time": "2022-07-05T18:35:00.649Z"
   },
   {
    "duration": 53,
    "start_time": "2022-07-05T18:35:00.667Z"
   },
   {
    "duration": 9,
    "start_time": "2022-07-05T18:35:00.722Z"
   },
   {
    "duration": 15,
    "start_time": "2022-07-05T18:35:00.733Z"
   },
   {
    "duration": 159,
    "start_time": "2022-07-05T18:35:00.750Z"
   },
   {
    "duration": 106,
    "start_time": "2022-07-05T18:37:14.422Z"
   },
   {
    "duration": 40,
    "start_time": "2022-07-05T18:37:14.531Z"
   },
   {
    "duration": 51,
    "start_time": "2022-07-05T18:37:14.577Z"
   },
   {
    "duration": 36,
    "start_time": "2022-07-05T18:37:14.631Z"
   },
   {
    "duration": 86,
    "start_time": "2022-07-05T18:37:14.669Z"
   },
   {
    "duration": 7,
    "start_time": "2022-07-05T18:37:14.756Z"
   },
   {
    "duration": 67,
    "start_time": "2022-07-05T18:37:14.764Z"
   },
   {
    "duration": 47,
    "start_time": "2022-07-05T18:37:14.833Z"
   },
   {
    "duration": 17,
    "start_time": "2022-07-05T18:37:14.883Z"
   },
   {
    "duration": 35,
    "start_time": "2022-07-05T18:37:14.906Z"
   },
   {
    "duration": 122,
    "start_time": "2022-07-05T18:37:14.949Z"
   },
   {
    "duration": 20,
    "start_time": "2022-07-05T18:37:15.073Z"
   },
   {
    "duration": 25,
    "start_time": "2022-07-05T18:37:15.095Z"
   },
   {
    "duration": 41,
    "start_time": "2022-07-05T18:37:15.122Z"
   },
   {
    "duration": 36,
    "start_time": "2022-07-05T18:37:15.165Z"
   },
   {
    "duration": 27,
    "start_time": "2022-07-05T18:37:15.203Z"
   },
   {
    "duration": 6,
    "start_time": "2022-07-05T18:37:15.232Z"
   },
   {
    "duration": 69,
    "start_time": "2022-07-05T18:37:15.240Z"
   },
   {
    "duration": 9,
    "start_time": "2022-07-05T18:37:15.311Z"
   },
   {
    "duration": 6,
    "start_time": "2022-07-05T18:37:15.322Z"
   },
   {
    "duration": 13,
    "start_time": "2022-07-05T18:37:15.330Z"
   },
   {
    "duration": 59,
    "start_time": "2022-07-05T18:37:15.345Z"
   },
   {
    "duration": 25,
    "start_time": "2022-07-05T18:37:15.406Z"
   },
   {
    "duration": 10,
    "start_time": "2022-07-05T18:37:15.433Z"
   },
   {
    "duration": 1681,
    "start_time": "2022-07-05T18:37:15.448Z"
   },
   {
    "duration": 0,
    "start_time": "2022-07-05T18:37:17.130Z"
   },
   {
    "duration": 0,
    "start_time": "2022-07-05T18:37:17.132Z"
   },
   {
    "duration": 0,
    "start_time": "2022-07-05T18:37:17.133Z"
   },
   {
    "duration": 0,
    "start_time": "2022-07-05T18:37:17.135Z"
   },
   {
    "duration": 0,
    "start_time": "2022-07-05T18:37:17.136Z"
   },
   {
    "duration": 0,
    "start_time": "2022-07-05T18:37:17.137Z"
   },
   {
    "duration": 0,
    "start_time": "2022-07-05T18:37:17.138Z"
   },
   {
    "duration": 95,
    "start_time": "2022-07-05T18:38:03.188Z"
   },
   {
    "duration": 18,
    "start_time": "2022-07-05T18:38:03.285Z"
   },
   {
    "duration": 18,
    "start_time": "2022-07-05T18:38:03.305Z"
   },
   {
    "duration": 15,
    "start_time": "2022-07-05T18:38:03.325Z"
   },
   {
    "duration": 87,
    "start_time": "2022-07-05T18:38:03.352Z"
   },
   {
    "duration": 17,
    "start_time": "2022-07-05T18:38:03.442Z"
   },
   {
    "duration": 47,
    "start_time": "2022-07-05T18:38:03.470Z"
   },
   {
    "duration": 4,
    "start_time": "2022-07-05T18:38:03.521Z"
   },
   {
    "duration": 13,
    "start_time": "2022-07-05T18:38:03.526Z"
   },
   {
    "duration": 34,
    "start_time": "2022-07-05T18:38:03.541Z"
   },
   {
    "duration": 54,
    "start_time": "2022-07-05T18:38:03.590Z"
   },
   {
    "duration": 31,
    "start_time": "2022-07-05T18:38:03.653Z"
   },
   {
    "duration": 24,
    "start_time": "2022-07-05T18:38:03.691Z"
   },
   {
    "duration": 45,
    "start_time": "2022-07-05T18:38:03.719Z"
   },
   {
    "duration": 65,
    "start_time": "2022-07-05T18:38:03.766Z"
   },
   {
    "duration": 26,
    "start_time": "2022-07-05T18:38:03.832Z"
   },
   {
    "duration": 41,
    "start_time": "2022-07-05T18:38:03.860Z"
   },
   {
    "duration": 20,
    "start_time": "2022-07-05T18:38:03.902Z"
   },
   {
    "duration": 61,
    "start_time": "2022-07-05T18:38:03.924Z"
   },
   {
    "duration": 27,
    "start_time": "2022-07-05T18:38:03.987Z"
   },
   {
    "duration": 24,
    "start_time": "2022-07-05T18:38:04.016Z"
   },
   {
    "duration": 67,
    "start_time": "2022-07-05T18:38:04.048Z"
   },
   {
    "duration": 35,
    "start_time": "2022-07-05T18:38:04.121Z"
   },
   {
    "duration": 43,
    "start_time": "2022-07-05T18:38:04.164Z"
   },
   {
    "duration": 20,
    "start_time": "2022-07-05T18:38:04.210Z"
   },
   {
    "duration": 71,
    "start_time": "2022-07-05T18:38:04.233Z"
   },
   {
    "duration": 50,
    "start_time": "2022-07-05T18:38:04.306Z"
   },
   {
    "duration": 7,
    "start_time": "2022-07-05T18:38:04.358Z"
   },
   {
    "duration": 66,
    "start_time": "2022-07-05T18:38:04.367Z"
   },
   {
    "duration": 40,
    "start_time": "2022-07-05T18:38:04.435Z"
   },
   {
    "duration": 40,
    "start_time": "2022-07-05T18:38:04.478Z"
   },
   {
    "duration": 57,
    "start_time": "2022-07-05T18:38:04.521Z"
   },
   {
    "duration": 150,
    "start_time": "2022-07-05T18:59:54.737Z"
   },
   {
    "duration": 26,
    "start_time": "2022-07-05T18:59:54.893Z"
   },
   {
    "duration": 112,
    "start_time": "2022-07-05T18:59:54.920Z"
   },
   {
    "duration": 76,
    "start_time": "2022-07-05T18:59:55.035Z"
   },
   {
    "duration": 126,
    "start_time": "2022-07-05T18:59:55.115Z"
   },
   {
    "duration": 26,
    "start_time": "2022-07-05T18:59:55.248Z"
   },
   {
    "duration": 45,
    "start_time": "2022-07-05T18:59:55.276Z"
   },
   {
    "duration": 16,
    "start_time": "2022-07-05T18:59:55.323Z"
   },
   {
    "duration": 65,
    "start_time": "2022-07-05T18:59:55.342Z"
   },
   {
    "duration": 38,
    "start_time": "2022-07-05T18:59:55.410Z"
   },
   {
    "duration": 88,
    "start_time": "2022-07-05T18:59:55.451Z"
   },
   {
    "duration": 52,
    "start_time": "2022-07-05T18:59:55.540Z"
   },
   {
    "duration": 12,
    "start_time": "2022-07-05T18:59:55.594Z"
   },
   {
    "duration": 44,
    "start_time": "2022-07-05T18:59:55.610Z"
   },
   {
    "duration": 67,
    "start_time": "2022-07-05T18:59:55.656Z"
   },
   {
    "duration": 12,
    "start_time": "2022-07-05T18:59:55.725Z"
   },
   {
    "duration": 64,
    "start_time": "2022-07-05T18:59:55.738Z"
   },
   {
    "duration": 25,
    "start_time": "2022-07-05T18:59:55.804Z"
   },
   {
    "duration": 59,
    "start_time": "2022-07-05T18:59:55.831Z"
   },
   {
    "duration": 14,
    "start_time": "2022-07-05T18:59:55.893Z"
   },
   {
    "duration": 94,
    "start_time": "2022-07-05T18:59:55.909Z"
   },
   {
    "duration": 20,
    "start_time": "2022-07-05T18:59:56.006Z"
   },
   {
    "duration": 73,
    "start_time": "2022-07-05T18:59:56.028Z"
   },
   {
    "duration": 24,
    "start_time": "2022-07-05T18:59:56.104Z"
   },
   {
    "duration": 30,
    "start_time": "2022-07-05T18:59:56.130Z"
   },
   {
    "duration": 42,
    "start_time": "2022-07-05T18:59:56.165Z"
   },
   {
    "duration": 23,
    "start_time": "2022-07-05T18:59:56.210Z"
   },
   {
    "duration": 80,
    "start_time": "2022-07-05T18:59:56.235Z"
   },
   {
    "duration": 23,
    "start_time": "2022-07-05T18:59:56.317Z"
   },
   {
    "duration": 62,
    "start_time": "2022-07-05T18:59:56.343Z"
   },
   {
    "duration": 46,
    "start_time": "2022-07-05T18:59:56.408Z"
   },
   {
    "duration": 96,
    "start_time": "2022-07-05T19:19:09.981Z"
   },
   {
    "duration": 22,
    "start_time": "2022-07-05T19:19:10.079Z"
   },
   {
    "duration": 34,
    "start_time": "2022-07-05T19:19:10.103Z"
   },
   {
    "duration": 28,
    "start_time": "2022-07-05T19:19:10.138Z"
   },
   {
    "duration": 93,
    "start_time": "2022-07-05T19:19:10.169Z"
   },
   {
    "duration": 5,
    "start_time": "2022-07-05T19:19:10.264Z"
   },
   {
    "duration": 59,
    "start_time": "2022-07-05T19:19:10.270Z"
   },
   {
    "duration": 4,
    "start_time": "2022-07-05T19:19:10.331Z"
   },
   {
    "duration": 35,
    "start_time": "2022-07-05T19:19:10.337Z"
   },
   {
    "duration": 54,
    "start_time": "2022-07-05T19:19:10.381Z"
   },
   {
    "duration": 62,
    "start_time": "2022-07-05T19:19:10.438Z"
   },
   {
    "duration": 30,
    "start_time": "2022-07-05T19:19:10.501Z"
   },
   {
    "duration": 6,
    "start_time": "2022-07-05T19:19:10.533Z"
   },
   {
    "duration": 83,
    "start_time": "2022-07-05T19:19:10.544Z"
   },
   {
    "duration": 50,
    "start_time": "2022-07-05T19:19:10.629Z"
   },
   {
    "duration": 50,
    "start_time": "2022-07-05T19:19:10.681Z"
   },
   {
    "duration": 5,
    "start_time": "2022-07-05T19:19:10.733Z"
   },
   {
    "duration": 68,
    "start_time": "2022-07-05T19:19:10.740Z"
   },
   {
    "duration": 41,
    "start_time": "2022-07-05T19:19:10.812Z"
   },
   {
    "duration": 54,
    "start_time": "2022-07-05T19:19:10.854Z"
   },
   {
    "duration": 31,
    "start_time": "2022-07-05T19:19:10.912Z"
   },
   {
    "duration": 67,
    "start_time": "2022-07-05T19:19:10.948Z"
   },
   {
    "duration": 19,
    "start_time": "2022-07-05T19:19:11.017Z"
   },
   {
    "duration": 11,
    "start_time": "2022-07-05T19:19:11.038Z"
   },
   {
    "duration": 78,
    "start_time": "2022-07-05T19:19:11.051Z"
   },
   {
    "duration": 4,
    "start_time": "2022-07-05T19:19:11.131Z"
   },
   {
    "duration": 59,
    "start_time": "2022-07-05T19:19:11.136Z"
   },
   {
    "duration": 21,
    "start_time": "2022-07-05T19:19:11.203Z"
   },
   {
    "duration": 13,
    "start_time": "2022-07-05T19:19:11.226Z"
   },
   {
    "duration": 53,
    "start_time": "2022-07-05T19:19:11.241Z"
   },
   {
    "duration": 33,
    "start_time": "2022-07-05T19:19:11.302Z"
   },
   {
    "duration": 15,
    "start_time": "2022-07-05T19:19:11.337Z"
   },
   {
    "duration": 83,
    "start_time": "2022-07-05T19:19:11.357Z"
   },
   {
    "duration": 92,
    "start_time": "2022-07-05T19:19:11.454Z"
   },
   {
    "duration": 124,
    "start_time": "2022-07-05T19:19:11.552Z"
   },
   {
    "duration": 151,
    "start_time": "2022-07-05T19:19:11.678Z"
   },
   {
    "duration": 40,
    "start_time": "2022-07-05T19:19:11.831Z"
   },
   {
    "duration": 53,
    "start_time": "2022-07-05T19:19:11.873Z"
   },
   {
    "duration": 123,
    "start_time": "2022-07-05T19:19:57.972Z"
   },
   {
    "duration": 31,
    "start_time": "2022-07-05T19:19:58.097Z"
   },
   {
    "duration": 24,
    "start_time": "2022-07-05T19:19:58.130Z"
   },
   {
    "duration": 99,
    "start_time": "2022-07-05T19:19:58.157Z"
   },
   {
    "duration": 106,
    "start_time": "2022-07-05T19:19:58.268Z"
   },
   {
    "duration": 5,
    "start_time": "2022-07-05T19:19:58.377Z"
   },
   {
    "duration": 50,
    "start_time": "2022-07-05T19:19:58.384Z"
   },
   {
    "duration": 5,
    "start_time": "2022-07-05T19:19:58.435Z"
   },
   {
    "duration": 68,
    "start_time": "2022-07-05T19:19:58.450Z"
   },
   {
    "duration": 5,
    "start_time": "2022-07-05T19:19:58.523Z"
   },
   {
    "duration": 86,
    "start_time": "2022-07-05T19:19:58.531Z"
   },
   {
    "duration": 16,
    "start_time": "2022-07-05T19:19:58.620Z"
   },
   {
    "duration": 10,
    "start_time": "2022-07-05T19:19:58.637Z"
   },
   {
    "duration": 80,
    "start_time": "2022-07-05T19:19:58.650Z"
   },
   {
    "duration": 31,
    "start_time": "2022-07-05T19:19:58.732Z"
   },
   {
    "duration": 47,
    "start_time": "2022-07-05T19:19:58.765Z"
   },
   {
    "duration": 19,
    "start_time": "2022-07-05T19:19:58.815Z"
   },
   {
    "duration": 67,
    "start_time": "2022-07-05T19:19:58.836Z"
   },
   {
    "duration": 18,
    "start_time": "2022-07-05T19:19:58.907Z"
   },
   {
    "duration": 5,
    "start_time": "2022-07-05T19:19:58.927Z"
   },
   {
    "duration": 19,
    "start_time": "2022-07-05T19:19:58.934Z"
   },
   {
    "duration": 62,
    "start_time": "2022-07-05T19:19:58.955Z"
   },
   {
    "duration": 18,
    "start_time": "2022-07-05T19:19:59.019Z"
   },
   {
    "duration": 28,
    "start_time": "2022-07-05T19:19:59.038Z"
   },
   {
    "duration": 56,
    "start_time": "2022-07-05T19:19:59.070Z"
   },
   {
    "duration": 5,
    "start_time": "2022-07-05T19:19:59.128Z"
   },
   {
    "duration": 55,
    "start_time": "2022-07-05T19:19:59.135Z"
   },
   {
    "duration": 32,
    "start_time": "2022-07-05T19:19:59.194Z"
   },
   {
    "duration": 11,
    "start_time": "2022-07-05T19:19:59.227Z"
   },
   {
    "duration": 51,
    "start_time": "2022-07-05T19:19:59.240Z"
   },
   {
    "duration": 27,
    "start_time": "2022-07-05T19:19:59.295Z"
   },
   {
    "duration": 6,
    "start_time": "2022-07-05T19:19:59.324Z"
   },
   {
    "duration": 14,
    "start_time": "2022-07-05T19:19:59.331Z"
   },
   {
    "duration": 30,
    "start_time": "2022-07-05T19:19:59.347Z"
   },
   {
    "duration": 29,
    "start_time": "2022-07-05T19:19:59.379Z"
   },
   {
    "duration": 39,
    "start_time": "2022-07-05T19:19:59.411Z"
   },
   {
    "duration": 6,
    "start_time": "2022-07-05T19:19:59.452Z"
   },
   {
    "duration": 94,
    "start_time": "2022-07-05T19:19:59.460Z"
   },
   {
    "duration": 86,
    "start_time": "2022-07-05T19:30:49.216Z"
   },
   {
    "duration": 18,
    "start_time": "2022-07-05T19:30:49.306Z"
   },
   {
    "duration": 27,
    "start_time": "2022-07-05T19:30:49.326Z"
   },
   {
    "duration": 72,
    "start_time": "2022-07-05T19:30:49.355Z"
   },
   {
    "duration": 54,
    "start_time": "2022-07-05T19:30:49.429Z"
   },
   {
    "duration": 8,
    "start_time": "2022-07-05T19:30:49.485Z"
   },
   {
    "duration": 25,
    "start_time": "2022-07-05T19:30:49.506Z"
   },
   {
    "duration": 7,
    "start_time": "2022-07-05T19:30:49.533Z"
   },
   {
    "duration": 32,
    "start_time": "2022-07-05T19:30:49.542Z"
   },
   {
    "duration": 49,
    "start_time": "2022-07-05T19:30:49.582Z"
   },
   {
    "duration": 73,
    "start_time": "2022-07-05T19:30:49.633Z"
   },
   {
    "duration": 16,
    "start_time": "2022-07-05T19:30:49.708Z"
   },
   {
    "duration": 6,
    "start_time": "2022-07-05T19:30:49.725Z"
   },
   {
    "duration": 23,
    "start_time": "2022-07-05T19:30:49.734Z"
   },
   {
    "duration": 34,
    "start_time": "2022-07-05T19:30:49.759Z"
   },
   {
    "duration": 53,
    "start_time": "2022-07-05T19:30:49.795Z"
   },
   {
    "duration": 73,
    "start_time": "2022-07-05T19:30:49.850Z"
   },
   {
    "duration": 29,
    "start_time": "2022-07-05T19:30:49.927Z"
   },
   {
    "duration": 10,
    "start_time": "2022-07-05T19:30:49.965Z"
   },
   {
    "duration": 44,
    "start_time": "2022-07-05T19:30:49.976Z"
   },
   {
    "duration": 47,
    "start_time": "2022-07-05T19:30:50.022Z"
   },
   {
    "duration": 52,
    "start_time": "2022-07-05T19:30:50.071Z"
   },
   {
    "duration": 42,
    "start_time": "2022-07-05T19:30:50.125Z"
   },
   {
    "duration": 8,
    "start_time": "2022-07-05T19:30:50.179Z"
   },
   {
    "duration": 40,
    "start_time": "2022-07-05T19:30:50.191Z"
   },
   {
    "duration": 3,
    "start_time": "2022-07-05T19:30:50.233Z"
   },
   {
    "duration": 29,
    "start_time": "2022-07-05T19:30:50.237Z"
   },
   {
    "duration": 57,
    "start_time": "2022-07-05T19:30:50.268Z"
   },
   {
    "duration": 9,
    "start_time": "2022-07-05T19:30:50.328Z"
   },
   {
    "duration": 60,
    "start_time": "2022-07-05T19:30:50.339Z"
   },
   {
    "duration": 39,
    "start_time": "2022-07-05T19:30:50.401Z"
   },
   {
    "duration": 12,
    "start_time": "2022-07-05T19:30:50.450Z"
   },
   {
    "duration": 125,
    "start_time": "2022-07-05T19:30:50.463Z"
   },
   {
    "duration": 62,
    "start_time": "2022-07-05T19:30:50.591Z"
   },
   {
    "duration": 7,
    "start_time": "2022-07-05T19:30:50.655Z"
   },
   {
    "duration": 84,
    "start_time": "2022-07-05T19:30:50.665Z"
   },
   {
    "duration": 15,
    "start_time": "2022-07-05T19:30:50.751Z"
   },
   {
    "duration": 19,
    "start_time": "2022-07-05T19:30:50.773Z"
   },
   {
    "duration": 97,
    "start_time": "2022-07-05T19:31:03.808Z"
   },
   {
    "duration": 28,
    "start_time": "2022-07-05T19:31:03.909Z"
   },
   {
    "duration": 36,
    "start_time": "2022-07-05T19:31:03.939Z"
   },
   {
    "duration": 41,
    "start_time": "2022-07-05T19:31:03.977Z"
   },
   {
    "duration": 55,
    "start_time": "2022-07-05T19:31:04.021Z"
   },
   {
    "duration": 10,
    "start_time": "2022-07-05T19:31:04.078Z"
   },
   {
    "duration": 34,
    "start_time": "2022-07-05T19:31:04.089Z"
   },
   {
    "duration": 5,
    "start_time": "2022-07-05T19:31:04.125Z"
   },
   {
    "duration": 11,
    "start_time": "2022-07-05T19:31:04.132Z"
   },
   {
    "duration": 76,
    "start_time": "2022-07-05T19:31:04.145Z"
   },
   {
    "duration": 66,
    "start_time": "2022-07-05T19:31:04.223Z"
   },
   {
    "duration": 22,
    "start_time": "2022-07-05T19:31:04.292Z"
   },
   {
    "duration": 11,
    "start_time": "2022-07-05T19:31:04.318Z"
   },
   {
    "duration": 26,
    "start_time": "2022-07-05T19:31:04.334Z"
   },
   {
    "duration": 75,
    "start_time": "2022-07-05T19:31:04.362Z"
   },
   {
    "duration": 46,
    "start_time": "2022-07-05T19:31:04.440Z"
   },
   {
    "duration": 8,
    "start_time": "2022-07-05T19:31:04.497Z"
   },
   {
    "duration": 45,
    "start_time": "2022-07-05T19:31:04.510Z"
   },
   {
    "duration": 68,
    "start_time": "2022-07-05T19:31:04.557Z"
   },
   {
    "duration": 7,
    "start_time": "2022-07-05T19:31:04.629Z"
   },
   {
    "duration": 96,
    "start_time": "2022-07-05T19:31:04.639Z"
   },
   {
    "duration": 3,
    "start_time": "2022-07-05T19:31:04.738Z"
   },
   {
    "duration": 100,
    "start_time": "2022-07-05T19:31:04.745Z"
   },
   {
    "duration": 84,
    "start_time": "2022-07-05T19:31:04.855Z"
   },
   {
    "duration": 79,
    "start_time": "2022-07-05T19:31:04.941Z"
   },
   {
    "duration": 22,
    "start_time": "2022-07-05T19:31:05.024Z"
   },
   {
    "duration": 109,
    "start_time": "2022-07-05T19:31:05.051Z"
   },
   {
    "duration": 63,
    "start_time": "2022-07-05T19:31:05.166Z"
   },
   {
    "duration": 92,
    "start_time": "2022-07-05T19:31:05.231Z"
   },
   {
    "duration": 77,
    "start_time": "2022-07-05T19:31:05.325Z"
   },
   {
    "duration": 84,
    "start_time": "2022-07-05T19:31:05.412Z"
   },
   {
    "duration": 39,
    "start_time": "2022-07-05T19:31:05.502Z"
   },
   {
    "duration": 68,
    "start_time": "2022-07-05T19:31:05.560Z"
   },
   {
    "duration": 32,
    "start_time": "2022-07-05T19:31:05.629Z"
   },
   {
    "duration": 50,
    "start_time": "2022-07-05T19:31:05.668Z"
   },
   {
    "duration": 35,
    "start_time": "2022-07-05T19:31:05.720Z"
   },
   {
    "duration": 64,
    "start_time": "2022-07-05T19:31:05.757Z"
   },
   {
    "duration": 15,
    "start_time": "2022-07-05T19:31:05.823Z"
   },
   {
    "duration": 126,
    "start_time": "2022-07-05T19:31:22.369Z"
   },
   {
    "duration": 21,
    "start_time": "2022-07-05T19:31:22.499Z"
   },
   {
    "duration": 31,
    "start_time": "2022-07-05T19:31:22.523Z"
   },
   {
    "duration": 39,
    "start_time": "2022-07-05T19:31:22.556Z"
   },
   {
    "duration": 80,
    "start_time": "2022-07-05T19:31:22.598Z"
   },
   {
    "duration": 12,
    "start_time": "2022-07-05T19:31:22.688Z"
   },
   {
    "duration": 35,
    "start_time": "2022-07-05T19:31:22.703Z"
   },
   {
    "duration": 7,
    "start_time": "2022-07-05T19:31:22.740Z"
   },
   {
    "duration": 82,
    "start_time": "2022-07-05T19:31:22.748Z"
   },
   {
    "duration": 43,
    "start_time": "2022-07-05T19:31:22.832Z"
   },
   {
    "duration": 69,
    "start_time": "2022-07-05T19:31:22.876Z"
   },
   {
    "duration": 16,
    "start_time": "2022-07-05T19:31:22.947Z"
   },
   {
    "duration": 62,
    "start_time": "2022-07-05T19:31:22.969Z"
   },
   {
    "duration": 102,
    "start_time": "2022-07-05T19:31:23.035Z"
   },
   {
    "duration": 40,
    "start_time": "2022-07-05T19:31:23.139Z"
   },
   {
    "duration": 53,
    "start_time": "2022-07-05T19:31:23.184Z"
   },
   {
    "duration": 14,
    "start_time": "2022-07-05T19:31:23.239Z"
   },
   {
    "duration": 83,
    "start_time": "2022-07-05T19:31:23.258Z"
   },
   {
    "duration": 84,
    "start_time": "2022-07-05T19:31:23.343Z"
   },
   {
    "duration": 6,
    "start_time": "2022-07-05T19:31:23.429Z"
   },
   {
    "duration": 67,
    "start_time": "2022-07-05T19:31:23.436Z"
   },
   {
    "duration": 7,
    "start_time": "2022-07-05T19:31:23.505Z"
   },
   {
    "duration": 20,
    "start_time": "2022-07-05T19:31:23.513Z"
   },
   {
    "duration": 6,
    "start_time": "2022-07-05T19:31:23.534Z"
   },
   {
    "duration": 70,
    "start_time": "2022-07-05T19:31:23.542Z"
   },
   {
    "duration": 4,
    "start_time": "2022-07-05T19:31:23.614Z"
   },
   {
    "duration": 21,
    "start_time": "2022-07-05T19:31:23.620Z"
   },
   {
    "duration": 14,
    "start_time": "2022-07-05T19:31:23.651Z"
   },
   {
    "duration": 36,
    "start_time": "2022-07-05T19:31:23.667Z"
   },
   {
    "duration": 9,
    "start_time": "2022-07-05T19:31:23.705Z"
   },
   {
    "duration": 18,
    "start_time": "2022-07-05T19:31:23.716Z"
   },
   {
    "duration": 10,
    "start_time": "2022-07-05T19:31:23.735Z"
   },
   {
    "duration": 70,
    "start_time": "2022-07-05T19:31:23.747Z"
   },
   {
    "duration": 32,
    "start_time": "2022-07-05T19:31:23.818Z"
   },
   {
    "duration": 3,
    "start_time": "2022-07-05T19:31:23.852Z"
   },
   {
    "duration": 67,
    "start_time": "2022-07-05T19:31:23.857Z"
   },
   {
    "duration": 7,
    "start_time": "2022-07-05T19:31:23.926Z"
   },
   {
    "duration": 40,
    "start_time": "2022-07-05T19:31:23.934Z"
   },
   {
    "duration": 97,
    "start_time": "2022-07-05T19:56:00.039Z"
   },
   {
    "duration": 74,
    "start_time": "2022-07-05T19:56:00.138Z"
   },
   {
    "duration": 29,
    "start_time": "2022-07-05T19:56:00.217Z"
   },
   {
    "duration": 31,
    "start_time": "2022-07-05T19:56:00.248Z"
   },
   {
    "duration": 77,
    "start_time": "2022-07-05T19:56:00.282Z"
   },
   {
    "duration": 6,
    "start_time": "2022-07-05T19:56:00.361Z"
   },
   {
    "duration": 48,
    "start_time": "2022-07-05T19:56:00.369Z"
   },
   {
    "duration": 6,
    "start_time": "2022-07-05T19:56:00.419Z"
   },
   {
    "duration": 10,
    "start_time": "2022-07-05T19:56:00.426Z"
   },
   {
    "duration": 41,
    "start_time": "2022-07-05T19:56:00.438Z"
   },
   {
    "duration": 75,
    "start_time": "2022-07-05T19:56:00.480Z"
   },
   {
    "duration": 22,
    "start_time": "2022-07-05T19:56:00.557Z"
   },
   {
    "duration": 32,
    "start_time": "2022-07-05T19:56:00.581Z"
   },
   {
    "duration": 27,
    "start_time": "2022-07-05T19:56:00.616Z"
   },
   {
    "duration": 39,
    "start_time": "2022-07-05T19:56:00.653Z"
   },
   {
    "duration": 21,
    "start_time": "2022-07-05T19:56:00.696Z"
   },
   {
    "duration": 4,
    "start_time": "2022-07-05T19:56:00.719Z"
   },
   {
    "duration": 15,
    "start_time": "2022-07-05T19:56:00.725Z"
   },
   {
    "duration": 66,
    "start_time": "2022-07-05T19:56:00.744Z"
   },
   {
    "duration": 14,
    "start_time": "2022-07-05T19:56:00.813Z"
   },
   {
    "duration": 91,
    "start_time": "2022-07-05T19:56:00.829Z"
   },
   {
    "duration": 9,
    "start_time": "2022-07-05T19:56:00.922Z"
   },
   {
    "duration": 72,
    "start_time": "2022-07-05T19:56:00.933Z"
   },
   {
    "duration": 7,
    "start_time": "2022-07-05T19:56:01.007Z"
   },
   {
    "duration": 34,
    "start_time": "2022-07-05T19:56:01.016Z"
   },
   {
    "duration": 68,
    "start_time": "2022-07-05T19:56:01.052Z"
   },
   {
    "duration": 56,
    "start_time": "2022-07-05T19:56:01.122Z"
   },
   {
    "duration": 26,
    "start_time": "2022-07-05T19:56:01.190Z"
   },
   {
    "duration": 21,
    "start_time": "2022-07-05T19:56:01.217Z"
   },
   {
    "duration": 70,
    "start_time": "2022-07-05T19:56:01.240Z"
   },
   {
    "duration": 60,
    "start_time": "2022-07-05T19:56:01.312Z"
   },
   {
    "duration": 69,
    "start_time": "2022-07-05T19:56:01.377Z"
   },
   {
    "duration": 88,
    "start_time": "2022-07-05T19:56:01.448Z"
   },
   {
    "duration": 115,
    "start_time": "2022-07-05T19:56:01.538Z"
   },
   {
    "duration": 60,
    "start_time": "2022-07-05T19:56:01.656Z"
   },
   {
    "duration": 59,
    "start_time": "2022-07-05T19:56:01.720Z"
   },
   {
    "duration": 52,
    "start_time": "2022-07-05T19:56:01.788Z"
   },
   {
    "duration": 87,
    "start_time": "2022-07-05T19:56:01.841Z"
   },
   {
    "duration": 85,
    "start_time": "2022-07-05T20:23:41.162Z"
   },
   {
    "duration": 30,
    "start_time": "2022-07-05T20:23:41.255Z"
   },
   {
    "duration": 62,
    "start_time": "2022-07-05T20:23:41.287Z"
   },
   {
    "duration": 41,
    "start_time": "2022-07-05T20:23:41.350Z"
   },
   {
    "duration": 102,
    "start_time": "2022-07-05T20:23:41.397Z"
   },
   {
    "duration": 10,
    "start_time": "2022-07-05T20:23:41.506Z"
   },
   {
    "duration": 44,
    "start_time": "2022-07-05T20:23:41.520Z"
   },
   {
    "duration": 68,
    "start_time": "2022-07-05T20:23:41.569Z"
   },
   {
    "duration": 18,
    "start_time": "2022-07-05T20:23:41.640Z"
   },
   {
    "duration": 58,
    "start_time": "2022-07-05T20:23:41.663Z"
   },
   {
    "duration": 105,
    "start_time": "2022-07-05T20:23:41.723Z"
   },
   {
    "duration": 10,
    "start_time": "2022-07-05T20:23:41.830Z"
   },
   {
    "duration": 66,
    "start_time": "2022-07-05T20:23:41.847Z"
   },
   {
    "duration": 21,
    "start_time": "2022-07-05T20:23:41.917Z"
   },
   {
    "duration": 38,
    "start_time": "2022-07-05T20:23:41.940Z"
   },
   {
    "duration": 64,
    "start_time": "2022-07-05T20:23:41.981Z"
   },
   {
    "duration": 72,
    "start_time": "2022-07-05T20:23:42.047Z"
   },
   {
    "duration": 13,
    "start_time": "2022-07-05T20:23:42.121Z"
   },
   {
    "duration": 42,
    "start_time": "2022-07-05T20:23:42.135Z"
   },
   {
    "duration": 47,
    "start_time": "2022-07-05T20:23:42.180Z"
   },
   {
    "duration": 11,
    "start_time": "2022-07-05T20:23:42.230Z"
   },
   {
    "duration": 75,
    "start_time": "2022-07-05T20:23:42.243Z"
   },
   {
    "duration": 37,
    "start_time": "2022-07-05T20:23:42.321Z"
   },
   {
    "duration": 18,
    "start_time": "2022-07-05T20:23:42.361Z"
   },
   {
    "duration": 15,
    "start_time": "2022-07-05T20:23:42.381Z"
   },
   {
    "duration": 9,
    "start_time": "2022-07-05T20:23:42.398Z"
   },
   {
    "duration": 29,
    "start_time": "2022-07-05T20:23:42.411Z"
   },
   {
    "duration": 17,
    "start_time": "2022-07-05T20:23:42.446Z"
   },
   {
    "duration": 57,
    "start_time": "2022-07-05T20:23:42.465Z"
   },
   {
    "duration": 5,
    "start_time": "2022-07-05T20:23:42.524Z"
   },
   {
    "duration": 32,
    "start_time": "2022-07-05T20:23:42.530Z"
   },
   {
    "duration": 57,
    "start_time": "2022-07-05T20:23:42.564Z"
   },
   {
    "duration": 17,
    "start_time": "2022-07-05T20:23:42.623Z"
   },
   {
    "duration": 75,
    "start_time": "2022-07-05T20:23:42.642Z"
   },
   {
    "duration": 4,
    "start_time": "2022-07-05T20:23:42.726Z"
   },
   {
    "duration": 48,
    "start_time": "2022-07-05T20:23:42.732Z"
   },
   {
    "duration": 43,
    "start_time": "2022-07-05T20:23:42.783Z"
   },
   {
    "duration": 37,
    "start_time": "2022-07-05T20:23:42.828Z"
   },
   {
    "duration": 94,
    "start_time": "2022-07-05T20:24:07.427Z"
   },
   {
    "duration": 32,
    "start_time": "2022-07-05T20:24:07.524Z"
   },
   {
    "duration": 56,
    "start_time": "2022-07-05T20:24:07.559Z"
   },
   {
    "duration": 51,
    "start_time": "2022-07-05T20:24:07.618Z"
   },
   {
    "duration": 64,
    "start_time": "2022-07-05T20:24:07.675Z"
   },
   {
    "duration": 58,
    "start_time": "2022-07-05T20:24:07.742Z"
   },
   {
    "duration": 51,
    "start_time": "2022-07-05T20:24:07.811Z"
   },
   {
    "duration": 40,
    "start_time": "2022-07-05T20:24:07.873Z"
   },
   {
    "duration": 49,
    "start_time": "2022-07-05T20:24:07.915Z"
   },
   {
    "duration": 63,
    "start_time": "2022-07-05T20:24:07.967Z"
   },
   {
    "duration": 91,
    "start_time": "2022-07-05T20:24:08.032Z"
   },
   {
    "duration": 15,
    "start_time": "2022-07-05T20:24:08.124Z"
   },
   {
    "duration": 42,
    "start_time": "2022-07-05T20:24:08.141Z"
   },
   {
    "duration": 50,
    "start_time": "2022-07-05T20:24:08.187Z"
   },
   {
    "duration": 66,
    "start_time": "2022-07-05T20:24:08.239Z"
   },
   {
    "duration": 19,
    "start_time": "2022-07-05T20:24:08.311Z"
   },
   {
    "duration": 7,
    "start_time": "2022-07-05T20:24:08.332Z"
   },
   {
    "duration": 81,
    "start_time": "2022-07-05T20:24:08.341Z"
   },
   {
    "duration": 6,
    "start_time": "2022-07-05T20:24:08.424Z"
   },
   {
    "duration": 28,
    "start_time": "2022-07-05T20:24:08.431Z"
   },
   {
    "duration": 65,
    "start_time": "2022-07-05T20:24:08.466Z"
   },
   {
    "duration": 5,
    "start_time": "2022-07-05T20:24:08.533Z"
   },
   {
    "duration": 91,
    "start_time": "2022-07-05T20:24:08.540Z"
   },
   {
    "duration": 24,
    "start_time": "2022-07-05T20:24:08.634Z"
   },
   {
    "duration": 67,
    "start_time": "2022-07-05T20:24:08.661Z"
   },
   {
    "duration": 5,
    "start_time": "2022-07-05T20:24:08.730Z"
   },
   {
    "duration": 103,
    "start_time": "2022-07-05T20:24:08.737Z"
   },
   {
    "duration": 48,
    "start_time": "2022-07-05T20:24:08.842Z"
   },
   {
    "duration": 112,
    "start_time": "2022-07-05T20:24:08.901Z"
   },
   {
    "duration": 90,
    "start_time": "2022-07-05T20:24:09.015Z"
   },
   {
    "duration": 60,
    "start_time": "2022-07-05T20:24:09.111Z"
   },
   {
    "duration": 66,
    "start_time": "2022-07-05T20:24:09.173Z"
   },
   {
    "duration": 92,
    "start_time": "2022-07-05T20:24:09.242Z"
   },
   {
    "duration": 102,
    "start_time": "2022-07-05T20:24:09.337Z"
   },
   {
    "duration": 3,
    "start_time": "2022-07-05T20:24:09.441Z"
   },
   {
    "duration": 76,
    "start_time": "2022-07-05T20:24:09.445Z"
   },
   {
    "duration": 7,
    "start_time": "2022-07-05T20:24:09.523Z"
   },
   {
    "duration": 72,
    "start_time": "2022-07-05T20:24:09.531Z"
   },
   {
    "duration": 84,
    "start_time": "2022-07-05T20:29:13.529Z"
   },
   {
    "duration": 17,
    "start_time": "2022-07-05T20:29:13.615Z"
   },
   {
    "duration": 30,
    "start_time": "2022-07-05T20:29:13.634Z"
   },
   {
    "duration": 53,
    "start_time": "2022-07-05T20:29:13.670Z"
   },
   {
    "duration": 64,
    "start_time": "2022-07-05T20:29:13.725Z"
   },
   {
    "duration": 4,
    "start_time": "2022-07-05T20:29:13.790Z"
   },
   {
    "duration": 36,
    "start_time": "2022-07-05T20:29:13.796Z"
   },
   {
    "duration": 5,
    "start_time": "2022-07-05T20:29:13.835Z"
   },
   {
    "duration": 59,
    "start_time": "2022-07-05T20:29:13.846Z"
   },
   {
    "duration": 5,
    "start_time": "2022-07-05T20:29:13.907Z"
   },
   {
    "duration": 54,
    "start_time": "2022-07-05T20:29:13.914Z"
   },
   {
    "duration": 23,
    "start_time": "2022-07-05T20:29:13.976Z"
   },
   {
    "duration": 17,
    "start_time": "2022-07-05T20:29:14.003Z"
   },
   {
    "duration": 27,
    "start_time": "2022-07-05T20:29:14.024Z"
   },
   {
    "duration": 34,
    "start_time": "2022-07-05T20:29:14.053Z"
   },
   {
    "duration": 22,
    "start_time": "2022-07-05T20:29:14.094Z"
   },
   {
    "duration": 6,
    "start_time": "2022-07-05T20:29:14.118Z"
   },
   {
    "duration": 13,
    "start_time": "2022-07-05T20:29:14.126Z"
   },
   {
    "duration": 71,
    "start_time": "2022-07-05T20:29:14.141Z"
   },
   {
    "duration": 7,
    "start_time": "2022-07-05T20:29:14.214Z"
   },
   {
    "duration": 15,
    "start_time": "2022-07-05T20:29:14.223Z"
   },
   {
    "duration": 65,
    "start_time": "2022-07-05T20:29:14.240Z"
   },
   {
    "duration": 21,
    "start_time": "2022-07-05T20:29:14.307Z"
   },
   {
    "duration": 8,
    "start_time": "2022-07-05T20:29:14.329Z"
   },
   {
    "duration": 38,
    "start_time": "2022-07-05T20:29:14.339Z"
   },
   {
    "duration": 53,
    "start_time": "2022-07-05T20:29:14.384Z"
   },
   {
    "duration": 21,
    "start_time": "2022-07-05T20:29:14.442Z"
   },
   {
    "duration": 63,
    "start_time": "2022-07-05T20:29:14.465Z"
   },
   {
    "duration": 49,
    "start_time": "2022-07-05T20:29:14.530Z"
   },
   {
    "duration": 37,
    "start_time": "2022-07-05T20:29:14.581Z"
   },
   {
    "duration": 40,
    "start_time": "2022-07-05T20:29:14.619Z"
   },
   {
    "duration": 50,
    "start_time": "2022-07-05T20:29:14.660Z"
   },
   {
    "duration": 39,
    "start_time": "2022-07-05T20:29:14.714Z"
   },
   {
    "duration": 11,
    "start_time": "2022-07-05T20:29:14.755Z"
   },
   {
    "duration": 73,
    "start_time": "2022-07-05T20:29:14.768Z"
   },
   {
    "duration": 74,
    "start_time": "2022-07-05T20:30:35.585Z"
   },
   {
    "duration": 22,
    "start_time": "2022-07-05T20:30:35.661Z"
   },
   {
    "duration": 50,
    "start_time": "2022-07-05T20:30:35.685Z"
   },
   {
    "duration": 46,
    "start_time": "2022-07-05T20:30:35.737Z"
   },
   {
    "duration": 82,
    "start_time": "2022-07-05T20:30:35.797Z"
   },
   {
    "duration": 5,
    "start_time": "2022-07-05T20:30:35.881Z"
   },
   {
    "duration": 44,
    "start_time": "2022-07-05T20:30:35.895Z"
   },
   {
    "duration": 38,
    "start_time": "2022-07-05T20:30:35.941Z"
   },
   {
    "duration": 47,
    "start_time": "2022-07-05T20:30:35.981Z"
   },
   {
    "duration": 50,
    "start_time": "2022-07-05T20:30:36.031Z"
   },
   {
    "duration": 66,
    "start_time": "2022-07-05T20:30:36.089Z"
   },
   {
    "duration": 17,
    "start_time": "2022-07-05T20:30:36.164Z"
   },
   {
    "duration": 32,
    "start_time": "2022-07-05T20:30:36.183Z"
   },
   {
    "duration": 21,
    "start_time": "2022-07-05T20:30:36.219Z"
   },
   {
    "duration": 38,
    "start_time": "2022-07-05T20:30:36.251Z"
   },
   {
    "duration": 17,
    "start_time": "2022-07-05T20:30:36.295Z"
   },
   {
    "duration": 10,
    "start_time": "2022-07-05T20:30:36.314Z"
   },
   {
    "duration": 15,
    "start_time": "2022-07-05T20:30:36.325Z"
   },
   {
    "duration": 69,
    "start_time": "2022-07-05T20:30:36.342Z"
   },
   {
    "duration": 4,
    "start_time": "2022-07-05T20:30:36.413Z"
   },
   {
    "duration": 14,
    "start_time": "2022-07-05T20:30:36.419Z"
   },
   {
    "duration": 21,
    "start_time": "2022-07-05T20:30:36.434Z"
   },
   {
    "duration": 66,
    "start_time": "2022-07-05T20:30:36.457Z"
   },
   {
    "duration": 9,
    "start_time": "2022-07-05T20:30:36.525Z"
   },
   {
    "duration": 49,
    "start_time": "2022-07-05T20:30:36.536Z"
   },
   {
    "duration": 37,
    "start_time": "2022-07-05T20:30:36.589Z"
   },
   {
    "duration": 7,
    "start_time": "2022-07-05T20:30:36.628Z"
   },
   {
    "duration": 62,
    "start_time": "2022-07-05T20:30:36.637Z"
   },
   {
    "duration": 23,
    "start_time": "2022-07-05T20:30:36.701Z"
   },
   {
    "duration": 9,
    "start_time": "2022-07-05T20:30:36.725Z"
   },
   {
    "duration": 93,
    "start_time": "2022-07-05T20:30:36.736Z"
   },
   {
    "duration": 3,
    "start_time": "2022-07-05T20:30:36.830Z"
   },
   {
    "duration": 25,
    "start_time": "2022-07-05T20:30:36.835Z"
   },
   {
    "duration": 63,
    "start_time": "2022-07-05T20:30:36.862Z"
   },
   {
    "duration": 23,
    "start_time": "2022-07-05T20:30:36.927Z"
   },
   {
    "duration": 76,
    "start_time": "2022-07-05T20:30:40.310Z"
   },
   {
    "duration": 24,
    "start_time": "2022-07-05T20:30:40.390Z"
   },
   {
    "duration": 19,
    "start_time": "2022-07-05T20:30:40.416Z"
   },
   {
    "duration": 27,
    "start_time": "2022-07-05T20:30:40.438Z"
   },
   {
    "duration": 86,
    "start_time": "2022-07-05T20:30:40.472Z"
   },
   {
    "duration": 6,
    "start_time": "2022-07-05T20:30:40.571Z"
   },
   {
    "duration": 42,
    "start_time": "2022-07-05T20:30:40.578Z"
   },
   {
    "duration": 5,
    "start_time": "2022-07-05T20:30:40.622Z"
   },
   {
    "duration": 11,
    "start_time": "2022-07-05T20:30:40.629Z"
   },
   {
    "duration": 75,
    "start_time": "2022-07-05T20:30:40.642Z"
   },
   {
    "duration": 78,
    "start_time": "2022-07-05T20:30:40.719Z"
   },
   {
    "duration": 21,
    "start_time": "2022-07-05T20:30:40.808Z"
   },
   {
    "duration": 4,
    "start_time": "2022-07-05T20:30:40.833Z"
   },
   {
    "duration": 78,
    "start_time": "2022-07-05T20:30:40.841Z"
   },
   {
    "duration": 20,
    "start_time": "2022-07-05T20:30:40.921Z"
   },
   {
    "duration": 21,
    "start_time": "2022-07-05T20:30:40.947Z"
   },
   {
    "duration": 41,
    "start_time": "2022-07-05T20:30:40.969Z"
   },
   {
    "duration": 18,
    "start_time": "2022-07-05T20:30:41.012Z"
   },
   {
    "duration": 8,
    "start_time": "2022-07-05T20:30:41.032Z"
   },
   {
    "duration": 40,
    "start_time": "2022-07-05T20:30:41.043Z"
   },
   {
    "duration": 30,
    "start_time": "2022-07-05T20:30:41.085Z"
   },
   {
    "duration": 4,
    "start_time": "2022-07-05T20:30:41.117Z"
   },
   {
    "duration": 31,
    "start_time": "2022-07-05T20:30:41.124Z"
   },
   {
    "duration": 25,
    "start_time": "2022-07-05T20:30:41.162Z"
   },
   {
    "duration": 24,
    "start_time": "2022-07-05T20:30:41.193Z"
   },
   {
    "duration": 26,
    "start_time": "2022-07-05T20:30:41.219Z"
   },
   {
    "duration": 29,
    "start_time": "2022-07-05T20:30:41.247Z"
   },
   {
    "duration": 34,
    "start_time": "2022-07-05T20:30:41.278Z"
   },
   {
    "duration": 20,
    "start_time": "2022-07-05T20:30:41.314Z"
   },
   {
    "duration": 21,
    "start_time": "2022-07-05T20:30:41.336Z"
   },
   {
    "duration": 79,
    "start_time": "2022-07-05T20:30:41.359Z"
   },
   {
    "duration": 16,
    "start_time": "2022-07-05T20:30:41.439Z"
   },
   {
    "duration": 65,
    "start_time": "2022-07-05T20:30:41.469Z"
   },
   {
    "duration": 13,
    "start_time": "2022-07-05T20:30:41.536Z"
   },
   {
    "duration": 73,
    "start_time": "2022-07-05T20:30:41.551Z"
   },
   {
    "duration": 69,
    "start_time": "2022-07-05T20:31:19.492Z"
   },
   {
    "duration": 19,
    "start_time": "2022-07-05T20:31:19.563Z"
   },
   {
    "duration": 38,
    "start_time": "2022-07-05T20:31:19.584Z"
   },
   {
    "duration": 9,
    "start_time": "2022-07-05T20:31:19.624Z"
   },
   {
    "duration": 48,
    "start_time": "2022-07-05T20:31:19.635Z"
   },
   {
    "duration": 33,
    "start_time": "2022-07-05T20:31:19.685Z"
   },
   {
    "duration": 15,
    "start_time": "2022-07-05T20:31:19.720Z"
   },
   {
    "duration": 8,
    "start_time": "2022-07-05T20:31:19.737Z"
   },
   {
    "duration": 56,
    "start_time": "2022-07-05T20:31:19.751Z"
   },
   {
    "duration": 7,
    "start_time": "2022-07-05T20:31:19.809Z"
   },
   {
    "duration": 63,
    "start_time": "2022-07-05T20:31:19.817Z"
   },
   {
    "duration": 13,
    "start_time": "2022-07-05T20:31:19.882Z"
   },
   {
    "duration": 12,
    "start_time": "2022-07-05T20:31:19.897Z"
   },
   {
    "duration": 19,
    "start_time": "2022-07-05T20:31:19.911Z"
   },
   {
    "duration": 20,
    "start_time": "2022-07-05T20:31:19.932Z"
   },
   {
    "duration": 30,
    "start_time": "2022-07-05T20:31:19.954Z"
   },
   {
    "duration": 22,
    "start_time": "2022-07-05T20:31:19.986Z"
   },
   {
    "duration": 19,
    "start_time": "2022-07-05T20:31:20.010Z"
   },
   {
    "duration": 11,
    "start_time": "2022-07-05T20:31:20.030Z"
   },
   {
    "duration": 59,
    "start_time": "2022-07-05T20:31:20.044Z"
   },
   {
    "duration": 14,
    "start_time": "2022-07-05T20:31:20.105Z"
   },
   {
    "duration": 5,
    "start_time": "2022-07-05T20:31:20.121Z"
   },
   {
    "duration": 35,
    "start_time": "2022-07-05T20:31:20.128Z"
   },
   {
    "duration": 11,
    "start_time": "2022-07-05T20:31:20.167Z"
   },
   {
    "duration": 81,
    "start_time": "2022-07-05T20:50:14.210Z"
   },
   {
    "duration": 26,
    "start_time": "2022-07-05T20:50:14.294Z"
   },
   {
    "duration": 71,
    "start_time": "2022-07-05T20:50:14.322Z"
   },
   {
    "duration": 17,
    "start_time": "2022-07-05T20:50:14.395Z"
   },
   {
    "duration": 101,
    "start_time": "2022-07-05T20:50:14.415Z"
   },
   {
    "duration": 4,
    "start_time": "2022-07-05T20:50:14.518Z"
   },
   {
    "duration": 30,
    "start_time": "2022-07-05T20:50:14.526Z"
   },
   {
    "duration": 56,
    "start_time": "2022-07-05T20:50:14.559Z"
   },
   {
    "duration": 11,
    "start_time": "2022-07-05T20:50:14.618Z"
   },
   {
    "duration": 30,
    "start_time": "2022-07-05T20:50:14.632Z"
   },
   {
    "duration": 103,
    "start_time": "2022-07-05T20:50:14.664Z"
   },
   {
    "duration": 13,
    "start_time": "2022-07-05T20:50:14.772Z"
   },
   {
    "duration": 50,
    "start_time": "2022-07-05T20:50:14.787Z"
   },
   {
    "duration": 58,
    "start_time": "2022-07-05T20:50:14.843Z"
   },
   {
    "duration": 38,
    "start_time": "2022-07-05T20:50:14.902Z"
   },
   {
    "duration": 71,
    "start_time": "2022-07-05T20:50:14.942Z"
   },
   {
    "duration": 21,
    "start_time": "2022-07-05T20:50:15.017Z"
   },
   {
    "duration": 52,
    "start_time": "2022-07-05T20:50:15.040Z"
   },
   {
    "duration": 18,
    "start_time": "2022-07-05T20:50:15.095Z"
   },
   {
    "duration": 13,
    "start_time": "2022-07-05T20:50:15.115Z"
   },
   {
    "duration": 17,
    "start_time": "2022-07-05T20:50:15.130Z"
   },
   {
    "duration": 27,
    "start_time": "2022-07-05T20:50:15.151Z"
   },
   {
    "duration": 27,
    "start_time": "2022-07-05T20:50:15.180Z"
   },
   {
    "duration": 12,
    "start_time": "2022-07-05T20:50:15.209Z"
   },
   {
    "duration": 13,
    "start_time": "2022-07-05T20:50:15.223Z"
   },
   {
    "duration": 21,
    "start_time": "2022-07-05T20:50:15.238Z"
   },
   {
    "duration": 24,
    "start_time": "2022-07-05T20:50:15.264Z"
   },
   {
    "duration": 35,
    "start_time": "2022-07-05T20:50:15.290Z"
   },
   {
    "duration": 9,
    "start_time": "2022-07-05T20:50:15.328Z"
   },
   {
    "duration": 42,
    "start_time": "2022-07-05T20:50:15.339Z"
   },
   {
    "duration": 53,
    "start_time": "2022-07-05T20:50:15.383Z"
   },
   {
    "duration": 0,
    "start_time": "2022-07-05T20:50:15.439Z"
   },
   {
    "duration": 0,
    "start_time": "2022-07-05T20:50:15.440Z"
   },
   {
    "duration": 0,
    "start_time": "2022-07-05T20:50:15.441Z"
   },
   {
    "duration": 0,
    "start_time": "2022-07-05T20:50:15.442Z"
   },
   {
    "duration": 0,
    "start_time": "2022-07-05T20:50:15.443Z"
   },
   {
    "duration": 0,
    "start_time": "2022-07-05T20:50:15.446Z"
   },
   {
    "duration": 0,
    "start_time": "2022-07-05T20:50:15.448Z"
   },
   {
    "duration": 0,
    "start_time": "2022-07-05T20:50:15.451Z"
   },
   {
    "duration": 0,
    "start_time": "2022-07-05T20:50:15.452Z"
   },
   {
    "duration": 65,
    "start_time": "2022-07-05T20:52:55.370Z"
   },
   {
    "duration": 20,
    "start_time": "2022-07-05T20:52:55.437Z"
   },
   {
    "duration": 37,
    "start_time": "2022-07-05T20:52:55.459Z"
   },
   {
    "duration": 14,
    "start_time": "2022-07-05T20:52:55.498Z"
   },
   {
    "duration": 51,
    "start_time": "2022-07-05T20:52:55.515Z"
   },
   {
    "duration": 8,
    "start_time": "2022-07-05T20:52:55.568Z"
   },
   {
    "duration": 25,
    "start_time": "2022-07-05T20:52:55.578Z"
   },
   {
    "duration": 14,
    "start_time": "2022-07-05T20:52:55.605Z"
   },
   {
    "duration": 17,
    "start_time": "2022-07-05T20:52:55.621Z"
   },
   {
    "duration": 24,
    "start_time": "2022-07-05T20:52:55.640Z"
   },
   {
    "duration": 59,
    "start_time": "2022-07-05T20:52:55.666Z"
   },
   {
    "duration": 16,
    "start_time": "2022-07-05T20:52:55.728Z"
   },
   {
    "duration": 33,
    "start_time": "2022-07-05T20:52:55.747Z"
   },
   {
    "duration": 24,
    "start_time": "2022-07-05T20:52:55.785Z"
   },
   {
    "duration": 23,
    "start_time": "2022-07-05T20:52:55.811Z"
   },
   {
    "duration": 21,
    "start_time": "2022-07-05T20:52:55.837Z"
   },
   {
    "duration": 12,
    "start_time": "2022-07-05T20:52:55.865Z"
   },
   {
    "duration": 15,
    "start_time": "2022-07-05T20:52:55.879Z"
   },
   {
    "duration": 14,
    "start_time": "2022-07-05T20:52:55.896Z"
   },
   {
    "duration": 6,
    "start_time": "2022-07-05T20:52:55.912Z"
   },
   {
    "duration": 19,
    "start_time": "2022-07-05T20:52:55.919Z"
   },
   {
    "duration": 26,
    "start_time": "2022-07-05T20:52:55.940Z"
   },
   {
    "duration": 23,
    "start_time": "2022-07-05T20:52:55.968Z"
   },
   {
    "duration": 7,
    "start_time": "2022-07-05T20:52:55.993Z"
   },
   {
    "duration": 20,
    "start_time": "2022-07-05T20:52:56.001Z"
   },
   {
    "duration": 12,
    "start_time": "2022-07-05T20:52:56.022Z"
   },
   {
    "duration": 32,
    "start_time": "2022-07-05T20:52:56.036Z"
   },
   {
    "duration": 9,
    "start_time": "2022-07-05T20:52:56.069Z"
   },
   {
    "duration": 17,
    "start_time": "2022-07-05T20:52:56.080Z"
   },
   {
    "duration": 52,
    "start_time": "2022-07-05T20:52:56.098Z"
   },
   {
    "duration": 0,
    "start_time": "2022-07-05T20:52:56.151Z"
   },
   {
    "duration": 0,
    "start_time": "2022-07-05T20:52:56.153Z"
   },
   {
    "duration": 0,
    "start_time": "2022-07-05T20:52:56.154Z"
   },
   {
    "duration": 0,
    "start_time": "2022-07-05T20:52:56.156Z"
   },
   {
    "duration": 0,
    "start_time": "2022-07-05T20:52:56.160Z"
   },
   {
    "duration": 0,
    "start_time": "2022-07-05T20:52:56.162Z"
   },
   {
    "duration": 0,
    "start_time": "2022-07-05T20:52:56.164Z"
   },
   {
    "duration": 0,
    "start_time": "2022-07-05T20:52:56.165Z"
   },
   {
    "duration": 0,
    "start_time": "2022-07-05T20:52:56.166Z"
   },
   {
    "duration": 62,
    "start_time": "2022-07-05T20:57:22.946Z"
   },
   {
    "duration": 33,
    "start_time": "2022-07-05T20:57:23.010Z"
   },
   {
    "duration": 28,
    "start_time": "2022-07-05T20:57:23.047Z"
   },
   {
    "duration": 9,
    "start_time": "2022-07-05T20:57:23.077Z"
   },
   {
    "duration": 38,
    "start_time": "2022-07-05T20:57:23.088Z"
   },
   {
    "duration": 4,
    "start_time": "2022-07-05T20:57:23.128Z"
   },
   {
    "duration": 14,
    "start_time": "2022-07-05T20:57:23.145Z"
   },
   {
    "duration": 10,
    "start_time": "2022-07-05T20:57:23.160Z"
   },
   {
    "duration": 13,
    "start_time": "2022-07-05T20:57:23.172Z"
   },
   {
    "duration": 12,
    "start_time": "2022-07-05T20:57:23.188Z"
   },
   {
    "duration": 55,
    "start_time": "2022-07-05T20:57:23.202Z"
   },
   {
    "duration": 10,
    "start_time": "2022-07-05T20:57:23.259Z"
   },
   {
    "duration": 9,
    "start_time": "2022-07-05T20:57:23.271Z"
   },
   {
    "duration": 22,
    "start_time": "2022-07-05T20:57:23.281Z"
   },
   {
    "duration": 20,
    "start_time": "2022-07-05T20:57:23.304Z"
   },
   {
    "duration": 30,
    "start_time": "2022-07-05T20:57:23.326Z"
   },
   {
    "duration": 10,
    "start_time": "2022-07-05T20:57:23.358Z"
   },
   {
    "duration": 12,
    "start_time": "2022-07-05T20:57:23.370Z"
   },
   {
    "duration": 11,
    "start_time": "2022-07-05T20:57:23.384Z"
   },
   {
    "duration": 4,
    "start_time": "2022-07-05T20:57:23.396Z"
   },
   {
    "duration": 15,
    "start_time": "2022-07-05T20:57:23.401Z"
   },
   {
    "duration": 5,
    "start_time": "2022-07-05T20:57:23.418Z"
   },
   {
    "duration": 44,
    "start_time": "2022-07-05T20:57:23.442Z"
   },
   {
    "duration": 7,
    "start_time": "2022-07-05T20:57:23.488Z"
   },
   {
    "duration": 14,
    "start_time": "2022-07-05T20:57:23.496Z"
   },
   {
    "duration": 54,
    "start_time": "2022-07-05T20:57:23.512Z"
   },
   {
    "duration": 0,
    "start_time": "2022-07-05T20:57:23.568Z"
   },
   {
    "duration": 0,
    "start_time": "2022-07-05T20:57:23.569Z"
   },
   {
    "duration": 0,
    "start_time": "2022-07-05T20:57:23.570Z"
   },
   {
    "duration": 0,
    "start_time": "2022-07-05T20:57:23.571Z"
   },
   {
    "duration": 0,
    "start_time": "2022-07-05T20:57:23.573Z"
   },
   {
    "duration": 0,
    "start_time": "2022-07-05T20:57:23.574Z"
   },
   {
    "duration": 0,
    "start_time": "2022-07-05T20:57:23.576Z"
   },
   {
    "duration": 0,
    "start_time": "2022-07-05T20:57:23.577Z"
   },
   {
    "duration": 0,
    "start_time": "2022-07-05T20:57:23.578Z"
   },
   {
    "duration": 1,
    "start_time": "2022-07-05T20:57:23.579Z"
   },
   {
    "duration": 0,
    "start_time": "2022-07-05T20:57:23.581Z"
   },
   {
    "duration": 0,
    "start_time": "2022-07-05T20:57:23.582Z"
   },
   {
    "duration": 0,
    "start_time": "2022-07-05T20:57:23.584Z"
   },
   {
    "duration": 0,
    "start_time": "2022-07-05T20:57:23.585Z"
   },
   {
    "duration": 0,
    "start_time": "2022-07-05T20:57:23.587Z"
   },
   {
    "duration": 53,
    "start_time": "2022-07-05T20:58:55.138Z"
   },
   {
    "duration": 57,
    "start_time": "2022-07-05T20:59:02.308Z"
   },
   {
    "duration": 51,
    "start_time": "2022-07-05T21:00:35.266Z"
   },
   {
    "duration": 60,
    "start_time": "2022-07-05T21:03:33.217Z"
   },
   {
    "duration": 16,
    "start_time": "2022-07-05T21:03:33.280Z"
   },
   {
    "duration": 17,
    "start_time": "2022-07-05T21:03:33.298Z"
   },
   {
    "duration": 33,
    "start_time": "2022-07-05T21:03:33.316Z"
   },
   {
    "duration": 49,
    "start_time": "2022-07-05T21:03:33.352Z"
   },
   {
    "duration": 4,
    "start_time": "2022-07-05T21:03:33.403Z"
   },
   {
    "duration": 20,
    "start_time": "2022-07-05T21:03:33.408Z"
   },
   {
    "duration": 15,
    "start_time": "2022-07-05T21:03:33.430Z"
   },
   {
    "duration": 18,
    "start_time": "2022-07-05T21:03:33.447Z"
   },
   {
    "duration": 22,
    "start_time": "2022-07-05T21:03:33.467Z"
   },
   {
    "duration": 69,
    "start_time": "2022-07-05T21:03:33.491Z"
   },
   {
    "duration": 9,
    "start_time": "2022-07-05T21:03:33.562Z"
   },
   {
    "duration": 28,
    "start_time": "2022-07-05T21:03:33.573Z"
   },
   {
    "duration": 46,
    "start_time": "2022-07-05T21:03:33.605Z"
   },
   {
    "duration": 22,
    "start_time": "2022-07-05T21:03:33.653Z"
   },
   {
    "duration": 14,
    "start_time": "2022-07-05T21:03:33.676Z"
   },
   {
    "duration": 12,
    "start_time": "2022-07-05T21:03:33.692Z"
   },
   {
    "duration": 26,
    "start_time": "2022-07-05T21:03:33.706Z"
   },
   {
    "duration": 19,
    "start_time": "2022-07-05T21:03:33.734Z"
   },
   {
    "duration": 10,
    "start_time": "2022-07-05T21:03:33.756Z"
   },
   {
    "duration": 19,
    "start_time": "2022-07-05T21:03:33.768Z"
   },
   {
    "duration": 11,
    "start_time": "2022-07-05T21:03:33.789Z"
   },
   {
    "duration": 40,
    "start_time": "2022-07-05T21:03:33.802Z"
   },
   {
    "duration": 19,
    "start_time": "2022-07-05T21:03:33.844Z"
   },
   {
    "duration": 31,
    "start_time": "2022-07-05T21:03:33.865Z"
   },
   {
    "duration": 23,
    "start_time": "2022-07-05T21:03:33.898Z"
   },
   {
    "duration": 35,
    "start_time": "2022-07-05T21:03:33.923Z"
   },
   {
    "duration": 20,
    "start_time": "2022-07-05T21:03:33.960Z"
   },
   {
    "duration": 24,
    "start_time": "2022-07-05T21:03:33.982Z"
   },
   {
    "duration": 61,
    "start_time": "2022-07-05T21:03:34.007Z"
   },
   {
    "duration": 0,
    "start_time": "2022-07-05T21:03:34.070Z"
   },
   {
    "duration": 0,
    "start_time": "2022-07-05T21:03:34.071Z"
   },
   {
    "duration": 0,
    "start_time": "2022-07-05T21:03:34.072Z"
   },
   {
    "duration": 0,
    "start_time": "2022-07-05T21:03:34.074Z"
   },
   {
    "duration": 0,
    "start_time": "2022-07-05T21:03:34.075Z"
   },
   {
    "duration": 0,
    "start_time": "2022-07-05T21:03:34.078Z"
   },
   {
    "duration": 0,
    "start_time": "2022-07-05T21:03:34.081Z"
   },
   {
    "duration": 0,
    "start_time": "2022-07-05T21:03:34.082Z"
   },
   {
    "duration": 0,
    "start_time": "2022-07-05T21:03:34.083Z"
   },
   {
    "duration": 2,
    "start_time": "2022-07-05T21:03:53.936Z"
   },
   {
    "duration": 20,
    "start_time": "2022-07-05T21:03:53.940Z"
   },
   {
    "duration": 6,
    "start_time": "2022-07-05T21:03:53.962Z"
   },
   {
    "duration": 20,
    "start_time": "2022-07-05T21:03:53.970Z"
   },
   {
    "duration": 53,
    "start_time": "2022-07-05T21:03:53.992Z"
   },
   {
    "duration": 3,
    "start_time": "2022-07-05T21:03:54.048Z"
   },
   {
    "duration": 29,
    "start_time": "2022-07-05T21:03:54.053Z"
   },
   {
    "duration": 7,
    "start_time": "2022-07-05T21:03:54.083Z"
   },
   {
    "duration": 12,
    "start_time": "2022-07-05T21:03:54.092Z"
   }
  ],
  "celltoolbar": "Необработанный формат ячейки",
  "colab": {
   "name": "dpp_template_part2.ipynb",
   "provenance": []
  },
  "kernelspec": {
   "display_name": "Python 3 (ipykernel)",
   "language": "python",
   "name": "python3"
  },
  "language_info": {
   "codemirror_mode": {
    "name": "ipython",
    "version": 3
   },
   "file_extension": ".py",
   "mimetype": "text/x-python",
   "name": "python",
   "nbconvert_exporter": "python",
   "pygments_lexer": "ipython3",
   "version": "3.9.5"
  },
  "toc": {
   "base_numbering": 1,
   "nav_menu": {},
   "number_sections": true,
   "sideBar": true,
   "skip_h1_title": true,
   "title_cell": "Table of Contents",
   "title_sidebar": "Contents",
   "toc_cell": false,
   "toc_position": {},
   "toc_section_display": true,
   "toc_window_display": true
  }
 },
 "nbformat": 4,
 "nbformat_minor": 5
}
